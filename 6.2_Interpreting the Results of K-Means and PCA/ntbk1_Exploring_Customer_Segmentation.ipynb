{
 "cells": [
  {
   "metadata": {},
   "cell_type": "markdown",
   "source": [
    "### Exploring Customer Segmentation\n",
    "\n",
    "In this activity, you are tasked with profiling customer groups for a large telecommunications company.  The data provided contains information on customers purchasing and useage behavior with the telecom products.  Your goal is to use PCA and clustering to segment these customers into meaningful groups, and report back your findings.  \n",
    "\n",
    "Because these results need to be interpretable, it is important to keep the number of clusters reasonable.  Think about how you might represent some of the non-numeric features so that they can be included in your segmentation models.  You are to report back your approach and findings to the class.  Be specific about what features were used and how you interpret the resulting clusters.\n",
    "\n",
    "## Introduction\n",
    "This notebook explores customer segmentation for a telecommunications company using Principal Component Analysis (PCA) and clustering techniques. We'll analyze customer data to identify meaningful segments based on purchasing and usage behavior. The goal is to create interpretable customer groups that can inform business strategies and marketing efforts."
   ]
  },
  {
   "metadata": {},
   "cell_type": "markdown",
   "source": [
    "## Library Imports\n",
    "In this section, we import all the necessary libraries for our analysis:\n",
    "- **matplotlib.pyplot and seaborn**: For data visualization\n",
    "- **numpy and pandas**: For data manipulation and analysis\n",
    "- **plotly.express**: For interactive visualizations\n",
    "- **sklearn.cluster**: For KMeans and DBSCAN clustering algorithms\n",
    "- **sklearn.decomposition**: For Principal Component Analysis (PCA)\n",
    "- **sklearn.preprocessing**: For data preprocessing (StandardScaler, OrdinalEncoder, LabelEncoder)\n"
   ]
  },
  {
   "metadata": {
    "ExecuteTime": {
     "end_time": "2025-05-24T14:32:19.032489Z",
     "start_time": "2025-05-24T14:32:19.029605Z"
    }
   },
   "cell_type": "code",
   "source": [
    "import matplotlib.pyplot as plt\n",
    "import numpy as np\n",
    "import pandas as pd\n",
    "import seaborn as sns\n",
    "import plotly.express as px \n",
    "from sklearn.cluster import KMeans, DBSCAN\n",
    "from sklearn.decomposition import PCA\n",
    "from sklearn.preprocessing import StandardScaler\n",
    "from sklearn.preprocessing import OrdinalEncoder, LabelEncoder"
   ],
   "outputs": [],
   "execution_count": 122
  },
  {
   "metadata": {},
   "cell_type": "markdown",
   "source": [
    "## Data Loading and Exploration\n",
    "In this section, we load the telecommunications customer data from a CSV file and perform initial exploratory data analysis to understand the dataset's structure and content.\n"
   ]
  },
  {
   "metadata": {
    "ExecuteTime": {
     "end_time": "2025-05-24T14:32:19.130929Z",
     "start_time": "2025-05-24T14:32:19.086870Z"
    }
   },
   "cell_type": "code",
   "source": [
    "# Load the telecommunications customer data\n",
    "df = pd.read_csv('data/telco_churn_data.csv')\n"
   ],
   "outputs": [],
   "execution_count": 123
  },
  {
   "metadata": {},
   "cell_type": "markdown",
   "source": [
    "### Data Preview\n",
    "Let's examine the first few rows of the dataset to understand its structure.\n"
   ]
  },
  {
   "metadata": {
    "ExecuteTime": {
     "end_time": "2025-05-24T14:32:19.182182Z",
     "start_time": "2025-05-24T14:32:19.169299Z"
    }
   },
   "cell_type": "code",
   "source": [
    "# Display the first 5 rows of the dataset\n",
    "df.head()\n"
   ],
   "outputs": [
    {
     "data": {
      "text/plain": [
       "  Customer ID Referred a Friend  Number of Referrals  Tenure in Months  \\\n",
       "0  8779-QRDMV                No                    0                 1   \n",
       "1  7495-OOKFY               Yes                    1                 8   \n",
       "2  1658-BYGOY                No                    0                18   \n",
       "3  4598-XLKNJ               Yes                    1                25   \n",
       "4  4846-WHAFZ               Yes                    1                37   \n",
       "\n",
       "     Offer Phone Service  Avg Monthly Long Distance Charges Multiple Lines  \\\n",
       "0      NaN            No                               0.00             No   \n",
       "1  Offer E           Yes                              48.85            Yes   \n",
       "2  Offer D           Yes                              11.33            Yes   \n",
       "3  Offer C           Yes                              19.76             No   \n",
       "4  Offer C           Yes                               6.33            Yes   \n",
       "\n",
       "  Internet Service Internet Type  ...   Latitude   Longitude Population  \\\n",
       "0              Yes   Fiber Optic  ...  34.023810 -118.156582      68701   \n",
       "1              Yes         Cable  ...  34.044271 -118.185237      55668   \n",
       "2              Yes   Fiber Optic  ...  34.108833 -118.229715      47534   \n",
       "3              Yes   Fiber Optic  ...  33.936291 -118.332639      27778   \n",
       "4              Yes         Cable  ...  33.972119 -118.020188      26265   \n",
       "\n",
       "  Churn Value  CLTV   Churn Category                  Churn Reason  \\\n",
       "0           1  5433       Competitor  Competitor offered more data   \n",
       "1           1  5302       Competitor  Competitor made better offer   \n",
       "2           1  3179       Competitor  Competitor made better offer   \n",
       "3           1  5337  Dissatisfaction     Limited range of services   \n",
       "4           1  2793            Price            Extra data charges   \n",
       "\n",
       "  Total Customer Svc Requests Product/Service Issues Reported  \\\n",
       "0                           5                               0   \n",
       "1                           5                               0   \n",
       "2                           1                               0   \n",
       "3                           1                               1   \n",
       "4                           1                               0   \n",
       "\n",
       "  Customer Satisfaction  \n",
       "0                   NaN  \n",
       "1                   NaN  \n",
       "2                   NaN  \n",
       "3                   2.0  \n",
       "4                   2.0  \n",
       "\n",
       "[5 rows x 46 columns]"
      ],
      "text/html": [
       "<div>\n",
       "<style scoped>\n",
       "    .dataframe tbody tr th:only-of-type {\n",
       "        vertical-align: middle;\n",
       "    }\n",
       "\n",
       "    .dataframe tbody tr th {\n",
       "        vertical-align: top;\n",
       "    }\n",
       "\n",
       "    .dataframe thead th {\n",
       "        text-align: right;\n",
       "    }\n",
       "</style>\n",
       "<table border=\"1\" class=\"dataframe\">\n",
       "  <thead>\n",
       "    <tr style=\"text-align: right;\">\n",
       "      <th></th>\n",
       "      <th>Customer ID</th>\n",
       "      <th>Referred a Friend</th>\n",
       "      <th>Number of Referrals</th>\n",
       "      <th>Tenure in Months</th>\n",
       "      <th>Offer</th>\n",
       "      <th>Phone Service</th>\n",
       "      <th>Avg Monthly Long Distance Charges</th>\n",
       "      <th>Multiple Lines</th>\n",
       "      <th>Internet Service</th>\n",
       "      <th>Internet Type</th>\n",
       "      <th>...</th>\n",
       "      <th>Latitude</th>\n",
       "      <th>Longitude</th>\n",
       "      <th>Population</th>\n",
       "      <th>Churn Value</th>\n",
       "      <th>CLTV</th>\n",
       "      <th>Churn Category</th>\n",
       "      <th>Churn Reason</th>\n",
       "      <th>Total Customer Svc Requests</th>\n",
       "      <th>Product/Service Issues Reported</th>\n",
       "      <th>Customer Satisfaction</th>\n",
       "    </tr>\n",
       "  </thead>\n",
       "  <tbody>\n",
       "    <tr>\n",
       "      <th>0</th>\n",
       "      <td>8779-QRDMV</td>\n",
       "      <td>No</td>\n",
       "      <td>0</td>\n",
       "      <td>1</td>\n",
       "      <td>NaN</td>\n",
       "      <td>No</td>\n",
       "      <td>0.00</td>\n",
       "      <td>No</td>\n",
       "      <td>Yes</td>\n",
       "      <td>Fiber Optic</td>\n",
       "      <td>...</td>\n",
       "      <td>34.023810</td>\n",
       "      <td>-118.156582</td>\n",
       "      <td>68701</td>\n",
       "      <td>1</td>\n",
       "      <td>5433</td>\n",
       "      <td>Competitor</td>\n",
       "      <td>Competitor offered more data</td>\n",
       "      <td>5</td>\n",
       "      <td>0</td>\n",
       "      <td>NaN</td>\n",
       "    </tr>\n",
       "    <tr>\n",
       "      <th>1</th>\n",
       "      <td>7495-OOKFY</td>\n",
       "      <td>Yes</td>\n",
       "      <td>1</td>\n",
       "      <td>8</td>\n",
       "      <td>Offer E</td>\n",
       "      <td>Yes</td>\n",
       "      <td>48.85</td>\n",
       "      <td>Yes</td>\n",
       "      <td>Yes</td>\n",
       "      <td>Cable</td>\n",
       "      <td>...</td>\n",
       "      <td>34.044271</td>\n",
       "      <td>-118.185237</td>\n",
       "      <td>55668</td>\n",
       "      <td>1</td>\n",
       "      <td>5302</td>\n",
       "      <td>Competitor</td>\n",
       "      <td>Competitor made better offer</td>\n",
       "      <td>5</td>\n",
       "      <td>0</td>\n",
       "      <td>NaN</td>\n",
       "    </tr>\n",
       "    <tr>\n",
       "      <th>2</th>\n",
       "      <td>1658-BYGOY</td>\n",
       "      <td>No</td>\n",
       "      <td>0</td>\n",
       "      <td>18</td>\n",
       "      <td>Offer D</td>\n",
       "      <td>Yes</td>\n",
       "      <td>11.33</td>\n",
       "      <td>Yes</td>\n",
       "      <td>Yes</td>\n",
       "      <td>Fiber Optic</td>\n",
       "      <td>...</td>\n",
       "      <td>34.108833</td>\n",
       "      <td>-118.229715</td>\n",
       "      <td>47534</td>\n",
       "      <td>1</td>\n",
       "      <td>3179</td>\n",
       "      <td>Competitor</td>\n",
       "      <td>Competitor made better offer</td>\n",
       "      <td>1</td>\n",
       "      <td>0</td>\n",
       "      <td>NaN</td>\n",
       "    </tr>\n",
       "    <tr>\n",
       "      <th>3</th>\n",
       "      <td>4598-XLKNJ</td>\n",
       "      <td>Yes</td>\n",
       "      <td>1</td>\n",
       "      <td>25</td>\n",
       "      <td>Offer C</td>\n",
       "      <td>Yes</td>\n",
       "      <td>19.76</td>\n",
       "      <td>No</td>\n",
       "      <td>Yes</td>\n",
       "      <td>Fiber Optic</td>\n",
       "      <td>...</td>\n",
       "      <td>33.936291</td>\n",
       "      <td>-118.332639</td>\n",
       "      <td>27778</td>\n",
       "      <td>1</td>\n",
       "      <td>5337</td>\n",
       "      <td>Dissatisfaction</td>\n",
       "      <td>Limited range of services</td>\n",
       "      <td>1</td>\n",
       "      <td>1</td>\n",
       "      <td>2.0</td>\n",
       "    </tr>\n",
       "    <tr>\n",
       "      <th>4</th>\n",
       "      <td>4846-WHAFZ</td>\n",
       "      <td>Yes</td>\n",
       "      <td>1</td>\n",
       "      <td>37</td>\n",
       "      <td>Offer C</td>\n",
       "      <td>Yes</td>\n",
       "      <td>6.33</td>\n",
       "      <td>Yes</td>\n",
       "      <td>Yes</td>\n",
       "      <td>Cable</td>\n",
       "      <td>...</td>\n",
       "      <td>33.972119</td>\n",
       "      <td>-118.020188</td>\n",
       "      <td>26265</td>\n",
       "      <td>1</td>\n",
       "      <td>2793</td>\n",
       "      <td>Price</td>\n",
       "      <td>Extra data charges</td>\n",
       "      <td>1</td>\n",
       "      <td>0</td>\n",
       "      <td>2.0</td>\n",
       "    </tr>\n",
       "  </tbody>\n",
       "</table>\n",
       "<p>5 rows × 46 columns</p>\n",
       "</div>"
      ]
     },
     "execution_count": 124,
     "metadata": {},
     "output_type": "execute_result"
    }
   ],
   "execution_count": 124
  },
  {
   "metadata": {},
   "cell_type": "markdown",
   "source": [
    "### Data Information\n",
    "Now we'll check the data types and missing values in our dataset.\n"
   ]
  },
  {
   "metadata": {
    "ExecuteTime": {
     "end_time": "2025-05-24T14:32:19.282840Z",
     "start_time": "2025-05-24T14:32:19.266198Z"
    }
   },
   "cell_type": "code",
   "source": [
    "# Display information about the dataset (data types, non-null values)\n",
    "df.info()\n"
   ],
   "outputs": [
    {
     "name": "stdout",
     "output_type": "stream",
     "text": [
      "<class 'pandas.core.frame.DataFrame'>\n",
      "RangeIndex: 7043 entries, 0 to 7042\n",
      "Data columns (total 46 columns):\n",
      " #   Column                             Non-Null Count  Dtype  \n",
      "---  ------                             --------------  -----  \n",
      " 0   Customer ID                        7043 non-null   object \n",
      " 1   Referred a Friend                  7043 non-null   object \n",
      " 2   Number of Referrals                7043 non-null   int64  \n",
      " 3   Tenure in Months                   7043 non-null   int64  \n",
      " 4   Offer                              3166 non-null   object \n",
      " 5   Phone Service                      7043 non-null   object \n",
      " 6   Avg Monthly Long Distance Charges  7043 non-null   float64\n",
      " 7   Multiple Lines                     7043 non-null   object \n",
      " 8   Internet Service                   7043 non-null   object \n",
      " 9   Internet Type                      5517 non-null   object \n",
      " 10  Avg Monthly GB Download            7043 non-null   int64  \n",
      " 11  Online Security                    7043 non-null   object \n",
      " 12  Online Backup                      7043 non-null   object \n",
      " 13  Device Protection Plan             7043 non-null   object \n",
      " 14  Premium Tech Support               7043 non-null   object \n",
      " 15  Streaming TV                       7043 non-null   object \n",
      " 16  Streaming Movies                   7043 non-null   object \n",
      " 17  Streaming Music                    7043 non-null   object \n",
      " 18  Unlimited Data                     7043 non-null   object \n",
      " 19  Contract                           7043 non-null   object \n",
      " 20  Paperless Billing                  7043 non-null   object \n",
      " 21  Payment Method                     7043 non-null   object \n",
      " 22  Monthly Charge                     7043 non-null   float64\n",
      " 23  Total Regular Charges              7043 non-null   float64\n",
      " 24  Total Refunds                      7043 non-null   float64\n",
      " 25  Total Extra Data Charges           7043 non-null   float64\n",
      " 26  Total Long Distance Charges        7043 non-null   float64\n",
      " 27  Gender                             7043 non-null   object \n",
      " 28  Age                                7043 non-null   int64  \n",
      " 29  Under 30                           7043 non-null   object \n",
      " 30  Senior Citizen                     7043 non-null   object \n",
      " 31  Married                            7043 non-null   object \n",
      " 32  Dependents                         7043 non-null   object \n",
      " 33  Number of Dependents               7043 non-null   int64  \n",
      " 34  City                               7043 non-null   object \n",
      " 35  Zip Code                           7043 non-null   int64  \n",
      " 36  Latitude                           7043 non-null   float64\n",
      " 37  Longitude                          7043 non-null   float64\n",
      " 38  Population                         7043 non-null   int64  \n",
      " 39  Churn Value                        7043 non-null   int64  \n",
      " 40  CLTV                               7043 non-null   int64  \n",
      " 41  Churn Category                     1869 non-null   object \n",
      " 42  Churn Reason                       1869 non-null   object \n",
      " 43  Total Customer Svc Requests        7043 non-null   int64  \n",
      " 44  Product/Service Issues Reported    7043 non-null   int64  \n",
      " 45  Customer Satisfaction              1834 non-null   float64\n",
      "dtypes: float64(9), int64(11), object(26)\n",
      "memory usage: 2.5+ MB\n"
     ]
    }
   ],
   "execution_count": 125
  },
  {
   "metadata": {},
   "cell_type": "markdown",
   "source": [
    "### Statistical Summary\n",
    "Let's examine the statistical summary of the numerical features in our dataset.\n"
   ]
  },
  {
   "metadata": {
    "ExecuteTime": {
     "end_time": "2025-05-24T14:32:19.407257Z",
     "start_time": "2025-05-24T14:32:19.365594Z"
    }
   },
   "cell_type": "code",
   "source": [
    "# Generate descriptive statistics of the dataset\n",
    "df.describe()"
   ],
   "outputs": [
    {
     "data": {
      "text/plain": [
       "       Number of Referrals  Tenure in Months  \\\n",
       "count          7043.000000       7043.000000   \n",
       "mean              1.951867         32.386767   \n",
       "std               3.001199         24.542061   \n",
       "min               0.000000          1.000000   \n",
       "25%               0.000000          9.000000   \n",
       "50%               0.000000         29.000000   \n",
       "75%               3.000000         55.000000   \n",
       "max              11.000000         72.000000   \n",
       "\n",
       "       Avg Monthly Long Distance Charges  Avg Monthly GB Download  \\\n",
       "count                        7043.000000              7043.000000   \n",
       "mean                           22.958954                21.110890   \n",
       "std                            15.448113                20.948471   \n",
       "min                             0.000000                 0.000000   \n",
       "25%                             9.210000                 3.000000   \n",
       "50%                            22.890000                17.000000   \n",
       "75%                            36.395000                28.000000   \n",
       "max                            49.990000                94.000000   \n",
       "\n",
       "       Monthly Charge  Total Regular Charges  Total Refunds  \\\n",
       "count     7043.000000            7043.000000    7043.000000   \n",
       "mean        65.538800            2280.381264       1.962182   \n",
       "std         30.606805            2266.220462       7.902614   \n",
       "min         18.250000              18.800000       0.000000   \n",
       "25%         35.890000             400.150000       0.000000   \n",
       "50%         71.968000            1394.550000       0.000000   \n",
       "75%         90.650000            3786.600000       0.000000   \n",
       "max        123.084000            8684.800000      49.790000   \n",
       "\n",
       "       Total Extra Data Charges  Total Long Distance Charges          Age  \\\n",
       "count               7043.000000                  7043.000000  7043.000000   \n",
       "mean                 278.499225                   749.099262    46.509726   \n",
       "std                  685.039625                   846.660055    16.750352   \n",
       "min                    0.000000                     0.000000    19.000000   \n",
       "25%                    0.000000                    70.545000    32.000000   \n",
       "50%                    0.000000                   401.440000    46.000000   \n",
       "75%                  182.620000                  1191.100000    60.000000   \n",
       "max                 6477.000000                  3564.720000    80.000000   \n",
       "\n",
       "       Number of Dependents      Zip Code     Latitude    Longitude  \\\n",
       "count           7043.000000   7043.000000  7043.000000  7043.000000   \n",
       "mean               0.468692  93486.070567    36.197455  -119.756684   \n",
       "std                0.962802   1856.767505     2.468929     2.154425   \n",
       "min                0.000000  90001.000000    32.555828  -124.301372   \n",
       "25%                0.000000  92101.000000    33.990646  -121.788090   \n",
       "50%                0.000000  93518.000000    36.205465  -119.595293   \n",
       "75%                0.000000  95329.000000    38.161321  -117.969795   \n",
       "max                9.000000  96150.000000    41.962127  -114.192901   \n",
       "\n",
       "          Population  Churn Value         CLTV  Total Customer Svc Requests  \\\n",
       "count    7043.000000  7043.000000  7043.000000                  7043.000000   \n",
       "mean    22139.603294     0.265370  4400.295755                     1.338776   \n",
       "std     21152.392837     0.441561  1183.057152                     1.430471   \n",
       "min        11.000000     0.000000  2003.000000                     0.000000   \n",
       "25%      2344.000000     0.000000  3469.000000                     0.000000   \n",
       "50%     17554.000000     0.000000  4527.000000                     1.000000   \n",
       "75%     36125.000000     1.000000  5380.500000                     2.000000   \n",
       "max    105285.000000     1.000000  6500.000000                     9.000000   \n",
       "\n",
       "       Product/Service Issues Reported  Customer Satisfaction  \n",
       "count                      7043.000000            1834.000000  \n",
       "mean                          0.308107               3.005453  \n",
       "std                           0.717514               1.256938  \n",
       "min                           0.000000               1.000000  \n",
       "25%                           0.000000               2.000000  \n",
       "50%                           0.000000               3.000000  \n",
       "75%                           0.000000               4.000000  \n",
       "max                           6.000000               5.000000  "
      ],
      "text/html": [
       "<div>\n",
       "<style scoped>\n",
       "    .dataframe tbody tr th:only-of-type {\n",
       "        vertical-align: middle;\n",
       "    }\n",
       "\n",
       "    .dataframe tbody tr th {\n",
       "        vertical-align: top;\n",
       "    }\n",
       "\n",
       "    .dataframe thead th {\n",
       "        text-align: right;\n",
       "    }\n",
       "</style>\n",
       "<table border=\"1\" class=\"dataframe\">\n",
       "  <thead>\n",
       "    <tr style=\"text-align: right;\">\n",
       "      <th></th>\n",
       "      <th>Number of Referrals</th>\n",
       "      <th>Tenure in Months</th>\n",
       "      <th>Avg Monthly Long Distance Charges</th>\n",
       "      <th>Avg Monthly GB Download</th>\n",
       "      <th>Monthly Charge</th>\n",
       "      <th>Total Regular Charges</th>\n",
       "      <th>Total Refunds</th>\n",
       "      <th>Total Extra Data Charges</th>\n",
       "      <th>Total Long Distance Charges</th>\n",
       "      <th>Age</th>\n",
       "      <th>Number of Dependents</th>\n",
       "      <th>Zip Code</th>\n",
       "      <th>Latitude</th>\n",
       "      <th>Longitude</th>\n",
       "      <th>Population</th>\n",
       "      <th>Churn Value</th>\n",
       "      <th>CLTV</th>\n",
       "      <th>Total Customer Svc Requests</th>\n",
       "      <th>Product/Service Issues Reported</th>\n",
       "      <th>Customer Satisfaction</th>\n",
       "    </tr>\n",
       "  </thead>\n",
       "  <tbody>\n",
       "    <tr>\n",
       "      <th>count</th>\n",
       "      <td>7043.000000</td>\n",
       "      <td>7043.000000</td>\n",
       "      <td>7043.000000</td>\n",
       "      <td>7043.000000</td>\n",
       "      <td>7043.000000</td>\n",
       "      <td>7043.000000</td>\n",
       "      <td>7043.000000</td>\n",
       "      <td>7043.000000</td>\n",
       "      <td>7043.000000</td>\n",
       "      <td>7043.000000</td>\n",
       "      <td>7043.000000</td>\n",
       "      <td>7043.000000</td>\n",
       "      <td>7043.000000</td>\n",
       "      <td>7043.000000</td>\n",
       "      <td>7043.000000</td>\n",
       "      <td>7043.000000</td>\n",
       "      <td>7043.000000</td>\n",
       "      <td>7043.000000</td>\n",
       "      <td>7043.000000</td>\n",
       "      <td>1834.000000</td>\n",
       "    </tr>\n",
       "    <tr>\n",
       "      <th>mean</th>\n",
       "      <td>1.951867</td>\n",
       "      <td>32.386767</td>\n",
       "      <td>22.958954</td>\n",
       "      <td>21.110890</td>\n",
       "      <td>65.538800</td>\n",
       "      <td>2280.381264</td>\n",
       "      <td>1.962182</td>\n",
       "      <td>278.499225</td>\n",
       "      <td>749.099262</td>\n",
       "      <td>46.509726</td>\n",
       "      <td>0.468692</td>\n",
       "      <td>93486.070567</td>\n",
       "      <td>36.197455</td>\n",
       "      <td>-119.756684</td>\n",
       "      <td>22139.603294</td>\n",
       "      <td>0.265370</td>\n",
       "      <td>4400.295755</td>\n",
       "      <td>1.338776</td>\n",
       "      <td>0.308107</td>\n",
       "      <td>3.005453</td>\n",
       "    </tr>\n",
       "    <tr>\n",
       "      <th>std</th>\n",
       "      <td>3.001199</td>\n",
       "      <td>24.542061</td>\n",
       "      <td>15.448113</td>\n",
       "      <td>20.948471</td>\n",
       "      <td>30.606805</td>\n",
       "      <td>2266.220462</td>\n",
       "      <td>7.902614</td>\n",
       "      <td>685.039625</td>\n",
       "      <td>846.660055</td>\n",
       "      <td>16.750352</td>\n",
       "      <td>0.962802</td>\n",
       "      <td>1856.767505</td>\n",
       "      <td>2.468929</td>\n",
       "      <td>2.154425</td>\n",
       "      <td>21152.392837</td>\n",
       "      <td>0.441561</td>\n",
       "      <td>1183.057152</td>\n",
       "      <td>1.430471</td>\n",
       "      <td>0.717514</td>\n",
       "      <td>1.256938</td>\n",
       "    </tr>\n",
       "    <tr>\n",
       "      <th>min</th>\n",
       "      <td>0.000000</td>\n",
       "      <td>1.000000</td>\n",
       "      <td>0.000000</td>\n",
       "      <td>0.000000</td>\n",
       "      <td>18.250000</td>\n",
       "      <td>18.800000</td>\n",
       "      <td>0.000000</td>\n",
       "      <td>0.000000</td>\n",
       "      <td>0.000000</td>\n",
       "      <td>19.000000</td>\n",
       "      <td>0.000000</td>\n",
       "      <td>90001.000000</td>\n",
       "      <td>32.555828</td>\n",
       "      <td>-124.301372</td>\n",
       "      <td>11.000000</td>\n",
       "      <td>0.000000</td>\n",
       "      <td>2003.000000</td>\n",
       "      <td>0.000000</td>\n",
       "      <td>0.000000</td>\n",
       "      <td>1.000000</td>\n",
       "    </tr>\n",
       "    <tr>\n",
       "      <th>25%</th>\n",
       "      <td>0.000000</td>\n",
       "      <td>9.000000</td>\n",
       "      <td>9.210000</td>\n",
       "      <td>3.000000</td>\n",
       "      <td>35.890000</td>\n",
       "      <td>400.150000</td>\n",
       "      <td>0.000000</td>\n",
       "      <td>0.000000</td>\n",
       "      <td>70.545000</td>\n",
       "      <td>32.000000</td>\n",
       "      <td>0.000000</td>\n",
       "      <td>92101.000000</td>\n",
       "      <td>33.990646</td>\n",
       "      <td>-121.788090</td>\n",
       "      <td>2344.000000</td>\n",
       "      <td>0.000000</td>\n",
       "      <td>3469.000000</td>\n",
       "      <td>0.000000</td>\n",
       "      <td>0.000000</td>\n",
       "      <td>2.000000</td>\n",
       "    </tr>\n",
       "    <tr>\n",
       "      <th>50%</th>\n",
       "      <td>0.000000</td>\n",
       "      <td>29.000000</td>\n",
       "      <td>22.890000</td>\n",
       "      <td>17.000000</td>\n",
       "      <td>71.968000</td>\n",
       "      <td>1394.550000</td>\n",
       "      <td>0.000000</td>\n",
       "      <td>0.000000</td>\n",
       "      <td>401.440000</td>\n",
       "      <td>46.000000</td>\n",
       "      <td>0.000000</td>\n",
       "      <td>93518.000000</td>\n",
       "      <td>36.205465</td>\n",
       "      <td>-119.595293</td>\n",
       "      <td>17554.000000</td>\n",
       "      <td>0.000000</td>\n",
       "      <td>4527.000000</td>\n",
       "      <td>1.000000</td>\n",
       "      <td>0.000000</td>\n",
       "      <td>3.000000</td>\n",
       "    </tr>\n",
       "    <tr>\n",
       "      <th>75%</th>\n",
       "      <td>3.000000</td>\n",
       "      <td>55.000000</td>\n",
       "      <td>36.395000</td>\n",
       "      <td>28.000000</td>\n",
       "      <td>90.650000</td>\n",
       "      <td>3786.600000</td>\n",
       "      <td>0.000000</td>\n",
       "      <td>182.620000</td>\n",
       "      <td>1191.100000</td>\n",
       "      <td>60.000000</td>\n",
       "      <td>0.000000</td>\n",
       "      <td>95329.000000</td>\n",
       "      <td>38.161321</td>\n",
       "      <td>-117.969795</td>\n",
       "      <td>36125.000000</td>\n",
       "      <td>1.000000</td>\n",
       "      <td>5380.500000</td>\n",
       "      <td>2.000000</td>\n",
       "      <td>0.000000</td>\n",
       "      <td>4.000000</td>\n",
       "    </tr>\n",
       "    <tr>\n",
       "      <th>max</th>\n",
       "      <td>11.000000</td>\n",
       "      <td>72.000000</td>\n",
       "      <td>49.990000</td>\n",
       "      <td>94.000000</td>\n",
       "      <td>123.084000</td>\n",
       "      <td>8684.800000</td>\n",
       "      <td>49.790000</td>\n",
       "      <td>6477.000000</td>\n",
       "      <td>3564.720000</td>\n",
       "      <td>80.000000</td>\n",
       "      <td>9.000000</td>\n",
       "      <td>96150.000000</td>\n",
       "      <td>41.962127</td>\n",
       "      <td>-114.192901</td>\n",
       "      <td>105285.000000</td>\n",
       "      <td>1.000000</td>\n",
       "      <td>6500.000000</td>\n",
       "      <td>9.000000</td>\n",
       "      <td>6.000000</td>\n",
       "      <td>5.000000</td>\n",
       "    </tr>\n",
       "  </tbody>\n",
       "</table>\n",
       "</div>"
      ]
     },
     "execution_count": 126,
     "metadata": {},
     "output_type": "execute_result"
    }
   ],
   "execution_count": 126
  },
  {
   "metadata": {},
   "cell_type": "markdown",
   "source": [
    "## Target Variable Identification\n",
    "Here we identify the target variable for our analysis, which is 'Churn Value'. This variable indicates whether a customer has churned (left the company) or not.\n"
   ]
  },
  {
   "metadata": {
    "ExecuteTime": {
     "end_time": "2025-05-24T14:32:19.536646Z",
     "start_time": "2025-05-24T14:32:19.528722Z"
    }
   },
   "cell_type": "code",
   "source": [
    "# Define the target variable\n",
    "txt_target_var = 'Churn Value'\n",
    "\n",
    "# Check the unique values of the target variable\n",
    "print(df[txt_target_var].unique()) # this is the target variable\n",
    "\n",
    "# Extract the target column for later use\n",
    "target_column = df[[txt_target_var]]\n",
    "\n",
    "# Preview the target column\n",
    "target_column.head()\n"
   ],
   "outputs": [
    {
     "name": "stdout",
     "output_type": "stream",
     "text": [
      "[1 0]\n"
     ]
    },
    {
     "data": {
      "text/plain": [
       "   Churn Value\n",
       "0            1\n",
       "1            1\n",
       "2            1\n",
       "3            1\n",
       "4            1"
      ],
      "text/html": [
       "<div>\n",
       "<style scoped>\n",
       "    .dataframe tbody tr th:only-of-type {\n",
       "        vertical-align: middle;\n",
       "    }\n",
       "\n",
       "    .dataframe tbody tr th {\n",
       "        vertical-align: top;\n",
       "    }\n",
       "\n",
       "    .dataframe thead th {\n",
       "        text-align: right;\n",
       "    }\n",
       "</style>\n",
       "<table border=\"1\" class=\"dataframe\">\n",
       "  <thead>\n",
       "    <tr style=\"text-align: right;\">\n",
       "      <th></th>\n",
       "      <th>Churn Value</th>\n",
       "    </tr>\n",
       "  </thead>\n",
       "  <tbody>\n",
       "    <tr>\n",
       "      <th>0</th>\n",
       "      <td>1</td>\n",
       "    </tr>\n",
       "    <tr>\n",
       "      <th>1</th>\n",
       "      <td>1</td>\n",
       "    </tr>\n",
       "    <tr>\n",
       "      <th>2</th>\n",
       "      <td>1</td>\n",
       "    </tr>\n",
       "    <tr>\n",
       "      <th>3</th>\n",
       "      <td>1</td>\n",
       "    </tr>\n",
       "    <tr>\n",
       "      <th>4</th>\n",
       "      <td>1</td>\n",
       "    </tr>\n",
       "  </tbody>\n",
       "</table>\n",
       "</div>"
      ]
     },
     "execution_count": 127,
     "metadata": {},
     "output_type": "execute_result"
    }
   ],
   "execution_count": 127
  },
  {
   "metadata": {},
   "cell_type": "markdown",
   "source": [
    "## Principal Component Analysis (PCA) Preparation\n",
    "In this section, we prepare for Principal Component Analysis (PCA) by selecting appropriate features.\n",
    "\n",
    "For PCA inputs, we focus on numeric continuous variables. Likert Scale variables (scales 1-5, 1-9) with values like 1 = 'Strongly Agree' and 5 = 'Strongly Disagree' are not optimal for PCA inputs because:\n",
    "1. These are technically ordered categories rather than continuous variables\n",
    "2. The categories don't have qualitative differences\n",
    "3. They represent discrete measurements about an underlying continuum\n",
    "\n",
    "While there's no perfect alternative for handling Likert Scale items in PCA, focusing on truly continuous variables provides more reliable results."
   ]
  },
  {
   "metadata": {},
   "cell_type": "markdown",
   "source": [
    "## Feature Selection for PCA\n",
    "Here we define a list of continuous numerical features that will be used as inputs for our PCA model. These features represent various aspects of customer behavior and demographics.\n"
   ]
  },
  {
   "metadata": {
    "ExecuteTime": {
     "end_time": "2025-05-24T14:32:19.682166Z",
     "start_time": "2025-05-24T14:32:19.668943Z"
    }
   },
   "cell_type": "code",
   "source": [
    "# Define the list of features for PCA\n",
    "pca_list = [\n",
    "    'Number of Referrals',\n",
    "    'Tenure in Months',\n",
    "    'Avg Monthly Long Distance Charges',\n",
    "    'Avg Monthly GB Download',\n",
    "    'Monthly Charge',\n",
    "    'Total Regular Charges',\n",
    "    'Total Refunds',\n",
    "    'Total Extra Data Charges',\n",
    "    'Total Long Distance Charges',\n",
    "    'Age',\n",
    "    'Number of Dependents',\n",
    "    'Population', \n",
    "    'CLTV',\n",
    "    'Total Customer Svc Requests', \n",
    "    'Product/Service Issues Reported'\n",
    "]\n",
    "\n",
    "# Preview the selected features\n",
    "df[pca_list].head(3)\n"
   ],
   "outputs": [
    {
     "data": {
      "text/plain": [
       "   Number of Referrals  Tenure in Months  Avg Monthly Long Distance Charges  \\\n",
       "0                    0                 1                               0.00   \n",
       "1                    1                 8                              48.85   \n",
       "2                    0                18                              11.33   \n",
       "\n",
       "   Avg Monthly GB Download  Monthly Charge  Total Regular Charges  \\\n",
       "0                        9          41.236                  39.65   \n",
       "1                       19          83.876                 633.30   \n",
       "2                       57          99.268                1752.55   \n",
       "\n",
       "   Total Refunds  Total Extra Data Charges  Total Long Distance Charges  Age  \\\n",
       "0           0.00                       0.0                         0.00   78   \n",
       "1           0.00                     120.0                       390.80   74   \n",
       "2          45.61                       0.0                       203.94   71   \n",
       "\n",
       "   Number of Dependents  Population  CLTV  Total Customer Svc Requests  \\\n",
       "0                     0       68701  5433                            5   \n",
       "1                     1       55668  5302                            5   \n",
       "2                     3       47534  3179                            1   \n",
       "\n",
       "   Product/Service Issues Reported  \n",
       "0                                0  \n",
       "1                                0  \n",
       "2                                0  "
      ],
      "text/html": [
       "<div>\n",
       "<style scoped>\n",
       "    .dataframe tbody tr th:only-of-type {\n",
       "        vertical-align: middle;\n",
       "    }\n",
       "\n",
       "    .dataframe tbody tr th {\n",
       "        vertical-align: top;\n",
       "    }\n",
       "\n",
       "    .dataframe thead th {\n",
       "        text-align: right;\n",
       "    }\n",
       "</style>\n",
       "<table border=\"1\" class=\"dataframe\">\n",
       "  <thead>\n",
       "    <tr style=\"text-align: right;\">\n",
       "      <th></th>\n",
       "      <th>Number of Referrals</th>\n",
       "      <th>Tenure in Months</th>\n",
       "      <th>Avg Monthly Long Distance Charges</th>\n",
       "      <th>Avg Monthly GB Download</th>\n",
       "      <th>Monthly Charge</th>\n",
       "      <th>Total Regular Charges</th>\n",
       "      <th>Total Refunds</th>\n",
       "      <th>Total Extra Data Charges</th>\n",
       "      <th>Total Long Distance Charges</th>\n",
       "      <th>Age</th>\n",
       "      <th>Number of Dependents</th>\n",
       "      <th>Population</th>\n",
       "      <th>CLTV</th>\n",
       "      <th>Total Customer Svc Requests</th>\n",
       "      <th>Product/Service Issues Reported</th>\n",
       "    </tr>\n",
       "  </thead>\n",
       "  <tbody>\n",
       "    <tr>\n",
       "      <th>0</th>\n",
       "      <td>0</td>\n",
       "      <td>1</td>\n",
       "      <td>0.00</td>\n",
       "      <td>9</td>\n",
       "      <td>41.236</td>\n",
       "      <td>39.65</td>\n",
       "      <td>0.00</td>\n",
       "      <td>0.0</td>\n",
       "      <td>0.00</td>\n",
       "      <td>78</td>\n",
       "      <td>0</td>\n",
       "      <td>68701</td>\n",
       "      <td>5433</td>\n",
       "      <td>5</td>\n",
       "      <td>0</td>\n",
       "    </tr>\n",
       "    <tr>\n",
       "      <th>1</th>\n",
       "      <td>1</td>\n",
       "      <td>8</td>\n",
       "      <td>48.85</td>\n",
       "      <td>19</td>\n",
       "      <td>83.876</td>\n",
       "      <td>633.30</td>\n",
       "      <td>0.00</td>\n",
       "      <td>120.0</td>\n",
       "      <td>390.80</td>\n",
       "      <td>74</td>\n",
       "      <td>1</td>\n",
       "      <td>55668</td>\n",
       "      <td>5302</td>\n",
       "      <td>5</td>\n",
       "      <td>0</td>\n",
       "    </tr>\n",
       "    <tr>\n",
       "      <th>2</th>\n",
       "      <td>0</td>\n",
       "      <td>18</td>\n",
       "      <td>11.33</td>\n",
       "      <td>57</td>\n",
       "      <td>99.268</td>\n",
       "      <td>1752.55</td>\n",
       "      <td>45.61</td>\n",
       "      <td>0.0</td>\n",
       "      <td>203.94</td>\n",
       "      <td>71</td>\n",
       "      <td>3</td>\n",
       "      <td>47534</td>\n",
       "      <td>3179</td>\n",
       "      <td>1</td>\n",
       "      <td>0</td>\n",
       "    </tr>\n",
       "  </tbody>\n",
       "</table>\n",
       "</div>"
      ]
     },
     "execution_count": 128,
     "metadata": {},
     "output_type": "execute_result"
    }
   ],
   "execution_count": 128
  },
  {
   "metadata": {},
   "cell_type": "markdown",
   "source": [
    "## PCA Implementation\n",
    "Now we'll implement PCA on our selected features. First, we need to standardize the data since PCA is sensitive to the scale of the features. Then we'll fit the PCA model with 14 components (equal to the number of features) to examine the explained variance.\n"
   ]
  },
  {
   "metadata": {
    "ExecuteTime": {
     "end_time": "2025-05-24T14:32:19.843400Z",
     "start_time": "2025-05-24T14:32:19.833882Z"
    }
   },
   "cell_type": "code",
   "source": [
    "# Extract the features for PCA\n",
    "X = df[pca_list]\n",
    "\n",
    "# Standardize the data (mean=0, variance=1) for PCA\n",
    "df_scaled = StandardScaler().fit_transform(X)\n",
    "\n",
    "# Fit PCA with 14 components (equal to the number of features)\n",
    "pca = PCA(n_components = 14, random_state = 42).fit(df_scaled)"
   ],
   "outputs": [],
   "execution_count": 129
  },
  {
   "metadata": {},
   "cell_type": "markdown",
   "source": [
    "## PCA Visualization and Component Selection\n",
    "To determine how many principal components to keep, we'll create two important visualizations:\n",
    "1. **Scree Plot**: Shows the explained variance ratio for each principal component\n",
    "2. **Cumulative Variance Plot**: Shows the cumulative explained variance as we add more components\n",
    "\n",
    "These plots will help us decide how many components to retain for our analysis while preserving most of the variance in the data.\n"
   ]
  },
  {
   "metadata": {},
   "cell_type": "markdown",
   "source": [
    "### Scree Plot\n",
    "The scree plot shows the explained variance ratio for each principal component. We look for an \"elbow\" point where adding more components provides diminishing returns.\n"
   ]
  },
  {
   "metadata": {
    "ExecuteTime": {
     "end_time": "2025-05-24T14:32:20.107530Z",
     "start_time": "2025-05-24T14:32:19.954158Z"
    }
   },
   "cell_type": "code",
   "source": [
    "# Create a scree plot to visualize the explained variance of each component\n",
    "fig, ax = plt.subplots(figsize = (6, 4))\n",
    "\n",
    "# Plot the explained variance ratio for each component\n",
    "ax.plot(pca.explained_variance_ratio_, 'o-', linewidth=2, color='blue')\n",
    "\n",
    "# Set plot labels and title\n",
    "ax.set(\n",
    "    xlabel = 'Component',\n",
    "    ylabel = 'Percent of Explained variance for 14 components',\n",
    "    title = 'Scree Plot',\n",
    "    ylim = (0,.5)    \n",
    "      );\n",
    "\n",
    "ax.grid()\n"
   ],
   "outputs": [
    {
     "data": {
      "text/plain": [
       "<Figure size 600x400 with 1 Axes>"
      ],
      "image/png": "[encoded data removed]"
     },
     "metadata": {},
     "output_type": "display_data"
    }
   ],
   "execution_count": 130
  },
  {
   "metadata": {},
   "cell_type": "markdown",
   "source": [
    "### Cumulative Variance Plot\n",
    "The cumulative variance plot shows how much of the total variance is explained as we add more components. This helps us determine how many components to keep to preserve a desired amount of variance (typically 70-90%).\n"
   ]
  },
  {
   "metadata": {
    "ExecuteTime": {
     "end_time": "2025-05-24T14:32:20.313296Z",
     "start_time": "2025-05-24T14:32:20.181845Z"
    }
   },
   "cell_type": "code",
   "source": [
    "# Create a cumulative variance plot\n",
    "fig, ax = plt.subplots(figsize = (6, 4))\n",
    "\n",
    "# Plot the cumulative explained variance\n",
    "ax.plot(np.cumsum(pca.explained_variance_ratio_),  'o-', linewidth=2, color='red')\n",
    "\n",
    "# Set plot labels and title\n",
    "ax.set(\n",
    "    xlabel = 'Component',\n",
    "    ylabel = 'Percent of Explained variance for 14 components',\n",
    "    title = 'Cumulative Variance',\n",
    "    ylim = (0,1)\n",
    "      );\n",
    "\n",
    "ax.grid()\n"
   ],
   "outputs": [
    {
     "data": {
      "text/plain": [
       "<Figure size 600x400 with 1 Axes>"
      ],
      "image/png": "[encoded data removed]"
     },
     "metadata": {},
     "output_type": "display_data"
    }
   ],
   "execution_count": 131
  },
  {
   "metadata": {},
   "cell_type": "markdown",
   "source": [
    "## Component Selection Decision\n",
    "Based on the scree plot and cumulative variance plot, we'll keep 5 principal components (PC0 through PC4). These 5 components explain approximately 60% of the total variance in the data, which provides a good balance between dimensionality reduction and information preservation.\n"
   ]
  },
  {
   "metadata": {
    "ExecuteTime": {
     "end_time": "2025-05-24T14:32:20.355789Z",
     "start_time": "2025-05-24T14:32:20.351348Z"
    }
   },
   "cell_type": "code",
   "source": [
    "# Apply PCA with 5 components based on our analysis\n",
    "pca_5 = PCA(n_components = 5, random_state = 42).fit_transform(df_scaled)\n",
    "\n",
    "# Check the shape of the transformed data (number of samples × number of components)\n",
    "print(pca_5.shape)"
   ],
   "outputs": [
    {
     "name": "stdout",
     "output_type": "stream",
     "text": [
      "(7043, 5)\n"
     ]
    }
   ],
   "execution_count": 132
  },
  {
   "metadata": {},
   "cell_type": "markdown",
   "source": [
    "## Categorical Data Transformation\n",
    "To use categorical variables in our clustering models, we need to transform them into numerical values. We'll use Label Encoding to convert categorical variables into numeric representations.\n"
   ]
  },
  {
   "metadata": {
    "ExecuteTime": {
     "end_time": "2025-05-24T14:32:20.400743Z",
     "start_time": "2025-05-24T14:32:20.397193Z"
    }
   },
   "cell_type": "code",
   "source": [
    "# Define a function to transform categorical variables using LabelEncoder\n",
    "def transformation_YES_NO(dataframe, columns_list):\n",
    "    for i in columns_list:    \n",
    "        # Fit and transform each categorical column\n",
    "        temp_encoder = LabelEncoder().fit(dataframe[i])\n",
    "        dataframe[i] = temp_encoder.fit_transform(dataframe[i])\n",
    "\n",
    "        # Print information about the transformation for verification\n",
    "        print('Feature transformed: '+ str(i))\n",
    "        print('Classes: '+ str(temp_encoder.classes_))\n",
    "        print('Transformations:' + str( temp_encoder.fit_transform(temp_encoder.classes_)) + '\\n---------------\\n')\n",
    "\n",
    "    return dataframe\n"
   ],
   "outputs": [],
   "execution_count": 133
  },
  {
   "metadata": {},
   "cell_type": "markdown",
   "source": [
    "### Identifying Categorical Variables\n",
    "Now we'll identify all categorical variables in our dataset, including object types and any ordinal variables like Customer Satisfaction.\n"
   ]
  },
  {
   "metadata": {
    "ExecuteTime": {
     "end_time": "2025-05-24T14:32:20.447292Z",
     "start_time": "2025-05-24T14:32:20.441688Z"
    }
   },
   "cell_type": "code",
   "source": [
    "# Get all columns with object data type\n",
    "text_categories = df.select_dtypes(include= ['object']).columns.values\n",
    "\n",
    "# Add Customer Satisfaction which is an ordinal variable but stored as numeric\n",
    "text_categories = np.append(text_categories, 'Customer Satisfaction')\n",
    "\n",
    "# Print the type and list of categorical variables\n",
    "print(type(text_categories))\n",
    "print(text_categories)\n"
   ],
   "outputs": [
    {
     "name": "stdout",
     "output_type": "stream",
     "text": [
      "<class 'numpy.ndarray'>\n",
      "['Customer ID' 'Referred a Friend' 'Offer' 'Phone Service'\n",
      " 'Multiple Lines' 'Internet Service' 'Internet Type' 'Online Security'\n",
      " 'Online Backup' 'Device Protection Plan' 'Premium Tech Support'\n",
      " 'Streaming TV' 'Streaming Movies' 'Streaming Music' 'Unlimited Data'\n",
      " 'Contract' 'Paperless Billing' 'Payment Method' 'Gender' 'Under 30'\n",
      " 'Senior Citizen' 'Married' 'Dependents' 'City' 'Churn Category'\n",
      " 'Churn Reason' 'Customer Satisfaction']\n"
     ]
    }
   ],
   "execution_count": 134
  },
  {
   "metadata": {},
   "cell_type": "markdown",
   "source": [
    "### Applying Categorical Transformation\n",
    "We'll apply our transformation function to convert all categorical variables to numeric, then clean up the dataset by removing unnecessary columns.\n"
   ]
  },
  {
   "metadata": {
    "ExecuteTime": {
     "end_time": "2025-05-24T14:32:20.569446Z",
     "start_time": "2025-05-24T14:32:20.490203Z"
    }
   },
   "cell_type": "code",
   "source": [
    "# Apply the transformation function to all categorical variables\n",
    "df_cat_transformed = transformation_YES_NO(df, columns_list=text_categories)\n",
    "\n",
    "# Remove unnecessary columns (ID, City, target variable) and PCA input features\n",
    "# We remove PCA input features because we'll use the PCA components instead\n",
    "df_cat_transformed = df_cat_transformed.drop(['Customer ID', 'City', txt_target_var], axis=1).drop(pca_list, axis=1)\n"
   ],
   "outputs": [
    {
     "name": "stdout",
     "output_type": "stream",
     "text": [
      "Feature transformed: Customer ID\n",
      "Classes: ['0002-ORFBO' '0003-MKNFE' '0004-TLHLJ' ... '9992-UJOEL' '9993-LHIEB'\n",
      " '9995-HOTOH']\n",
      "Transformations:[   0    1    2 ... 7040 7041 7042]\n",
      "---------------\n",
      "\n",
      "Feature transformed: Referred a Friend\n",
      "Classes: ['No' 'Yes']\n",
      "Transformations:[0 1]\n",
      "---------------\n",
      "\n",
      "Feature transformed: Offer\n",
      "Classes: ['Offer A' 'Offer B' 'Offer C' 'Offer D' 'Offer E' nan]\n",
      "Transformations:[0 1 2 3 4 5]\n",
      "---------------\n",
      "\n",
      "Feature transformed: Phone Service\n",
      "Classes: ['No' 'Yes']\n",
      "Transformations:[0 1]\n",
      "---------------\n",
      "\n",
      "Feature transformed: Multiple Lines\n",
      "Classes: ['No' 'Yes']\n",
      "Transformations:[0 1]\n",
      "---------------\n",
      "\n",
      "Feature transformed: Internet Service\n",
      "Classes: ['No' 'Yes']\n",
      "Transformations:[0 1]\n",
      "---------------\n",
      "\n",
      "Feature transformed: Internet Type\n",
      "Classes: ['Cable' 'DSL' 'Fiber Optic' nan]\n",
      "Transformations:[0 1 2 3]\n",
      "---------------\n",
      "\n",
      "Feature transformed: Online Security\n",
      "Classes: ['No' 'Yes']\n",
      "Transformations:[0 1]\n",
      "---------------\n",
      "\n",
      "Feature transformed: Online Backup\n",
      "Classes: ['No' 'Yes']\n",
      "Transformations:[0 1]\n",
      "---------------\n",
      "\n",
      "Feature transformed: Device Protection Plan\n",
      "Classes: ['No' 'Yes']\n",
      "Transformations:[0 1]\n",
      "---------------\n",
      "\n",
      "Feature transformed: Premium Tech Support\n",
      "Classes: ['No' 'Yes']\n",
      "Transformations:[0 1]\n",
      "---------------\n",
      "\n",
      "Feature transformed: Streaming TV\n",
      "Classes: ['No' 'Yes']\n",
      "Transformations:[0 1]\n",
      "---------------\n",
      "\n",
      "Feature transformed: Streaming Movies\n",
      "Classes: ['No' 'Yes']\n",
      "Transformations:[0 1]\n",
      "---------------\n",
      "\n",
      "Feature transformed: Streaming Music\n",
      "Classes: ['No' 'Yes']\n",
      "Transformations:[0 1]\n",
      "---------------\n",
      "\n",
      "Feature transformed: Unlimited Data\n",
      "Classes: ['No' 'Yes']\n",
      "Transformations:[0 1]\n",
      "---------------\n",
      "\n",
      "Feature transformed: Contract\n",
      "Classes: ['Month-to-Month' 'One Year' 'Two Year']\n",
      "Transformations:[0 1 2]\n",
      "---------------\n",
      "\n",
      "Feature transformed: Paperless Billing\n",
      "Classes: ['No' 'Yes']\n",
      "Transformations:[0 1]\n",
      "---------------\n",
      "\n",
      "Feature transformed: Payment Method\n",
      "Classes: ['Bank Withdrawal' 'Credit Card' 'Mailed Check']\n",
      "Transformations:[0 1 2]\n",
      "---------------\n",
      "\n",
      "Feature transformed: Gender\n",
      "Classes: ['Female' 'Male']\n",
      "Transformations:[0 1]\n",
      "---------------\n",
      "\n",
      "Feature transformed: Under 30\n",
      "Classes: ['No' 'Yes']\n",
      "Transformations:[0 1]\n",
      "---------------\n",
      "\n",
      "Feature transformed: Senior Citizen\n",
      "Classes: ['No' 'Yes']\n",
      "Transformations:[0 1]\n",
      "---------------\n",
      "\n",
      "Feature transformed: Married\n",
      "Classes: ['No' 'Yes']\n",
      "Transformations:[0 1]\n",
      "---------------\n",
      "\n",
      "Feature transformed: Dependents\n",
      "Classes: ['No' 'Yes']\n",
      "Transformations:[0 1]\n",
      "---------------\n",
      "\n",
      "Feature transformed: City\n",
      "Classes: ['Acampo' 'Acton' 'Adelanto' ... 'Yucaipa' 'Yucca Valley' 'Zenia']\n",
      "Transformations:[   0    1    2 ... 1103 1104 1105]\n",
      "---------------\n",
      "\n",
      "Feature transformed: Churn Category\n",
      "Classes: ['Attitude' 'Competitor' 'Dissatisfaction' 'Other' 'Price' nan]\n",
      "Transformations:[0 1 2 3 4 5]\n",
      "---------------\n",
      "\n",
      "Feature transformed: Churn Reason\n",
      "Classes: ['Attitude of service provider' 'Attitude of support person'\n",
      " 'Competitor had better devices' 'Competitor made better offer'\n",
      " 'Competitor offered higher download speeds'\n",
      " 'Competitor offered more data' 'Deceased' \"Don't know\"\n",
      " 'Extra data charges' 'Lack of affordable download/upload speed'\n",
      " 'Lack of self-service on Website' 'Limited range of services'\n",
      " 'Long distance charges' 'Moved' 'Network reliability'\n",
      " 'Poor expertise of online support' 'Poor expertise of phone support'\n",
      " 'Price too high' 'Product dissatisfaction' 'Service dissatisfaction' nan]\n",
      "Transformations:[ 0  1  2  3  4  5  6  7  8  9 10 11 12 13 14 15 16 17 18 19 20]\n",
      "---------------\n",
      "\n",
      "Feature transformed: Customer Satisfaction\n",
      "Classes: [ 1.  2.  3.  4.  5. nan]\n",
      "Transformations:[0 1 2 3 4 5]\n",
      "---------------\n",
      "\n"
     ]
    }
   ],
   "execution_count": 135
  },
  {
   "metadata": {
    "ExecuteTime": {
     "end_time": "2025-05-24T14:32:20.630605Z",
     "start_time": "2025-05-24T14:32:20.621277Z"
    }
   },
   "cell_type": "code",
   "source": [
    "# Check the structure of the transformed categorical data\n",
    "df_cat_transformed.info()\n"
   ],
   "outputs": [
    {
     "name": "stdout",
     "output_type": "stream",
     "text": [
      "<class 'pandas.core.frame.DataFrame'>\n",
      "RangeIndex: 7043 entries, 0 to 7042\n",
      "Data columns (total 28 columns):\n",
      " #   Column                  Non-Null Count  Dtype  \n",
      "---  ------                  --------------  -----  \n",
      " 0   Referred a Friend       7043 non-null   int64  \n",
      " 1   Offer                   7043 non-null   int64  \n",
      " 2   Phone Service           7043 non-null   int64  \n",
      " 3   Multiple Lines          7043 non-null   int64  \n",
      " 4   Internet Service        7043 non-null   int64  \n",
      " 5   Internet Type           7043 non-null   int64  \n",
      " 6   Online Security         7043 non-null   int64  \n",
      " 7   Online Backup           7043 non-null   int64  \n",
      " 8   Device Protection Plan  7043 non-null   int64  \n",
      " 9   Premium Tech Support    7043 non-null   int64  \n",
      " 10  Streaming TV            7043 non-null   int64  \n",
      " 11  Streaming Movies        7043 non-null   int64  \n",
      " 12  Streaming Music         7043 non-null   int64  \n",
      " 13  Unlimited Data          7043 non-null   int64  \n",
      " 14  Contract                7043 non-null   int64  \n",
      " 15  Paperless Billing       7043 non-null   int64  \n",
      " 16  Payment Method          7043 non-null   int64  \n",
      " 17  Gender                  7043 non-null   int64  \n",
      " 18  Under 30                7043 non-null   int64  \n",
      " 19  Senior Citizen          7043 non-null   int64  \n",
      " 20  Married                 7043 non-null   int64  \n",
      " 21  Dependents              7043 non-null   int64  \n",
      " 22  Zip Code                7043 non-null   int64  \n",
      " 23  Latitude                7043 non-null   float64\n",
      " 24  Longitude               7043 non-null   float64\n",
      " 25  Churn Category          7043 non-null   int64  \n",
      " 26  Churn Reason            7043 non-null   int64  \n",
      " 27  Customer Satisfaction   7043 non-null   int64  \n",
      "dtypes: float64(2), int64(26)\n",
      "memory usage: 1.5 MB\n"
     ]
    }
   ],
   "execution_count": 136
  },
  {
   "metadata": {},
   "cell_type": "markdown",
   "source": [
    "## Alternative PCA Approach (Optional)\n",
    "As an alternative approach, we'll also explore applying PCA to all features (both the original numeric features and the transformed categorical features). This allows us to compare the results with our primary approach that used only continuous variables for PCA.\n"
   ]
  },
  {
   "metadata": {
    "ExecuteTime": {
     "end_time": "2025-05-24T14:32:20.728001Z",
     "start_time": "2025-05-24T14:32:20.691827Z"
    }
   },
   "cell_type": "code",
   "source": [
    "# Combine the transformed categorical data with the original numeric features\n",
    "df_inputs_all = df_cat_transformed.reset_index().merge(X.reset_index(),\n",
    "                                                       on = 'index',\n",
    "                                                       how = 'inner'\n",
    "                                                      ).set_index('index')\n",
    "# Preview the combined dataset\n",
    "df_inputs_all.head()\n"
   ],
   "outputs": [
    {
     "data": {
      "text/plain": [
       "       Referred a Friend  Offer  Phone Service  Multiple Lines  \\\n",
       "index                                                            \n",
       "0                      0      5              0               0   \n",
       "1                      1      4              1               1   \n",
       "2                      0      3              1               1   \n",
       "3                      1      2              1               0   \n",
       "4                      1      2              1               1   \n",
       "\n",
       "       Internet Service  Internet Type  Online Security  Online Backup  \\\n",
       "index                                                                    \n",
       "0                     1              2                0              0   \n",
       "1                     1              0                0              1   \n",
       "2                     1              2                0              0   \n",
       "3                     1              2                0              1   \n",
       "4                     1              0                0              0   \n",
       "\n",
       "       Device Protection Plan  Premium Tech Support  ...  \\\n",
       "index                                                ...   \n",
       "0                           1                     0  ...   \n",
       "1                           0                     0  ...   \n",
       "2                           0                     0  ...   \n",
       "3                           1                     0  ...   \n",
       "4                           0                     0  ...   \n",
       "\n",
       "       Total Regular Charges  Total Refunds  Total Extra Data Charges  \\\n",
       "index                                                                   \n",
       "0                      39.65           0.00                       0.0   \n",
       "1                     633.30           0.00                     120.0   \n",
       "2                    1752.55          45.61                       0.0   \n",
       "3                    2514.50          13.43                     327.0   \n",
       "4                    2868.15           0.00                     430.0   \n",
       "\n",
       "       Total Long Distance Charges  Age  Number of Dependents  Population  \\\n",
       "index                                                                       \n",
       "0                             0.00   78                     0       68701   \n",
       "1                           390.80   74                     1       55668   \n",
       "2                           203.94   71                     3       47534   \n",
       "3                           494.00   78                     1       27778   \n",
       "4                           234.21   80                     1       26265   \n",
       "\n",
       "       CLTV  Total Customer Svc Requests  Product/Service Issues Reported  \n",
       "index                                                                      \n",
       "0      5433                            5                                0  \n",
       "1      5302                            5                                0  \n",
       "2      3179                            1                                0  \n",
       "3      5337                            1                                1  \n",
       "4      2793                            1                                0  \n",
       "\n",
       "[5 rows x 43 columns]"
      ],
      "text/html": [
       "<div>\n",
       "<style scoped>\n",
       "    .dataframe tbody tr th:only-of-type {\n",
       "        vertical-align: middle;\n",
       "    }\n",
       "\n",
       "    .dataframe tbody tr th {\n",
       "        vertical-align: top;\n",
       "    }\n",
       "\n",
       "    .dataframe thead th {\n",
       "        text-align: right;\n",
       "    }\n",
       "</style>\n",
       "<table border=\"1\" class=\"dataframe\">\n",
       "  <thead>\n",
       "    <tr style=\"text-align: right;\">\n",
       "      <th></th>\n",
       "      <th>Referred a Friend</th>\n",
       "      <th>Offer</th>\n",
       "      <th>Phone Service</th>\n",
       "      <th>Multiple Lines</th>\n",
       "      <th>Internet Service</th>\n",
       "      <th>Internet Type</th>\n",
       "      <th>Online Security</th>\n",
       "      <th>Online Backup</th>\n",
       "      <th>Device Protection Plan</th>\n",
       "      <th>Premium Tech Support</th>\n",
       "      <th>...</th>\n",
       "      <th>Total Regular Charges</th>\n",
       "      <th>Total Refunds</th>\n",
       "      <th>Total Extra Data Charges</th>\n",
       "      <th>Total Long Distance Charges</th>\n",
       "      <th>Age</th>\n",
       "      <th>Number of Dependents</th>\n",
       "      <th>Population</th>\n",
       "      <th>CLTV</th>\n",
       "      <th>Total Customer Svc Requests</th>\n",
       "      <th>Product/Service Issues Reported</th>\n",
       "    </tr>\n",
       "    <tr>\n",
       "      <th>index</th>\n",
       "      <th></th>\n",
       "      <th></th>\n",
       "      <th></th>\n",
       "      <th></th>\n",
       "      <th></th>\n",
       "      <th></th>\n",
       "      <th></th>\n",
       "      <th></th>\n",
       "      <th></th>\n",
       "      <th></th>\n",
       "      <th></th>\n",
       "      <th></th>\n",
       "      <th></th>\n",
       "      <th></th>\n",
       "      <th></th>\n",
       "      <th></th>\n",
       "      <th></th>\n",
       "      <th></th>\n",
       "      <th></th>\n",
       "      <th></th>\n",
       "      <th></th>\n",
       "    </tr>\n",
       "  </thead>\n",
       "  <tbody>\n",
       "    <tr>\n",
       "      <th>0</th>\n",
       "      <td>0</td>\n",
       "      <td>5</td>\n",
       "      <td>0</td>\n",
       "      <td>0</td>\n",
       "      <td>1</td>\n",
       "      <td>2</td>\n",
       "      <td>0</td>\n",
       "      <td>0</td>\n",
       "      <td>1</td>\n",
       "      <td>0</td>\n",
       "      <td>...</td>\n",
       "      <td>39.65</td>\n",
       "      <td>0.00</td>\n",
       "      <td>0.0</td>\n",
       "      <td>0.00</td>\n",
       "      <td>78</td>\n",
       "      <td>0</td>\n",
       "      <td>68701</td>\n",
       "      <td>5433</td>\n",
       "      <td>5</td>\n",
       "      <td>0</td>\n",
       "    </tr>\n",
       "    <tr>\n",
       "      <th>1</th>\n",
       "      <td>1</td>\n",
       "      <td>4</td>\n",
       "      <td>1</td>\n",
       "      <td>1</td>\n",
       "      <td>1</td>\n",
       "      <td>0</td>\n",
       "      <td>0</td>\n",
       "      <td>1</td>\n",
       "      <td>0</td>\n",
       "      <td>0</td>\n",
       "      <td>...</td>\n",
       "      <td>633.30</td>\n",
       "      <td>0.00</td>\n",
       "      <td>120.0</td>\n",
       "      <td>390.80</td>\n",
       "      <td>74</td>\n",
       "      <td>1</td>\n",
       "      <td>55668</td>\n",
       "      <td>5302</td>\n",
       "      <td>5</td>\n",
       "      <td>0</td>\n",
       "    </tr>\n",
       "    <tr>\n",
       "      <th>2</th>\n",
       "      <td>0</td>\n",
       "      <td>3</td>\n",
       "      <td>1</td>\n",
       "      <td>1</td>\n",
       "      <td>1</td>\n",
       "      <td>2</td>\n",
       "      <td>0</td>\n",
       "      <td>0</td>\n",
       "      <td>0</td>\n",
       "      <td>0</td>\n",
       "      <td>...</td>\n",
       "      <td>1752.55</td>\n",
       "      <td>45.61</td>\n",
       "      <td>0.0</td>\n",
       "      <td>203.94</td>\n",
       "      <td>71</td>\n",
       "      <td>3</td>\n",
       "      <td>47534</td>\n",
       "      <td>3179</td>\n",
       "      <td>1</td>\n",
       "      <td>0</td>\n",
       "    </tr>\n",
       "    <tr>\n",
       "      <th>3</th>\n",
       "      <td>1</td>\n",
       "      <td>2</td>\n",
       "      <td>1</td>\n",
       "      <td>0</td>\n",
       "      <td>1</td>\n",
       "      <td>2</td>\n",
       "      <td>0</td>\n",
       "      <td>1</td>\n",
       "      <td>1</td>\n",
       "      <td>0</td>\n",
       "      <td>...</td>\n",
       "      <td>2514.50</td>\n",
       "      <td>13.43</td>\n",
       "      <td>327.0</td>\n",
       "      <td>494.00</td>\n",
       "      <td>78</td>\n",
       "      <td>1</td>\n",
       "      <td>27778</td>\n",
       "      <td>5337</td>\n",
       "      <td>1</td>\n",
       "      <td>1</td>\n",
       "    </tr>\n",
       "    <tr>\n",
       "      <th>4</th>\n",
       "      <td>1</td>\n",
       "      <td>2</td>\n",
       "      <td>1</td>\n",
       "      <td>1</td>\n",
       "      <td>1</td>\n",
       "      <td>0</td>\n",
       "      <td>0</td>\n",
       "      <td>0</td>\n",
       "      <td>0</td>\n",
       "      <td>0</td>\n",
       "      <td>...</td>\n",
       "      <td>2868.15</td>\n",
       "      <td>0.00</td>\n",
       "      <td>430.0</td>\n",
       "      <td>234.21</td>\n",
       "      <td>80</td>\n",
       "      <td>1</td>\n",
       "      <td>26265</td>\n",
       "      <td>2793</td>\n",
       "      <td>1</td>\n",
       "      <td>0</td>\n",
       "    </tr>\n",
       "  </tbody>\n",
       "</table>\n",
       "<p>5 rows × 43 columns</p>\n",
       "</div>"
      ]
     },
     "execution_count": 137,
     "metadata": {},
     "output_type": "execute_result"
    }
   ],
   "execution_count": 137
  },
  {
   "metadata": {},
   "cell_type": "markdown",
   "source": [
    "### Standardizing and Applying PCA to All Features\n",
    "We'll standardize all features and apply PCA with a higher number of components since we have more features now.\n"
   ]
  },
  {
   "metadata": {
    "ExecuteTime": {
     "end_time": "2025-05-24T14:32:20.955458Z",
     "start_time": "2025-05-24T14:32:20.941280Z"
    }
   },
   "cell_type": "code",
   "source": [
    "# Standardize the combined dataset\n",
    "df_scaled_2 = StandardScaler().fit_transform(df_inputs_all)\n",
    "df_inputs_all = df_scaled_2\n",
    "\n",
    "# Apply PCA with 40 components to capture the variance in the larger feature set\n",
    "pca40 = PCA(n_components = 40, random_state = 42).fit(df_inputs_all)\n"
   ],
   "outputs": [],
   "execution_count": 138
  },
  {
   "metadata": {},
   "cell_type": "markdown",
   "source": [
    "### Alternative Approach: Scree Plot\n",
    "Let's visualize the explained variance for each component in this alternative approach.\n"
   ]
  },
  {
   "metadata": {
    "ExecuteTime": {
     "end_time": "2025-05-24T14:32:21.214117Z",
     "start_time": "2025-05-24T14:32:21.060125Z"
    }
   },
   "cell_type": "code",
   "source": [
    "# Create a scree plot for the alternative PCA approach\n",
    "fig, ax = plt.subplots(figsize = (6, 4))\n",
    "\n",
    "# Plot the explained variance ratio for each component\n",
    "ax.plot(pca40.explained_variance_ratio_, 'o-', linewidth=2, color='green')\n",
    "\n",
    "# Set plot labels and title\n",
    "ax.set(\n",
    "    xlabel = 'Component',\n",
    "    ylabel = 'Percent of Explained variance for 14 components',\n",
    "    title = 'Scree Plot',\n",
    "    ylim = (0,.5)    \n",
    "      );\n",
    "\n",
    "ax.grid()\n"
   ],
   "outputs": [
    {
     "data": {
      "text/plain": [
       "<Figure size 600x400 with 1 Axes>"
      ],
      "image/png": "[encoded data removed]"
     },
     "metadata": {},
     "output_type": "display_data"
    }
   ],
   "execution_count": 139
  },
  {
   "metadata": {},
   "cell_type": "markdown",
   "source": [
    "### Alternative Approach: Cumulative Variance Plot\n",
    "Let's examine the cumulative explained variance for this alternative approach.\n"
   ]
  },
  {
   "metadata": {
    "ExecuteTime": {
     "end_time": "2025-05-24T14:32:21.435167Z",
     "start_time": "2025-05-24T14:32:21.289170Z"
    }
   },
   "cell_type": "code",
   "source": [
    "# Create a cumulative variance plot for the alternative PCA approach\n",
    "fig, ax = plt.subplots(figsize = (6, 4))\n",
    "\n",
    "# Plot the cumulative explained variance\n",
    "ax.plot(np.cumsum(pca40.explained_variance_ratio_),  'o-', linewidth=2, color='green')\n",
    "\n",
    "# Set plot labels and title\n",
    "ax.set(\n",
    "    xlabel = 'Component',\n",
    "    ylabel = 'Percent of Explained variance for 14 components',\n",
    "    title = 'Cumulative Variance',\n",
    "    ylim = (0,1)\n",
    "      );\n",
    "\n",
    "ax.grid()\n"
   ],
   "outputs": [
    {
     "data": {
      "text/plain": [
       "<Figure size 600x400 with 1 Axes>"
      ],
      "image/png": "[encoded data removed]"
     },
     "metadata": {},
     "output_type": "display_data"
    }
   ],
   "execution_count": 140
  },
  {
   "metadata": {},
   "cell_type": "markdown",
   "source": [
    "### Selecting Components for Alternative Approach\n",
    "Based on the cumulative variance plot, we'll select 15 components for this alternative approach.\n"
   ]
  },
  {
   "metadata": {
    "ExecuteTime": {
     "end_time": "2025-05-24T14:32:21.477856Z",
     "start_time": "2025-05-24T14:32:21.471946Z"
    }
   },
   "cell_type": "code",
   "source": [
    "# Apply PCA with 15 components based on our analysis of the alternative approach\n",
    "pca_15 = PCA(n_components = 15, random_state = 42).fit_transform(df_scaled_2)\n",
    "\n",
    "# Check the shape of the transformed data\n",
    "print(pca_15.shape)"
   ],
   "outputs": [
    {
     "name": "stdout",
     "output_type": "stream",
     "text": [
      "(7043, 15)\n"
     ]
    }
   ],
   "execution_count": 141
  },
  {
   "metadata": {},
   "cell_type": "markdown",
   "source": [
    "## Preparing Data for Clustering\n",
    "Now we'll prepare our final dataset for clustering. We'll:\n",
    "1. Extract location data for later visualization\n",
    "2. Create a dataframe with our PCA components\n",
    "3. Merge the PCA components with our transformed categorical data\n"
   ]
  },
  {
   "metadata": {
    "ExecuteTime": {
     "end_time": "2025-05-24T14:32:21.531342Z",
     "start_time": "2025-05-24T14:32:21.525274Z"
    }
   },
   "cell_type": "code",
   "source": [
    "# Extract location data for later visualization\n",
    "Location = pd.DataFrame(columns=[\"Latitude\", \"Longitude\",\"Zip Code\"])\n",
    "Location['Latitude'] = df['Latitude'] \n",
    "Location['Longitude'] = df['Longitude'] \n",
    "Location['Zip Code'] = df['Zip Code'] \n"
   ],
   "outputs": [],
   "execution_count": 142
  },
  {
   "metadata": {},
   "cell_type": "markdown",
   "source": [
    "### Creating the Final Dataset for Clustering\n",
    "We'll now combine our transformed categorical variables with the PCA components to create our final dataset for clustering.\n"
   ]
  },
  {
   "metadata": {
    "ExecuteTime": {
     "end_time": "2025-05-24T14:32:21.600729Z",
     "start_time": "2025-05-24T14:32:21.587507Z"
    }
   },
   "cell_type": "code",
   "source": [
    "# Create a dataframe with the 5 PCA components\n",
    "df_pca_5 = pd.DataFrame(pca_5, columns=['PC0', 'PC1', 'PC2', 'PC3', 'PC4'])\n",
    "\n",
    "# Merge the PCA components with the transformed categorical data                      \n",
    "data_inputs = df_cat_transformed.reset_index().merge(df_pca_5.reset_index(),\n",
    "                                                     on = 'index',\n",
    "                                                     how = 'inner').set_index('index')\n"
   ],
   "outputs": [],
   "execution_count": 143
  },
  {
   "metadata": {},
   "cell_type": "markdown",
   "source": [
    "### Examining the Final Dataset\n",
    "Let's examine our final dataset that will be used for clustering.\n"
   ]
  },
  {
   "metadata": {
    "ExecuteTime": {
     "end_time": "2025-05-24T14:32:21.659370Z",
     "start_time": "2025-05-24T14:32:21.646609Z"
    }
   },
   "cell_type": "code",
   "source": [
    "# Preview the first 3 rows of the final dataset\n",
    "data_inputs.head(3)\n"
   ],
   "outputs": [
    {
     "data": {
      "text/plain": [
       "       Referred a Friend  Offer  Phone Service  Multiple Lines  \\\n",
       "index                                                            \n",
       "0                      0      5              0               0   \n",
       "1                      1      4              1               1   \n",
       "2                      0      3              1               1   \n",
       "\n",
       "       Internet Service  Internet Type  Online Security  Online Backup  \\\n",
       "index                                                                    \n",
       "0                     1              2                0              0   \n",
       "1                     1              0                0              1   \n",
       "2                     1              2                0              0   \n",
       "\n",
       "       Device Protection Plan  Premium Tech Support  ...   Latitude  \\\n",
       "index                                                ...              \n",
       "0                           1                     0  ...  34.023810   \n",
       "1                           0                     0  ...  34.044271   \n",
       "2                           0                     0  ...  34.108833   \n",
       "\n",
       "        Longitude  Churn Category  Churn Reason  Customer Satisfaction  \\\n",
       "index                                                                    \n",
       "0     -118.156582               1             5                      5   \n",
       "1     -118.185237               1             3                      5   \n",
       "2     -118.229715               1             3                      5   \n",
       "\n",
       "            PC0       PC1       PC2       PC3       PC4  \n",
       "index                                                    \n",
       "0     -2.360960  0.632671  1.152928 -1.745588  0.782841  \n",
       "1     -0.761966  0.960261  1.679621  0.764178  1.158060  \n",
       "2     -0.267381  0.745950 -1.239184 -1.485653  0.996588  \n",
       "\n",
       "[3 rows x 33 columns]"
      ],
      "text/html": [
       "<div>\n",
       "<style scoped>\n",
       "    .dataframe tbody tr th:only-of-type {\n",
       "        vertical-align: middle;\n",
       "    }\n",
       "\n",
       "    .dataframe tbody tr th {\n",
       "        vertical-align: top;\n",
       "    }\n",
       "\n",
       "    .dataframe thead th {\n",
       "        text-align: right;\n",
       "    }\n",
       "</style>\n",
       "<table border=\"1\" class=\"dataframe\">\n",
       "  <thead>\n",
       "    <tr style=\"text-align: right;\">\n",
       "      <th></th>\n",
       "      <th>Referred a Friend</th>\n",
       "      <th>Offer</th>\n",
       "      <th>Phone Service</th>\n",
       "      <th>Multiple Lines</th>\n",
       "      <th>Internet Service</th>\n",
       "      <th>Internet Type</th>\n",
       "      <th>Online Security</th>\n",
       "      <th>Online Backup</th>\n",
       "      <th>Device Protection Plan</th>\n",
       "      <th>Premium Tech Support</th>\n",
       "      <th>...</th>\n",
       "      <th>Latitude</th>\n",
       "      <th>Longitude</th>\n",
       "      <th>Churn Category</th>\n",
       "      <th>Churn Reason</th>\n",
       "      <th>Customer Satisfaction</th>\n",
       "      <th>PC0</th>\n",
       "      <th>PC1</th>\n",
       "      <th>PC2</th>\n",
       "      <th>PC3</th>\n",
       "      <th>PC4</th>\n",
       "    </tr>\n",
       "    <tr>\n",
       "      <th>index</th>\n",
       "      <th></th>\n",
       "      <th></th>\n",
       "      <th></th>\n",
       "      <th></th>\n",
       "      <th></th>\n",
       "      <th></th>\n",
       "      <th></th>\n",
       "      <th></th>\n",
       "      <th></th>\n",
       "      <th></th>\n",
       "      <th></th>\n",
       "      <th></th>\n",
       "      <th></th>\n",
       "      <th></th>\n",
       "      <th></th>\n",
       "      <th></th>\n",
       "      <th></th>\n",
       "      <th></th>\n",
       "      <th></th>\n",
       "      <th></th>\n",
       "      <th></th>\n",
       "    </tr>\n",
       "  </thead>\n",
       "  <tbody>\n",
       "    <tr>\n",
       "      <th>0</th>\n",
       "      <td>0</td>\n",
       "      <td>5</td>\n",
       "      <td>0</td>\n",
       "      <td>0</td>\n",
       "      <td>1</td>\n",
       "      <td>2</td>\n",
       "      <td>0</td>\n",
       "      <td>0</td>\n",
       "      <td>1</td>\n",
       "      <td>0</td>\n",
       "      <td>...</td>\n",
       "      <td>34.023810</td>\n",
       "      <td>-118.156582</td>\n",
       "      <td>1</td>\n",
       "      <td>5</td>\n",
       "      <td>5</td>\n",
       "      <td>-2.360960</td>\n",
       "      <td>0.632671</td>\n",
       "      <td>1.152928</td>\n",
       "      <td>-1.745588</td>\n",
       "      <td>0.782841</td>\n",
       "    </tr>\n",
       "    <tr>\n",
       "      <th>1</th>\n",
       "      <td>1</td>\n",
       "      <td>4</td>\n",
       "      <td>1</td>\n",
       "      <td>1</td>\n",
       "      <td>1</td>\n",
       "      <td>0</td>\n",
       "      <td>0</td>\n",
       "      <td>1</td>\n",
       "      <td>0</td>\n",
       "      <td>0</td>\n",
       "      <td>...</td>\n",
       "      <td>34.044271</td>\n",
       "      <td>-118.185237</td>\n",
       "      <td>1</td>\n",
       "      <td>3</td>\n",
       "      <td>5</td>\n",
       "      <td>-0.761966</td>\n",
       "      <td>0.960261</td>\n",
       "      <td>1.679621</td>\n",
       "      <td>0.764178</td>\n",
       "      <td>1.158060</td>\n",
       "    </tr>\n",
       "    <tr>\n",
       "      <th>2</th>\n",
       "      <td>0</td>\n",
       "      <td>3</td>\n",
       "      <td>1</td>\n",
       "      <td>1</td>\n",
       "      <td>1</td>\n",
       "      <td>2</td>\n",
       "      <td>0</td>\n",
       "      <td>0</td>\n",
       "      <td>0</td>\n",
       "      <td>0</td>\n",
       "      <td>...</td>\n",
       "      <td>34.108833</td>\n",
       "      <td>-118.229715</td>\n",
       "      <td>1</td>\n",
       "      <td>3</td>\n",
       "      <td>5</td>\n",
       "      <td>-0.267381</td>\n",
       "      <td>0.745950</td>\n",
       "      <td>-1.239184</td>\n",
       "      <td>-1.485653</td>\n",
       "      <td>0.996588</td>\n",
       "    </tr>\n",
       "  </tbody>\n",
       "</table>\n",
       "<p>3 rows × 33 columns</p>\n",
       "</div>"
      ]
     },
     "execution_count": 144,
     "metadata": {},
     "output_type": "execute_result"
    }
   ],
   "execution_count": 144
  },
  {
   "metadata": {
    "ExecuteTime": {
     "end_time": "2025-05-24T14:32:21.759325Z",
     "start_time": "2025-05-24T14:32:21.750972Z"
    }
   },
   "cell_type": "code",
   "source": [
    "# Check the structure of the final dataset\n",
    "data_inputs.info()"
   ],
   "outputs": [
    {
     "name": "stdout",
     "output_type": "stream",
     "text": [
      "<class 'pandas.core.frame.DataFrame'>\n",
      "Index: 7043 entries, 0 to 7042\n",
      "Data columns (total 33 columns):\n",
      " #   Column                  Non-Null Count  Dtype  \n",
      "---  ------                  --------------  -----  \n",
      " 0   Referred a Friend       7043 non-null   int64  \n",
      " 1   Offer                   7043 non-null   int64  \n",
      " 2   Phone Service           7043 non-null   int64  \n",
      " 3   Multiple Lines          7043 non-null   int64  \n",
      " 4   Internet Service        7043 non-null   int64  \n",
      " 5   Internet Type           7043 non-null   int64  \n",
      " 6   Online Security         7043 non-null   int64  \n",
      " 7   Online Backup           7043 non-null   int64  \n",
      " 8   Device Protection Plan  7043 non-null   int64  \n",
      " 9   Premium Tech Support    7043 non-null   int64  \n",
      " 10  Streaming TV            7043 non-null   int64  \n",
      " 11  Streaming Movies        7043 non-null   int64  \n",
      " 12  Streaming Music         7043 non-null   int64  \n",
      " 13  Unlimited Data          7043 non-null   int64  \n",
      " 14  Contract                7043 non-null   int64  \n",
      " 15  Paperless Billing       7043 non-null   int64  \n",
      " 16  Payment Method          7043 non-null   int64  \n",
      " 17  Gender                  7043 non-null   int64  \n",
      " 18  Under 30                7043 non-null   int64  \n",
      " 19  Senior Citizen          7043 non-null   int64  \n",
      " 20  Married                 7043 non-null   int64  \n",
      " 21  Dependents              7043 non-null   int64  \n",
      " 22  Zip Code                7043 non-null   int64  \n",
      " 23  Latitude                7043 non-null   float64\n",
      " 24  Longitude               7043 non-null   float64\n",
      " 25  Churn Category          7043 non-null   int64  \n",
      " 26  Churn Reason            7043 non-null   int64  \n",
      " 27  Customer Satisfaction   7043 non-null   int64  \n",
      " 28  PC0                     7043 non-null   float64\n",
      " 29  PC1                     7043 non-null   float64\n",
      " 30  PC2                     7043 non-null   float64\n",
      " 31  PC3                     7043 non-null   float64\n",
      " 32  PC4                     7043 non-null   float64\n",
      "dtypes: float64(7), int64(26)\n",
      "memory usage: 1.8 MB\n"
     ]
    }
   ],
   "execution_count": 145
  },
  {
   "metadata": {},
   "cell_type": "markdown",
   "source": [
    "## Clustering Model Implementation\n",
    "Now we'll implement multiple clustering algorithms to segment our customers. We'll use:\n",
    "1. K-means with 2 clusters\n",
    "2. K-means with 3 clusters\n",
    "3. DBSCAN (Density-Based Spatial Clustering of Applications with Noise)\n",
    "\n",
    "Using multiple clustering algorithms allows us to compare different approaches and select the most meaningful segmentation.\n"
   ]
  },
  {
   "metadata": {
    "ExecuteTime": {
     "end_time": "2025-05-24T14:32:21.846801Z",
     "start_time": "2025-05-24T14:32:21.843664Z"
    }
   },
   "cell_type": "code",
   "source": [
    "# Initialize the clustering models\n",
    "kmeans_2 = KMeans(random_state = 42, n_clusters = 2)  # K-means with 2 clusters\n",
    "kmeans_3 = KMeans(random_state = 42, n_clusters = 3)  # K-means with 3 clusters\n",
    "dbscan = DBSCAN(eps = 3, min_samples = 5)  # DBSCAN with epsilon=3 and min_samples=5\n"
   ],
   "outputs": [],
   "execution_count": 146
  },
  {
   "metadata": {},
   "cell_type": "markdown",
   "source": [
    "### Fitting the Clustering Models\n",
    "Now we'll fit each clustering model to our data and extract the cluster labels.\n"
   ]
  },
  {
   "metadata": {
    "ExecuteTime": {
     "end_time": "2025-05-24T14:32:21.994712Z",
     "start_time": "2025-05-24T14:32:21.924543Z"
    }
   },
   "cell_type": "code",
   "source": [
    "# Fit K-means with 2 clusters and extract labels\n",
    "kmeans_2_labels = pd.DataFrame(kmeans_2.fit(data_inputs).labels_).rename({0:'KM2_Label'}, axis = 1)\n",
    "\n",
    "# Fit K-means with 3 clusters and extract labels\n",
    "kmeans_3_labels = pd.DataFrame(kmeans_3.fit(data_inputs).labels_).rename({0:'KM3_Label'}, axis = 1)\n",
    "\n",
    "# Fit DBSCAN and extract labels\n",
    "dbscan_labels = pd.DataFrame(dbscan.fit(data_inputs).labels_).rename({0:'DBSCAN_Label'}, axis = 1)\n"
   ],
   "outputs": [],
   "execution_count": 147
  },
  {
   "metadata": {},
   "cell_type": "markdown",
   "source": [
    "### Examining Cluster Labels\n",
    "Let's examine the cluster labels from our K-means model with 2 clusters.\n"
   ]
  },
  {
   "metadata": {
    "ExecuteTime": {
     "end_time": "2025-05-24T14:32:22.046541Z",
     "start_time": "2025-05-24T14:32:22.039773Z"
    }
   },
   "cell_type": "code",
   "source": [
    "# Preview the K-means with 2 clusters labels\n",
    "kmeans_2_labels\n"
   ],
   "outputs": [
    {
     "data": {
      "text/plain": [
       "      KM2_Label\n",
       "0             0\n",
       "1             0\n",
       "2             0\n",
       "3             0\n",
       "4             0\n",
       "...         ...\n",
       "7038          0\n",
       "7039          0\n",
       "7040          0\n",
       "7041          0\n",
       "7042          0\n",
       "\n",
       "[7043 rows x 1 columns]"
      ],
      "text/html": [
       "<div>\n",
       "<style scoped>\n",
       "    .dataframe tbody tr th:only-of-type {\n",
       "        vertical-align: middle;\n",
       "    }\n",
       "\n",
       "    .dataframe tbody tr th {\n",
       "        vertical-align: top;\n",
       "    }\n",
       "\n",
       "    .dataframe thead th {\n",
       "        text-align: right;\n",
       "    }\n",
       "</style>\n",
       "<table border=\"1\" class=\"dataframe\">\n",
       "  <thead>\n",
       "    <tr style=\"text-align: right;\">\n",
       "      <th></th>\n",
       "      <th>KM2_Label</th>\n",
       "    </tr>\n",
       "  </thead>\n",
       "  <tbody>\n",
       "    <tr>\n",
       "      <th>0</th>\n",
       "      <td>0</td>\n",
       "    </tr>\n",
       "    <tr>\n",
       "      <th>1</th>\n",
       "      <td>0</td>\n",
       "    </tr>\n",
       "    <tr>\n",
       "      <th>2</th>\n",
       "      <td>0</td>\n",
       "    </tr>\n",
       "    <tr>\n",
       "      <th>3</th>\n",
       "      <td>0</td>\n",
       "    </tr>\n",
       "    <tr>\n",
       "      <th>4</th>\n",
       "      <td>0</td>\n",
       "    </tr>\n",
       "    <tr>\n",
       "      <th>...</th>\n",
       "      <td>...</td>\n",
       "    </tr>\n",
       "    <tr>\n",
       "      <th>7038</th>\n",
       "      <td>0</td>\n",
       "    </tr>\n",
       "    <tr>\n",
       "      <th>7039</th>\n",
       "      <td>0</td>\n",
       "    </tr>\n",
       "    <tr>\n",
       "      <th>7040</th>\n",
       "      <td>0</td>\n",
       "    </tr>\n",
       "    <tr>\n",
       "      <th>7041</th>\n",
       "      <td>0</td>\n",
       "    </tr>\n",
       "    <tr>\n",
       "      <th>7042</th>\n",
       "      <td>0</td>\n",
       "    </tr>\n",
       "  </tbody>\n",
       "</table>\n",
       "<p>7043 rows × 1 columns</p>\n",
       "</div>"
      ]
     },
     "execution_count": 148,
     "metadata": {},
     "output_type": "execute_result"
    }
   ],
   "execution_count": 148
  },
  {
   "metadata": {},
   "cell_type": "markdown",
   "source": [
    "### Combining Cluster Labels\n",
    "Now we'll combine the labels from all three clustering models into a single dataframe for comparison.\n"
   ]
  },
  {
   "metadata": {
    "ExecuteTime": {
     "end_time": "2025-05-24T14:32:22.151309Z",
     "start_time": "2025-05-24T14:32:22.137059Z"
    }
   },
   "cell_type": "code",
   "source": [
    "# Merge K-means with 2 clusters and K-means with 3 clusters labels\n",
    "tempdf = kmeans_2_labels.reset_index().merge(\n",
    "                      right = kmeans_3_labels.reset_index(),\n",
    "                      how = 'inner',\n",
    "                      right_on = 'index', left_on = 'index'\n",
    "                                            )\n",
    "# Add DBSCAN labels to the combined dataframe\n",
    "all_labels = tempdf.merge(\n",
    "                      right = dbscan_labels.reset_index(),\n",
    "                      how = 'inner',\n",
    "                      right_on = 'index', left_on = 'index'\n",
    "                         )\n",
    "# Preview the combined labels\n",
    "all_labels.head(2)\n"
   ],
   "outputs": [
    {
     "data": {
      "text/plain": [
       "   index  KM2_Label  KM3_Label  DBSCAN_Label\n",
       "0      0          0          0            -1\n",
       "1      1          0          0            -1"
      ],
      "text/html": [
       "<div>\n",
       "<style scoped>\n",
       "    .dataframe tbody tr th:only-of-type {\n",
       "        vertical-align: middle;\n",
       "    }\n",
       "\n",
       "    .dataframe tbody tr th {\n",
       "        vertical-align: top;\n",
       "    }\n",
       "\n",
       "    .dataframe thead th {\n",
       "        text-align: right;\n",
       "    }\n",
       "</style>\n",
       "<table border=\"1\" class=\"dataframe\">\n",
       "  <thead>\n",
       "    <tr style=\"text-align: right;\">\n",
       "      <th></th>\n",
       "      <th>index</th>\n",
       "      <th>KM2_Label</th>\n",
       "      <th>KM3_Label</th>\n",
       "      <th>DBSCAN_Label</th>\n",
       "    </tr>\n",
       "  </thead>\n",
       "  <tbody>\n",
       "    <tr>\n",
       "      <th>0</th>\n",
       "      <td>0</td>\n",
       "      <td>0</td>\n",
       "      <td>0</td>\n",
       "      <td>-1</td>\n",
       "    </tr>\n",
       "    <tr>\n",
       "      <th>1</th>\n",
       "      <td>1</td>\n",
       "      <td>0</td>\n",
       "      <td>0</td>\n",
       "      <td>-1</td>\n",
       "    </tr>\n",
       "  </tbody>\n",
       "</table>\n",
       "</div>"
      ]
     },
     "execution_count": 149,
     "metadata": {},
     "output_type": "execute_result"
    }
   ],
   "execution_count": 149
  },
  {
   "metadata": {},
   "cell_type": "markdown",
   "source": [
    "### Creating the Final Dataset with Cluster Labels\n",
    "Now we'll merge the cluster labels with the original dataset to create our final dataset for analysis and visualization.\n"
   ]
  },
  {
   "metadata": {
    "ExecuteTime": {
     "end_time": "2025-05-24T14:32:22.306063Z",
     "start_time": "2025-05-24T14:32:22.279064Z"
    }
   },
   "cell_type": "code",
   "source": [
    "# Merge cluster labels with the original dataset\n",
    "df_all = all_labels.merge(\n",
    "                      right = df.reset_index(),\n",
    "                      how = 'inner',\n",
    "                      right_on = 'index', left_on = 'index'\n",
    "                         )\n",
    "# Preview the final dataset\n",
    "df_all.head(3)\n"
   ],
   "outputs": [
    {
     "data": {
      "text/plain": [
       "   index  KM2_Label  KM3_Label  DBSCAN_Label  Customer ID  Referred a Friend  \\\n",
       "0      0          0          0            -1         6207                  0   \n",
       "1      1          0          0            -1         5305                  1   \n",
       "2      2          0          0            -1         1129                  0   \n",
       "\n",
       "   Number of Referrals  Tenure in Months  Offer  Phone Service  ...  \\\n",
       "0                    0                 1      5              0  ...   \n",
       "1                    1                 8      4              1  ...   \n",
       "2                    0                18      3              1  ...   \n",
       "\n",
       "    Latitude   Longitude  Population  Churn Value  CLTV  Churn Category  \\\n",
       "0  34.023810 -118.156582       68701            1  5433               1   \n",
       "1  34.044271 -118.185237       55668            1  5302               1   \n",
       "2  34.108833 -118.229715       47534            1  3179               1   \n",
       "\n",
       "   Churn Reason  Total Customer Svc Requests  Product/Service Issues Reported  \\\n",
       "0             5                            5                                0   \n",
       "1             3                            5                                0   \n",
       "2             3                            1                                0   \n",
       "\n",
       "   Customer Satisfaction  \n",
       "0                      5  \n",
       "1                      5  \n",
       "2                      5  \n",
       "\n",
       "[3 rows x 50 columns]"
      ],
      "text/html": [
       "<div>\n",
       "<style scoped>\n",
       "    .dataframe tbody tr th:only-of-type {\n",
       "        vertical-align: middle;\n",
       "    }\n",
       "\n",
       "    .dataframe tbody tr th {\n",
       "        vertical-align: top;\n",
       "    }\n",
       "\n",
       "    .dataframe thead th {\n",
       "        text-align: right;\n",
       "    }\n",
       "</style>\n",
       "<table border=\"1\" class=\"dataframe\">\n",
       "  <thead>\n",
       "    <tr style=\"text-align: right;\">\n",
       "      <th></th>\n",
       "      <th>index</th>\n",
       "      <th>KM2_Label</th>\n",
       "      <th>KM3_Label</th>\n",
       "      <th>DBSCAN_Label</th>\n",
       "      <th>Customer ID</th>\n",
       "      <th>Referred a Friend</th>\n",
       "      <th>Number of Referrals</th>\n",
       "      <th>Tenure in Months</th>\n",
       "      <th>Offer</th>\n",
       "      <th>Phone Service</th>\n",
       "      <th>...</th>\n",
       "      <th>Latitude</th>\n",
       "      <th>Longitude</th>\n",
       "      <th>Population</th>\n",
       "      <th>Churn Value</th>\n",
       "      <th>CLTV</th>\n",
       "      <th>Churn Category</th>\n",
       "      <th>Churn Reason</th>\n",
       "      <th>Total Customer Svc Requests</th>\n",
       "      <th>Product/Service Issues Reported</th>\n",
       "      <th>Customer Satisfaction</th>\n",
       "    </tr>\n",
       "  </thead>\n",
       "  <tbody>\n",
       "    <tr>\n",
       "      <th>0</th>\n",
       "      <td>0</td>\n",
       "      <td>0</td>\n",
       "      <td>0</td>\n",
       "      <td>-1</td>\n",
       "      <td>6207</td>\n",
       "      <td>0</td>\n",
       "      <td>0</td>\n",
       "      <td>1</td>\n",
       "      <td>5</td>\n",
       "      <td>0</td>\n",
       "      <td>...</td>\n",
       "      <td>34.023810</td>\n",
       "      <td>-118.156582</td>\n",
       "      <td>68701</td>\n",
       "      <td>1</td>\n",
       "      <td>5433</td>\n",
       "      <td>1</td>\n",
       "      <td>5</td>\n",
       "      <td>5</td>\n",
       "      <td>0</td>\n",
       "      <td>5</td>\n",
       "    </tr>\n",
       "    <tr>\n",
       "      <th>1</th>\n",
       "      <td>1</td>\n",
       "      <td>0</td>\n",
       "      <td>0</td>\n",
       "      <td>-1</td>\n",
       "      <td>5305</td>\n",
       "      <td>1</td>\n",
       "      <td>1</td>\n",
       "      <td>8</td>\n",
       "      <td>4</td>\n",
       "      <td>1</td>\n",
       "      <td>...</td>\n",
       "      <td>34.044271</td>\n",
       "      <td>-118.185237</td>\n",
       "      <td>55668</td>\n",
       "      <td>1</td>\n",
       "      <td>5302</td>\n",
       "      <td>1</td>\n",
       "      <td>3</td>\n",
       "      <td>5</td>\n",
       "      <td>0</td>\n",
       "      <td>5</td>\n",
       "    </tr>\n",
       "    <tr>\n",
       "      <th>2</th>\n",
       "      <td>2</td>\n",
       "      <td>0</td>\n",
       "      <td>0</td>\n",
       "      <td>-1</td>\n",
       "      <td>1129</td>\n",
       "      <td>0</td>\n",
       "      <td>0</td>\n",
       "      <td>18</td>\n",
       "      <td>3</td>\n",
       "      <td>1</td>\n",
       "      <td>...</td>\n",
       "      <td>34.108833</td>\n",
       "      <td>-118.229715</td>\n",
       "      <td>47534</td>\n",
       "      <td>1</td>\n",
       "      <td>3179</td>\n",
       "      <td>1</td>\n",
       "      <td>3</td>\n",
       "      <td>1</td>\n",
       "      <td>0</td>\n",
       "      <td>5</td>\n",
       "    </tr>\n",
       "  </tbody>\n",
       "</table>\n",
       "<p>3 rows × 50 columns</p>\n",
       "</div>"
      ]
     },
     "execution_count": 150,
     "metadata": {},
     "output_type": "execute_result"
    }
   ],
   "execution_count": 150
  },
  {
   "metadata": {
    "ExecuteTime": {
     "end_time": "2025-05-24T14:32:22.474683Z",
     "start_time": "2025-05-24T14:32:22.463191Z"
    }
   },
   "cell_type": "code",
   "source": [
    "# Check the structure of the final dataset with cluster labels\n",
    "df_all.info()"
   ],
   "outputs": [
    {
     "name": "stdout",
     "output_type": "stream",
     "text": [
      "<class 'pandas.core.frame.DataFrame'>\n",
      "RangeIndex: 7043 entries, 0 to 7042\n",
      "Data columns (total 50 columns):\n",
      " #   Column                             Non-Null Count  Dtype  \n",
      "---  ------                             --------------  -----  \n",
      " 0   index                              7043 non-null   int64  \n",
      " 1   KM2_Label                          7043 non-null   int32  \n",
      " 2   KM3_Label                          7043 non-null   int32  \n",
      " 3   DBSCAN_Label                       7043 non-null   int64  \n",
      " 4   Customer ID                        7043 non-null   int64  \n",
      " 5   Referred a Friend                  7043 non-null   int64  \n",
      " 6   Number of Referrals                7043 non-null   int64  \n",
      " 7   Tenure in Months                   7043 non-null   int64  \n",
      " 8   Offer                              7043 non-null   int64  \n",
      " 9   Phone Service                      7043 non-null   int64  \n",
      " 10  Avg Monthly Long Distance Charges  7043 non-null   float64\n",
      " 11  Multiple Lines                     7043 non-null   int64  \n",
      " 12  Internet Service                   7043 non-null   int64  \n",
      " 13  Internet Type                      7043 non-null   int64  \n",
      " 14  Avg Monthly GB Download            7043 non-null   int64  \n",
      " 15  Online Security                    7043 non-null   int64  \n",
      " 16  Online Backup                      7043 non-null   int64  \n",
      " 17  Device Protection Plan             7043 non-null   int64  \n",
      " 18  Premium Tech Support               7043 non-null   int64  \n",
      " 19  Streaming TV                       7043 non-null   int64  \n",
      " 20  Streaming Movies                   7043 non-null   int64  \n",
      " 21  Streaming Music                    7043 non-null   int64  \n",
      " 22  Unlimited Data                     7043 non-null   int64  \n",
      " 23  Contract                           7043 non-null   int64  \n",
      " 24  Paperless Billing                  7043 non-null   int64  \n",
      " 25  Payment Method                     7043 non-null   int64  \n",
      " 26  Monthly Charge                     7043 non-null   float64\n",
      " 27  Total Regular Charges              7043 non-null   float64\n",
      " 28  Total Refunds                      7043 non-null   float64\n",
      " 29  Total Extra Data Charges           7043 non-null   float64\n",
      " 30  Total Long Distance Charges        7043 non-null   float64\n",
      " 31  Gender                             7043 non-null   int64  \n",
      " 32  Age                                7043 non-null   int64  \n",
      " 33  Under 30                           7043 non-null   int64  \n",
      " 34  Senior Citizen                     7043 non-null   int64  \n",
      " 35  Married                            7043 non-null   int64  \n",
      " 36  Dependents                         7043 non-null   int64  \n",
      " 37  Number of Dependents               7043 non-null   int64  \n",
      " 38  City                               7043 non-null   int64  \n",
      " 39  Zip Code                           7043 non-null   int64  \n",
      " 40  Latitude                           7043 non-null   float64\n",
      " 41  Longitude                          7043 non-null   float64\n",
      " 42  Population                         7043 non-null   int64  \n",
      " 43  Churn Value                        7043 non-null   int64  \n",
      " 44  CLTV                               7043 non-null   int64  \n",
      " 45  Churn Category                     7043 non-null   int64  \n",
      " 46  Churn Reason                       7043 non-null   int64  \n",
      " 47  Total Customer Svc Requests        7043 non-null   int64  \n",
      " 48  Product/Service Issues Reported    7043 non-null   int64  \n",
      " 49  Customer Satisfaction              7043 non-null   int64  \n",
      "dtypes: float64(8), int32(2), int64(40)\n",
      "memory usage: 2.6 MB\n"
     ]
    }
   ],
   "execution_count": 151
  },
  {
   "metadata": {},
   "cell_type": "markdown",
   "source": [
    "## Cluster Visualization and Analysis\n",
    "Now we'll visualize our clusters to understand the patterns and relationships between different customer segments. We'll create several visualizations to explore how the clusters relate to different variables.\n"
   ]
  },
  {
   "metadata": {},
   "cell_type": "markdown",
   "source": [
    "### Visualizing Clusters by Churn Value and Location\n",
    "First, let's examine how our K-means clusters with 3 segments relate to customer churn and geographical location.\n"
   ]
  },
  {
   "metadata": {
    "ExecuteTime": {
     "end_time": "2025-05-24T14:32:23.213984Z",
     "start_time": "2025-05-24T14:32:22.607727Z"
    }
   },
   "cell_type": "code",
   "source": [
    "# Create a scatter plot of Churn Value vs. Longitude colored by K-means clusters\n",
    "plt.figure(figsize = (10, 6))\n",
    "\n",
    "sns.scatterplot(data = df_all,\n",
    "                x = 'Churn Value',\n",
    "                y = 'Longitude',\n",
    "                hue = 'KM3_Label'\n",
    "               )\n"
   ],
   "outputs": [
    {
     "data": {
      "text/plain": [
       "<Axes: xlabel='Churn Value', ylabel='Longitude'>"
      ]
     },
     "execution_count": 152,
     "metadata": {},
     "output_type": "execute_result"
    },
    {
     "data": {
      "text/plain": [
       "<Figure size 1000x600 with 1 Axes>"
      ],
      "image/png": "[encoded data removed]"
     },
     "metadata": {},
     "output_type": "display_data"
    }
   ],
   "execution_count": 152
  },
  {
   "metadata": {},
   "cell_type": "markdown",
   "source": [
    "### Visualizing Geographical Distribution of Clusters\n",
    "Now let's visualize how our clusters are distributed geographically by plotting Latitude vs. Longitude.\n"
   ]
  },
  {
   "metadata": {
    "ExecuteTime": {
     "end_time": "2025-05-24T14:32:23.778844Z",
     "start_time": "2025-05-24T14:32:23.283178Z"
    }
   },
   "cell_type": "code",
   "source": [
    "# Create a scatter plot of Latitude vs. Longitude colored by K-means clusters\n",
    "plt.figure(figsize = (10, 6))\n",
    "\n",
    "sns.scatterplot(data = df_all,\n",
    "                x = 'Latitude',\n",
    "                y = 'Longitude',\n",
    "                hue = 'KM3_Label'\n",
    "               )\n"
   ],
   "outputs": [
    {
     "data": {
      "text/plain": [
       "<Axes: xlabel='Latitude', ylabel='Longitude'>"
      ]
     },
     "execution_count": 153,
     "metadata": {},
     "output_type": "execute_result"
    },
    {
     "data": {
      "text/plain": [
       "<Figure size 1000x600 with 1 Axes>"
      ],
      "image/png": "[encoded data removed]"
     },
     "metadata": {},
     "output_type": "display_data"
    }
   ],
   "execution_count": 153
  },
  {
   "metadata": {},
   "cell_type": "markdown",
   "source": [
    "### Interactive Geographical Visualization\n",
    "Finally, let's create an interactive geographical visualization using Plotly to better understand the spatial distribution of our customer segments.\n"
   ]
  },
  {
   "metadata": {
    "ExecuteTime": {
     "end_time": "2025-05-24T14:32:23.826558Z",
     "start_time": "2025-05-24T14:32:23.785479Z"
    }
   },
   "cell_type": "code",
   "source": [
    "# Create an interactive geographical scatter plot colored by K-means clusters\n",
    "px.scatter_geo(data_frame = df_all,\n",
    "               lat = 'Latitude',\n",
    "               lon = 'Longitude',\n",
    "               color = 'KM3_Label'\n",
    "              )\n"
   ],
   "outputs": [
    {
     "data": {
      "application/vnd.plotly.v1+json": {
       "data": [
        {
         "geo": "geo",
         "hovertemplate": "Latitude=%{lat}<br>Longitude=%{lon}<br>KM3_Label=%{marker.color}<extra></extra>",
         "lat": {
          "dtype": "f8",
          "bdata": "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"
         },
         "legendgroup": "",
         "lon": {
          "dtype": "f8",
          "bdata": "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"
         },
         "marker": {
          "color": {
           "dtype": "i4",
           "bdata": "AAAAAAAAAAAAAAAAAAAAAAAAAAAAAAAAAAAAAAAAAAAAAAAAAAAAAAAAAAAAAAAAAAAAAAAAAAAAAAAAAAAAAAIAAAACAAAAAgAAAAIAAAACAAAAAgAAAAIAAAACAAAAAgAAAAIAAAACAAAAAgAAAAIAAAACAAAAAgAAAAIAAAACAAAAAgAAAAIAAAACAAAAAgAAAAIAAAACAAAAAgAAAAIAAAACAAAAAgAAAAIAAAACAAAAAgAAAAIAAAACAAAAAgAAAAIAAAACAAAAAgAAAAIAAAACAAAAAgAAAAIAAAABAAAAAQAAAAEAAAABAAAAAQAAAAEAAAABAAAAAQAAAAEAAAABAAAAAQAAAAEAAAABAAAAAQAAAAEAAAABAAAAAQAAAAEAAAABAAAAAQAAAAEAAAACAAAAAAAAAAEAAAABAAAAAQAAAAEAAAABAAAAAQAAAAEAAAABAAAAAQAAAAEAAAABAAAAAQAAAAEAAAABAAAAAQAAAAEAAAABAAAAAQAAAAIAAAACAAAAAQAAAAEAAAABAAAAAgAAAAIAAAACAAAAAgAAAAIAAAACAAAAAgAAAAAAAAAAAAAAAAAAAAAAAAAAAAAAAAAAAAAAAAAAAAAAAAAAAAAAAAAAAAAAAAAAAAAAAAACAAAAAgAAAAIAAAACAAAAAgAAAAIAAAACAAAAAgAAAAIAAAACAAAAAgAAAAIAAAACAAAAAgAAAAIAAAACAAAAAgAAAAIAAAACAAAAAgAAAAIAAAACAAAAAgAAAAIAAAACAAAAAgAAAAIAAAACAAAAAgAAAAIAAAACAAAAAgAAAAIAAAACAAAAAgAAAAIAAAACAAAAAgAAAAIAAAACAAAAAgAAAAIAAAABAAAAAQAAAAEAAAABAAAAAQAAAAEAAAABAAAAAQAAAAEAAAABAAAAAQAAAAEAAAABAAAAAQAAAAEAAAABAAAAAQAAAAEAAAABAAAAAQAAAAIAAAACAAAAAQAAAAEAAAABAAAAAQAAAAEAAAABAAAAAQAAAAEAAAABAAAAAQAAAAEAAAABAAAAAQAAAAEAAAABAAAAAQAAAAEAAAABAAAAAQAAAAEAAAABAAAAAQAAAAEAAAABAAAAAQAAAAEAAAABAAAAAAAAAAIAAAAAAAAAAAAAAAAAAAAAAAAAAAAAAAAAAAAAAAAAAAAAAAAAAAAAAAAAAAAAAAAAAAAAAAAAAAAAAAAAAAAAAAAAAgAAAAIAAAACAAAAAgAAAAIAAAACAAAAAgAAAAIAAAACAAAAAgAAAAIAAAACAAAAAgAAAAIAAAACAAAAAgAAAAIAAAACAAAAAgAAAAIAAAACAAAAAgAAAAIAAAACAAAAAgAAAAIAAAACAAAAAgAAAAIAAAACAAAAAgAAAAIAAAACAAAAAgAAAAIAAAACAAAAAgAAAAIAAAACAAAAAgAAAAIAAAACAAAAAgAAAAIAAAACAAAAAQAAAAEAAAABAAAAAQAAAAEAAAABAAAAAQAAAAEAAAABAAAAAQAAAAEAAAABAAAAAQAAAAEAAAABAAAAAQAAAAEAAAABAAAAAQAAAAEAAAABAAAAAQAAAAEAAAABAAAAAQAAAAEAAAABAAAAAQAAAAEAAAABAAAAAQAAAAEAAAABAAAAAQAAAAEAAAABAAAAAQAAAAEAAAABAAAAAQAAAAEAAAABAAAAAQAAAAEAAAABAAAAAQAAAAIAAAAAAAAAAAAAAAAAAAAAAAAAAAAAAAAAAAAAAAAAAAAAAAAAAAAAAAAAAAAAAAAAAAAAAAAAAAAAAAAAAAAAAAAAAAAAAAAAAAAAAAAAAAAAAAAAAAAAAAAAAAAAAAAAAAACAAAAAgAAAAIAAAACAAAAAgAAAAIAAAACAAAAAgAAAAIAAAACAAAAAgAAAAIAAAACAAAAAgAAAAIAAAACAAAAAgAAAAIAAAACAAAAAgAAAAIAAAACAAAAAgAAAAIAAAACAAAAAgAAAAIAAAACAAAAAgAAAAIAAAACAAAAAgAAAAIAAAACAAAAAgAAAAIAAAACAAAAAgAAAAIAAAACAAAAAgAAAAIAAAACAAAAAgAAAAIAAAACAAAAAQAAAAEAAAABAAAAAQAAAAEAAAABAAAAAQAAAAEAAAABAAAAAQAAAAEAAAABAAAAAQAAAAEAAAABAAAAAQAAAAEAAAABAAAAAQAAAAEAAAABAAAAAQAAAAEAAAABAAAAAQAAAAAAAAABAAAAAQAAAAEAAAABAAAAAQAAAAEAAAABAAAAAQAAAAEAAAABAAAAAQAAAAEAAAABAAAAAQAAAAEAAAABAAAAAQAAAAEAAAABAAAAAQAAAAEAAAABAAAAAgAAAAIAAAACAAAAAAAAAAAAAAAAAAAAAAAAAAAAAAAAAAAAAAAAAAAAAAAAAAAAAAAAAAAAAAAAAAAAAAAAAAAAAAAAAAAAAAAAAAAAAAAAAAAAAAAAAAIAAAACAAAAAgAAAAIAAAACAAAAAgAAAAIAAAACAAAAAgAAAAIAAAACAAAAAgAAAAIAAAAAAAAAAAAAAAAAAAAAAAAAAAAAAAAAAAAAAAAAAAAAAAAAAAAAAAAAAAAAAAAAAAAAAAAAAAAAAAAAAAAAAAAAAAAAAAAAAAAAAAAAAAAAAAAAAAAAAAAAAAAAAAAAAAACAAAAAgAAAAIAAAACAAAAAgAAAAIAAAACAAAAAgAAAAIAAAACAAAAAgAAAAIAAAACAAAAAgAAAAIAAAACAAAAAgAAAAIAAAACAAAAAgAAAAIAAAACAAAAAgAAAAIAAAACAAAAAgAAAAIAAAACAAAAAgAAAAIAAAACAAAAAgAAAAIAAAACAAAAAgAAAAIAAAACAAAAAgAAAAIAAAACAAAAAgAAAAIAAAACAAAAAgAAAAIAAAACAAAAAgAAAAIAAAACAAAAAgAAAAIAAAACAAAAAgAAAAIAAAACAAAAAgAAAAIAAAACAAAAAgAAAAIAAAACAAAAAgAAAAIAAAACAAAAAgAAAAIAAAACAAAAAgAAAAIAAAACAAAAAQAAAAEAAAABAAAAAQAAAAEAAAABAAAAAQAAAAEAAAABAAAAAQAAAAEAAAABAAAAAQAAAAEAAAABAAAAAQAAAAEAAAABAAAAAQAAAAEAAAABAAAAAQAAAAEAAAABAAAAAQAAAAEAAAABAAAAAQAAAAEAAAABAAAAAQAAAAEAAAABAAAAAQAAAAEAAAABAAAAAQAAAAEAAAABAAAAAQAAAAEAAAABAAAAAQAAAAEAAAABAAAAAQAAAAEAAAABAAAAAQAAAAEAAAABAAAAAQAAAAEAAAABAAAAAQAAAAEAAAABAAAAAQAAAAEAAAABAAAAAQAAAAEAAAACAAAAAQAAAAEAAAABAAAAAQAAAAAAAAAAAAAAAAAAAAAAAAAAAAAAAAAAAAAAAAAAAAAAAAAAAAAAAAAAAAAAAAAAAAAAAAAAAAAAAAAAAAAAAAAAAAAAAAAAAAAAAAAAAAAAAAAAAAAAAAAAAAAAAAAAAAAAAAAAAAAAAAAAAAAAAAAAAAAAAgAAAAIAAAACAAAAAgAAAAIAAAACAAAAAgAAAAIAAAACAAAAAgAAAAIAAAACAAAAAgAAAAIAAAACAAAAAgAAAAIAAAACAAAAAgAAAAIAAAACAAAAAgAAAAIAAAACAAAAAgAAAAIAAAACAAAAAgAAAAIAAAACAAAAAgAAAAIAAAACAAAAAgAAAAIAAAACAAAAAgAAAAIAAAACAAAAAgAAAAIAAAACAAAAAgAAAAIAAAACAAAAAgAAAAIAAAACAAAAAgAAAAIAAAACAAAAAgAAAAIAAAACAAAAAgAAAAIAAAACAAAAAgAAAAIAAAACAAAAAgAAAAIAAAACAAAAAQAAAAEAAAABAAAAAQAAAAEAAAABAAAAAQAAAAEAAAABAAAAAQAAAAEAAAABAAAAAQAAAAEAAAABAAAAAQAAAAEAAAABAAAAAQAAAAEAAAABAAAAAQAAAAEAAAABAAAAAQAAAAEAAAABAAAAAQAAAAEAAAABAAAAAQAAAAEAAAABAAAAAQAAAAEAAAABAAAAAQAAAAEAAAABAAAAAQAAAAEAAAABAAAAAQAAAAEAAAABAAAAAQAAAAEAAAABAAAAAQAAAAEAAAABAAAAAAAAAAAAAAAAAAAAAAAAAAAAAAAAAAAAAAAAAAAAAAAAAAAAAAAAAAAAAAAAAAAAAAAAAAAAAAAAAAAAAAAAAAAAAAAAAAAAAAAAAAAAAAAAAAAAAAAAAAAAAAAAAAAAAAAAAAAAAAAAAAAAAAAAAAAAAAAAAAAAAgAAAAIAAAACAAAAAgAAAAIAAAACAAAAAgAAAAIAAAACAAAAAgAAAAIAAAACAAAAAgAAAAIAAAACAAAAAgAAAAIAAAACAAAAAgAAAAIAAAACAAAAAgAAAAIAAAACAAAAAgAAAAIAAAACAAAAAgAAAAIAAAACAAAAAgAAAAIAAAACAAAAAgAAAAIAAAACAAAAAgAAAAIAAAACAAAAAgAAAAIAAAACAAAAAgAAAAIAAAACAAAAAgAAAAIAAAACAAAAAgAAAAIAAAACAAAAAgAAAAIAAAACAAAAAgAAAAIAAAACAAAAAgAAAAIAAAACAAAAAgAAAAIAAAABAAAAAQAAAAEAAAABAAAAAQAAAAEAAAABAAAAAQAAAAEAAAABAAAAAQAAAAEAAAABAAAAAQAAAAEAAAABAAAAAQAAAAEAAAABAAAAAQAAAAEAAAABAAAAAQAAAAEAAAABAAAAAQAAAAIAAAABAAAAAQAAAAEAAAABAAAAAQAAAAEAAAABAAAAAQAAAAEAAAABAAAAAQAAAAEAAAABAAAAAQAAAAEAAAABAAAAAQAAAAEAAAABAAAAAQAAAAEAAAABAAAAAQAAAAEAAAABAAAAAQAAAAEAAAABAAAAAQAAAAEAAAABAAAAAQAAAAEAAAABAAAAAQAAAAEAAAABAAAAAQAAAAEAAAABAAAAAQAAAAEAAAABAAAAAAAAAAAAAAAAAAAAAAAAAAAAAAAAAAAAAAAAAAAAAAAAAAAAAAAAAAAAAAAAAAAAAAAAAAAAAAAAAAAAAAAAAAAAAAAAAAAAAAAAAAAAAAAAAAAAAAAAAAAAAAAAAAAAAAAAAAAAAAAAAAAAAAAAAAAAAAAAAAAAAgAAAAIAAAACAAAAAgAAAAIAAAACAAAAAgAAAAIAAAACAAAAAgAAAAIAAAACAAAAAgAAAAIAAAACAAAAAgAAAAIAAAACAAAAAgAAAAIAAAACAAAAAgAAAAIAAAACAAAAAgAAAAIAAAACAAAAAgAAAAIAAAACAAAAAgAAAAIAAAACAAAAAgAAAAIAAAACAAAAAgAAAAIAAAACAAAAAgAAAAIAAAACAAAAAgAAAAIAAAACAAAAAgAAAAIAAAACAAAAAgAAAAIAAAACAAAAAgAAAAIAAAACAAAAAgAAAAIAAAACAAAAAgAAAAIAAAACAAAAAgAAAAIAAAACAAAAAgAAAAIAAAABAAAAAQAAAAEAAAABAAAAAQAAAAEAAAABAAAAAQAAAAEAAAABAAAAAQAAAAEAAAABAAAAAQAAAAEAAAABAAAAAQAAAAEAAAABAAAAAQAAAAEAAAABAAAAAQAAAAEAAAABAAAAAQAAAAEAAAABAAAAAQAAAAEAAAABAAAAAQAAAAEAAAABAAAAAQAAAAIAAAABAAAAAQAAAAEAAAABAAAAAQAAAAEAAAABAAAAAQAAAAEAAAABAAAAAQAAAAEAAAABAAAAAQAAAAEAAAABAAAAAQAAAAEAAAABAAAAAQAAAAEAAAABAAAAAQAAAAEAAAABAAAAAQAAAAEAAAABAAAAAQAAAAEAAAABAAAAAQAAAAEAAAAAAAAAAAAAAAAAAAAAAAAAAAAAAAAAAAAAAAAAAAAAAAAAAAAAAAAAAAAAAAAAAAAAAAAAAAAAAAAAAAAAAAAAAAAAAAAAAAAAAAAAAAAAAAAAAAAAAAAAAgAAAAIAAAACAAAAAgAAAAIAAAACAAAAAgAAAAIAAAACAAAAAgAAAAIAAAACAAAAAgAAAAIAAAAAAAAAAAAAAAAAAAAAAAAAAAAAAAIAAAAAAAAAAAAAAAAAAAAAAAAAAAAAAAAAAAAAAAAAAAAAAAAAAAAAAAAAAAAAAAAAAAAAAAAAAAAAAAAAAAAAAAAAAAAAAAAAAAAAAAAAAAAAAAAAAAAAAAAAAAAAAAAAAAAAAAAAAAAAAAAAAAAAAAAAAAAAAAAAAAAAAAAAAAAAAAAAAAAAAAAAAAAAAAAAAAAAAAAAAgAAAAAAAAAAAAAAAAAAAAAAAAAAAAAAAAAAAAAAAAAAAAAAAAAAAAAAAAAAAAAAAAAAAAAAAAACAAAAAgAAAAIAAAACAAAAAgAAAAIAAAACAAAAAgAAAAIAAAACAAAAAgAAAAIAAAACAAAAAgAAAAIAAAACAAAAAgAAAAIAAAACAAAAAgAAAAIAAAACAAAAAgAAAAIAAAACAAAAAgAAAAIAAAACAAAAAgAAAAIAAAACAAAAAgAAAAIAAAACAAAAAgAAAAIAAAACAAAAAgAAAAIAAAACAAAAAgAAAAIAAAACAAAAAgAAAAIAAAACAAAAAgAAAAIAAAACAAAAAgAAAAIAAAACAAAAAgAAAAIAAAACAAAAAgAAAAIAAAACAAAAAgAAAAIAAAACAAAAAgAAAAIAAAACAAAAAgAAAAIAAAACAAAAAgAAAAIAAAACAAAAAgAAAAIAAAACAAAAAgAAAAIAAAACAAAAAgAAAAIAAAACAAAAAgAAAAIAAAACAAAAAgAAAAIAAAACAAAAAgAAAAIAAAACAAAAAgAAAAIAAAACAAAAAgAAAAIAAAACAAAAAgAAAAIAAAACAAAAAgAAAAIAAAACAAAAAgAAAAIAAAACAAAAAgAAAAIAAAACAAAAAgAAAAIAAAACAAAAAgAAAAIAAAACAAAAAgAAAAIAAAACAAAAAgAAAAIAAAACAAAAAgAAAAIAAAACAAAAAgAAAAIAAAABAAAAAQAAAAEAAAABAAAAAQAAAAEAAAABAAAAAQAAAAEAAAABAAAAAQAAAAEAAAABAAAAAQAAAAEAAAABAAAAAQAAAAEAAAABAAAAAQAAAAEAAAABAAAAAQAAAAEAAAABAAAAAQAAAAEAAAABAAAAAQAAAAEAAAABAAAAAQAAAAEAAAABAAAAAQAAAAEAAAABAAAAAQAAAAEAAAABAAAAAQAAAAEAAAABAAAAAQAAAAEAAAABAAAAAQAAAAEAAAABAAAAAQAAAAEAAAABAAAAAQAAAAEAAAABAAAAAQAAAAEAAAABAAAAAQAAAAEAAAABAAAAAQAAAAEAAAABAAAAAQAAAAIAAAABAAAAAQAAAAEAAAABAAAAAQAAAAEAAAABAAAAAQAAAAEAAAABAAAAAQAAAAEAAAABAAAAAQAAAAIAAAABAAAAAQAAAAEAAAABAAAAAQAAAAEAAAABAAAAAQAAAAIAAAABAAAAAQAAAAEAAAABAAAAAQAAAAEAAAABAAAAAQAAAAEAAAABAAAAAQAAAAEAAAABAAAAAQAAAAEAAAABAAAAAQAAAAEAAAABAAAAAQAAAAEAAAABAAAAAQAAAAEAAAABAAAAAQAAAAEAAAABAAAAAQAAAAEAAAABAAAAAQAAAAEAAAABAAAAAQAAAAEAAAABAAAAAQAAAAEAAAABAAAAAQAAAAEAAAABAAAAAQAAAAEAAAABAAAAAQAAAAEAAAACAAAAAgAAAAIAAAACAAAAAgAAAAIAAAACAAAAAgAAAAIAAAACAAAAAAAAAAAAAAAAAAAAAAAAAAAAAAAAAAAAAAAAAAAAAAAAAAAAAAAAAAAAAAAAAAAAAAAAAAAAAAAAAAAAAAAAAAAAAAAAAAAAAAAAAAAAAAAAAAAAAAAAAAAAAAAAAAAAAAAAAAAAAAAAAAAAAAAAAAAAAAAAAAAAAAAAAAAAAAAAAAAAAAAAAAAAAAAAAAAAAAAAAAAAAAAAAAAAAAAAAAAAAAAAAAAAAAAAAAAAAAAAAAAAAAAAAAAAAAAAAAAAAAAAAAAAAAAAAAAAAAAAAAAAAAAAAAAAAAAAAAAAAAACAAAAAgAAAAIAAAACAAAAAgAAAAIAAAACAAAAAgAAAAIAAAACAAAAAgAAAAIAAAACAAAAAgAAAAIAAAACAAAAAgAAAAIAAAACAAAAAgAAAAIAAAACAAAAAgAAAAIAAAACAAAAAgAAAAIAAAACAAAAAgAAAAIAAAACAAAAAgAAAAIAAAACAAAAAgAAAAIAAAACAAAAAgAAAAIAAAACAAAAAgAAAAIAAAACAAAAAgAAAAIAAAACAAAAAgAAAAIAAAACAAAAAgAAAAIAAAACAAAAAgAAAAIAAAACAAAAAgAAAAIAAAACAAAAAgAAAAIAAAACAAAAAgAAAAIAAAACAAAAAgAAAAIAAAACAAAAAgAAAAIAAAACAAAAAgAAAAIAAAACAAAAAgAAAAIAAAACAAAAAgAAAAIAAAACAAAAAgAAAAIAAAACAAAAAgAAAAIAAAACAAAAAgAAAAIAAAACAAAAAgAAAAIAAAACAAAAAgAAAAIAAAACAAAAAgAAAAIAAAACAAAAAgAAAAIAAAACAAAAAgAAAAIAAAACAAAAAgAAAAIAAAACAAAAAgAAAAIAAAACAAAAAgAAAAAAAAACAAAAAgAAAAIAAAACAAAAAgAAAAIAAAACAAAAAgAAAAIAAAACAAAAAgAAAAIAAAACAAAAAQAAAAEAAAABAAAAAQAAAAEAAAABAAAAAQAAAAEAAAABAAAAAQAAAAEAAAABAAAAAQAAAAEAAAABAAAAAQAAAAEAAAABAAAAAQAAAAEAAAABAAAAAQAAAAEAAAABAAAAAQAAAAEAAAABAAAAAQAAAAEAAAABAAAAAQAAAAEAAAABAAAAAQAAAAEAAAABAAAAAQAAAAEAAAABAAAAAQAAAAEAAAABAAAAAQAAAAEAAAABAAAAAQAAAAEAAAABAAAAAQAAAAEAAAABAAAAAQAAAAEAAAABAAAAAQAAAAEAAAABAAAAAQAAAAEAAAABAAAAAQAAAAEAAAABAAAAAQAAAAEAAAABAAAAAQAAAAEAAAABAAAAAQAAAAEAAAABAAAAAQAAAAEAAAABAAAAAQAAAAIAAAABAAAAAQAAAAEAAAABAAAAAQAAAAEAAAABAAAAAQAAAAEAAAABAAAAAQAAAAEAAAABAAAAAQAAAAEAAAABAAAAAQAAAAEAAAABAAAAAQAAAAEAAAABAAAAAQAAAAEAAAABAAAAAQAAAAEAAAABAAAAAQAAAAEAAAABAAAAAQAAAAEAAAABAAAAAQAAAAEAAAABAAAAAQAAAAEAAAABAAAAAQAAAAEAAAABAAAAAQAAAAEAAAABAAAAAQAAAAIAAAACAAAAAQAAAAEAAAACAAAAAQAAAAEAAAABAAAAAQAAAAEAAAABAAAAAQAAAAIAAAABAAAAAQAAAAEAAAACAAAAAAAAAAAAAAAAAAAAAAAAAAAAAAAAAAAAAAAAAAAAAAAAAAAAAAAAAAAAAAAAAAAAAAAAAAAAAAAAAAAAAAAAAAAAAAAAAAAAAAAAAAAAAAAAAAAAAAAAAAAAAAAAAAAAAAAAAAAAAAAAAAAAAAAAAAAAAAAAAAAAAAAAAAAAAAAAAAAAAAAAAAAAAAAAAAAAAAAAAAAAAAAAAAAAAAAAAAAAAAAAAAAAAgAAAAAAAAAAAAAAAAAAAAAAAAAAAAAAAAAAAAAAAAAAAAAAAAAAAAAAAAAAAAAAAAAAAAAAAAAAAAAAAAAAAAIAAAACAAAAAgAAAAIAAAACAAAAAgAAAAIAAAACAAAAAgAAAAIAAAACAAAAAgAAAAIAAAACAAAAAgAAAAIAAAACAAAAAgAAAAIAAAACAAAAAgAAAAIAAAACAAAAAgAAAAIAAAACAAAAAgAAAAIAAAACAAAAAgAAAAIAAAACAAAAAgAAAAIAAAACAAAAAgAAAAIAAAACAAAAAgAAAAIAAAACAAAAAgAAAAIAAAACAAAAAgAAAAIAAAACAAAAAgAAAAIAAAACAAAAAgAAAAIAAAACAAAAAgAAAAIAAAACAAAAAgAAAAIAAAACAAAAAgAAAAIAAAACAAAAAgAAAAIAAAACAAAAAgAAAAIAAAACAAAAAgAAAAIAAAACAAAAAgAAAAIAAAACAAAAAgAAAAIAAAACAAAAAgAAAAIAAAACAAAAAgAAAAIAAAACAAAAAgAAAAIAAAACAAAAAgAAAAIAAAACAAAAAgAAAAIAAAACAAAAAgAAAAIAAAACAAAAAgAAAAIAAAACAAAAAgAAAAIAAAACAAAAAgAAAAIAAAACAAAAAgAAAAIAAAACAAAAAgAAAAIAAAACAAAAAgAAAAIAAAAAAAAAAgAAAAIAAAACAAAAAgAAAAIAAAACAAAAAgAAAAIAAAACAAAAAgAAAAIAAAACAAAAAgAAAAIAAAABAAAAAQAAAAEAAAABAAAAAQAAAAEAAAABAAAAAQAAAAEAAAABAAAAAQAAAAEAAAABAAAAAQAAAAEAAAABAAAAAQAAAAEAAAABAAAAAQAAAAEAAAABAAAAAQAAAAEAAAABAAAAAQAAAAEAAAABAAAAAQAAAAEAAAABAAAAAQAAAAEAAAABAAAAAQAAAAEAAAABAAAAAQAAAAEAAAABAAAAAQAAAAEAAAABAAAAAQAAAAEAAAABAAAAAQAAAAEAAAABAAAAAQAAAAEAAAABAAAAAQAAAAEAAAABAAAAAQAAAAEAAAABAAAAAQAAAAEAAAABAAAAAQAAAAEAAAABAAAAAQAAAAEAAAABAAAAAQAAAAEAAAABAAAAAQAAAAEAAAABAAAAAQAAAAEAAAABAAAAAQAAAAEAAAABAAAAAQAAAAEAAAABAAAAAQAAAAEAAAABAAAAAQAAAAEAAAABAAAAAQAAAAEAAAABAAAAAQAAAAEAAAABAAAAAQAAAAEAAAABAAAAAQAAAAEAAAABAAAAAQAAAAEAAAABAAAAAQAAAAEAAAABAAAAAQAAAAEAAAABAAAAAQAAAAEAAAABAAAAAQAAAAEAAAABAAAAAQAAAAEAAAABAAAAAQAAAAEAAAABAAAAAQAAAAIAAAABAAAAAgAAAAIAAAABAAAAAQAAAAEAAAABAAAAAQAAAAEAAAABAAAAAQAAAAEAAAABAAAAAQAAAAEAAAABAAAAAQAAAAIAAAAAAAAAAAAAAAAAAAAAAAAAAgAAAAAAAAAAAAAAAAAAAAAAAAAAAAAAAAAAAAAAAAAAAAAAAAAAAAAAAAAAAAAAAAAAAAAAAAAAAAAAAAAAAAAAAAAAAAAAAAAAAAAAAAAAAAAAAAAAAAAAAAAAAAAAAAAAAAAAAAAAAAAAAAAAAAAAAAAAAAAAAAAAAAAAAAAAAAAAAAAAAAAAAAAAAAAAAAAAAAIAAAAAAAAAAAAAAAAAAAAAAAAAAAAAAAAAAAACAAAAAgAAAAIAAAACAAAAAgAAAAIAAAACAAAAAgAAAAIAAAACAAAAAgAAAAIAAAACAAAAAgAAAAIAAAACAAAAAgAAAAIAAAACAAAAAgAAAAIAAAACAAAAAgAAAAIAAAACAAAAAgAAAAIAAAACAAAAAgAAAAIAAAACAAAAAgAAAAIAAAACAAAAAgAAAAIAAAACAAAAAgAAAAIAAAACAAAAAgAAAAIAAAACAAAAAgAAAAIAAAACAAAAAgAAAAIAAAACAAAAAgAAAAIAAAACAAAAAgAAAAIAAAACAAAAAgAAAAIAAAACAAAAAgAAAAIAAAACAAAAAgAAAAIAAAACAAAAAgAAAAIAAAACAAAAAgAAAAIAAAACAAAAAgAAAAIAAAACAAAAAgAAAAIAAAACAAAAAgAAAAIAAAACAAAAAgAAAAIAAAACAAAAAgAAAAIAAAACAAAAAgAAAAIAAAACAAAAAgAAAAIAAAACAAAAAgAAAAIAAAACAAAAAgAAAAIAAAACAAAAAgAAAAIAAAACAAAAAgAAAAIAAAACAAAAAgAAAAIAAAACAAAAAgAAAAIAAAACAAAAAgAAAAIAAAACAAAAAgAAAAIAAAACAAAAAgAAAAIAAAACAAAAAgAAAAIAAAAAAAAAAgAAAAIAAAACAAAAAgAAAAIAAAACAAAAAgAAAAIAAAACAAAAAgAAAAIAAAACAAAAAgAAAAIAAAACAAAAAgAAAAIAAAACAAAAAgAAAAEAAAABAAAAAQAAAAEAAAABAAAAAQAAAAEAAAABAAAAAQAAAAEAAAABAAAAAQAAAAEAAAABAAAAAQAAAAEAAAABAAAAAQAAAAEAAAABAAAAAQAAAAEAAAABAAAAAQAAAAEAAAABAAAAAQAAAAEAAAACAAAAAQAAAAEAAAABAAAAAQAAAAEAAAABAAAAAQAAAAEAAAABAAAAAQAAAAEAAAABAAAAAQAAAAEAAAABAAAAAQAAAAEAAAABAAAAAQAAAAEAAAABAAAAAQAAAAEAAAABAAAAAQAAAAEAAAABAAAAAQAAAAEAAAABAAAAAQAAAAEAAAABAAAAAQAAAAEAAAABAAAAAQAAAAEAAAABAAAAAQAAAAEAAAABAAAAAQAAAAEAAAABAAAAAQAAAAEAAAACAAAAAQAAAAEAAAABAAAAAQAAAAEAAAABAAAAAQAAAAEAAAABAAAAAQAAAAEAAAABAAAAAQAAAAEAAAABAAAAAQAAAAEAAAABAAAAAQAAAAEAAAABAAAAAQAAAAEAAAABAAAAAQAAAAEAAAABAAAAAQAAAAEAAAABAAAAAQAAAAEAAAABAAAAAQAAAAEAAAABAAAAAQAAAAEAAAABAAAAAQAAAAEAAAABAAAAAQAAAAEAAAABAAAAAQAAAAEAAAACAAAAAQAAAAEAAAABAAAAAQAAAAEAAAABAAAAAQAAAAIAAAABAAAAAQAAAAEAAAABAAAAAQAAAAEAAAABAAAAAQAAAAEAAAABAAAAAQAAAAIAAAACAAAAAgAAAAIAAAACAAAAAgAAAAIAAAACAAAAAAAAAAAAAAAAAAAAAAAAAAAAAAAAAAAAAAAAAAAAAAAAAAAAAAAAAAAAAAAAAAAAAAAAAAAAAAAAAAAAAAAAAAAAAAAAAAAAAAAAAAAAAAAAAAAAAAAAAAAAAAAAAAAAAAAAAAAAAAAAAAAAAAAAAAAAAAAAAAAAAAAAAAAAAAAAAAAAAgAAAAAAAAAAAAAAAAAAAAAAAAAAAAAAAAAAAAAAAAAAAAAAAAAAAAAAAAAAAAAAAAAAAAAAAAAAAAAAAAAAAAAAAAACAAAAAgAAAAIAAAACAAAAAgAAAAIAAAACAAAAAgAAAAIAAAACAAAAAgAAAAIAAAACAAAAAgAAAAIAAAACAAAAAgAAAAIAAAACAAAAAgAAAAIAAAACAAAAAgAAAAIAAAACAAAAAgAAAAIAAAACAAAAAAAAAAAAAAAAAAAAAAAAAAAAAAAAAAAAAAAAAAAAAAAAAAAAAAAAAAAAAAAAAAAAAAAAAAAAAAAAAAAAAAAAAAAAAAAAAAAAAAAAAAAAAAAAAAAAAAAAAAAAAAAAAAAAAAAAAAAAAAAAAAAAAAAAAAAAAAAAAAAAAAAAAAAAAAAAAAAAAAAAAAAAAAAAAAAAAAAAAAAAAAAAAAAAAAAAAAAAAAAAAAAAAAAAAAAAAAAAAAAAAAAAAAAAAAAAAAAAAAAAAAAAAAAAAAAAAAAAAAAAAAAAAAAAAAAAAAAAAAAAAAAAAAAAAAAAAAAAAAAAAAAAAAAAAAAAAAAAAAAAAAAAAAAAAAAAAAAAAAAAAAAAAAAAAAAAAAAAAAAAAAAAAAAAAAAAAAAAAAAAAAAAAAAAAAAAAAAAAAAAAAAAAAAAAAAAAAAAAAAAAAAAAAAAAAAAAAAAAAAAAAAAAAAAAAAAAAAAAAAAAAAAAAAAAAAAAAAAAAAAAAAAAAAAAAAAAAAAAAAAAAAAAAAAAAAAAAAAAAAAAAAAAAAAAAAAAAAAAAAAAAAAAAAAAAAAAAAAAAAAAAAAAAAAAAAAAAAAAAAAAAAAAAAAAAAAAAAAAAAAAAAAAAAAAAAAAAAAAAAAAAAAAAAAAAAAAAAAAAAAAAAAAAAAAAAAAAAAAAAAAAAAAAAAAAAAAAAAAAAAAAAAAAAAAAAAAAAAAAAAAAAAAAAAAAAAAAAAAAAAAAAAAAAAAAAAAAAAAAAAAAAAAAAAAAAAAAAAAAAAAAAAAAAAAAAAAAAAAAAAAAAAAAAAAAAAAAAAAAAAAAAAAAAAAAAAAAAAAAAAAAAAAAAAAAAAAAAAAAAAAAAAAAAAAAAAAAAAAAAAAAAAAAAAAAAAAAAAAAAAAAAAAAAAAAAAAAAAAAAAAAAAAAAAAAAAAAAAAAAAAAAAAAAAAAAAAAAAAAAAAAAAAAAAAAAAAAAAAAAAAAAAAAAAAAAAAAAAAAAAAAAAAAAAAAAAAAAAAAACAAAAAgAAAAIAAAACAAAAAgAAAAIAAAACAAAAAgAAAAIAAAACAAAAAgAAAAIAAAACAAAAAgAAAAIAAAACAAAAAgAAAAIAAAACAAAAAgAAAAIAAAACAAAAAgAAAAIAAAACAAAAAgAAAAIAAAACAAAAAgAAAAIAAAACAAAAAgAAAAIAAAACAAAAAgAAAAIAAAACAAAAAgAAAAIAAAACAAAAAgAAAAIAAAACAAAAAgAAAAIAAAACAAAAAgAAAAIAAAACAAAAAgAAAAIAAAACAAAAAgAAAAIAAAACAAAAAgAAAAIAAAACAAAAAgAAAAIAAAACAAAAAgAAAAIAAAACAAAAAgAAAAIAAAACAAAAAgAAAAIAAAACAAAAAgAAAAIAAAACAAAAAgAAAAIAAAACAAAAAgAAAAIAAAACAAAAAgAAAAIAAAACAAAAAgAAAAIAAAACAAAAAgAAAAIAAAACAAAAAgAAAAIAAAACAAAAAgAAAAIAAAACAAAAAgAAAAIAAAACAAAAAgAAAAIAAAACAAAAAgAAAAIAAAACAAAAAgAAAAIAAAACAAAAAgAAAAIAAAACAAAAAgAAAAIAAAACAAAAAgAAAAIAAAACAAAAAgAAAAIAAAACAAAAAgAAAAIAAAACAAAAAgAAAAIAAAACAAAAAgAAAAIAAAACAAAAAgAAAAIAAAACAAAAAgAAAAIAAAACAAAAAgAAAAIAAAACAAAAAgAAAAIAAAACAAAAAgAAAAIAAAACAAAAAgAAAAIAAAACAAAAAgAAAAIAAAACAAAAAgAAAAIAAAACAAAAAgAAAAIAAAACAAAAAgAAAAIAAAACAAAAAgAAAAIAAAACAAAAAgAAAAIAAAACAAAAAgAAAAIAAAACAAAAAgAAAAIAAAACAAAAAgAAAAIAAAACAAAAAgAAAAIAAAACAAAAAgAAAAIAAAACAAAAAgAAAAIAAAACAAAAAgAAAAIAAAACAAAAAgAAAAIAAAACAAAAAgAAAAIAAAACAAAAAgAAAAIAAAACAAAAAgAAAAIAAAACAAAAAgAAAAIAAAACAAAAAgAAAAIAAAACAAAAAgAAAAIAAAACAAAAAgAAAAIAAAACAAAAAgAAAAIAAAACAAAAAgAAAAIAAAACAAAAAgAAAAIAAAACAAAAAgAAAAIAAAACAAAAAgAAAAIAAAACAAAAAgAAAAIAAAACAAAAAgAAAAIAAAACAAAAAgAAAAIAAAACAAAAAgAAAAIAAAACAAAAAgAAAAIAAAACAAAAAgAAAAIAAAACAAAAAgAAAAIAAAACAAAAAgAAAAIAAAACAAAAAgAAAAIAAAACAAAAAgAAAAIAAAACAAAAAgAAAAIAAAACAAAAAgAAAAIAAAACAAAAAgAAAAIAAAACAAAAAgAAAAIAAAACAAAAAgAAAAIAAAACAAAAAgAAAAIAAAACAAAAAgAAAAIAAAACAAAAAgAAAAIAAAACAAAAAgAAAAIAAAACAAAAAgAAAAIAAAACAAAAAgAAAAIAAAACAAAAAgAAAAIAAAACAAAAAgAAAAIAAAACAAAAAgAAAAIAAAACAAAAAgAAAAIAAAACAAAAAgAAAAIAAAACAAAAAgAAAAIAAAACAAAAAgAAAAIAAAACAAAAAgAAAAIAAAACAAAAAgAAAAIAAAACAAAAAgAAAAIAAAACAAAAAgAAAAIAAAACAAAAAgAAAAIAAAACAAAAAgAAAAIAAAACAAAAAgAAAAIAAAACAAAAAgAAAAIAAAACAAAAAgAAAAIAAAACAAAAAgAAAAIAAAACAAAAAgAAAAIAAAACAAAAAgAAAAIAAAACAAAAAgAAAAIAAAACAAAAAgAAAAIAAAACAAAAAgAAAAIAAAACAAAAAgAAAAIAAAACAAAAAgAAAAIAAAACAAAAAgAAAAIAAAACAAAAAgAAAAIAAAACAAAAAgAAAAIAAAACAAAAAgAAAAIAAAACAAAAAgAAAAIAAAACAAAAAgAAAAIAAAACAAAAAgAAAAIAAAACAAAAAgAAAAIAAAACAAAAAgAAAAIAAAACAAAAAgAAAAIAAAACAAAAAgAAAAIAAAACAAAAAgAAAAIAAAACAAAAAgAAAAIAAAACAAAAAgAAAAIAAAACAAAAAgAAAAIAAAACAAAAAgAAAAIAAAACAAAAAgAAAAIAAAACAAAAAgAAAAEAAAABAAAAAQAAAAEAAAABAAAAAQAAAAEAAAABAAAAAQAAAAEAAAABAAAAAQAAAAEAAAABAAAAAQAAAAEAAAABAAAAAQAAAAEAAAABAAAAAQAAAAEAAAABAAAAAQAAAAEAAAABAAAAAQAAAAEAAAABAAAAAQAAAAEAAAABAAAAAQAAAAEAAAABAAAAAQAAAAEAAAABAAAAAQAAAAEAAAABAAAAAQAAAAEAAAABAAAAAQAAAAEAAAABAAAAAQAAAAEAAAABAAAAAQAAAAEAAAABAAAAAQAAAAEAAAABAAAAAQAAAAEAAAABAAAAAQAAAAEAAAABAAAAAQAAAAEAAAABAAAAAQAAAAEAAAABAAAAAQAAAAEAAAABAAAAAQAAAAEAAAABAAAAAQAAAAEAAAABAAAAAQAAAAEAAAABAAAAAQAAAAEAAAABAAAAAQAAAAEAAAABAAAAAQAAAAEAAAABAAAAAQAAAAEAAAACAAAAAQAAAAEAAAABAAAAAQAAAAEAAAABAAAAAQAAAAEAAAABAAAAAQAAAAEAAAABAAAAAQAAAAEAAAABAAAAAQAAAAEAAAABAAAAAQAAAAEAAAABAAAAAQAAAAEAAAABAAAAAQAAAAEAAAABAAAAAQAAAAEAAAABAAAAAQAAAAEAAAABAAAAAQAAAAEAAAABAAAAAQAAAAEAAAABAAAAAQAAAAEAAAABAAAAAQAAAAEAAAABAAAAAQAAAAEAAAABAAAAAQAAAAEAAAABAAAAAQAAAAEAAAABAAAAAQAAAAEAAAABAAAAAQAAAAEAAAABAAAAAQAAAAEAAAABAAAAAQAAAAEAAAABAAAAAQAAAAEAAAABAAAAAQAAAAEAAAABAAAAAQAAAAEAAAABAAAAAQAAAAEAAAABAAAAAQAAAAEAAAABAAAAAQAAAAEAAAABAAAAAQAAAAEAAAABAAAAAQAAAAEAAAABAAAAAQAAAAEAAAABAAAAAQAAAAEAAAABAAAAAQAAAAEAAAABAAAAAQAAAAEAAAABAAAAAQAAAAEAAAABAAAAAQAAAAEAAAABAAAAAQAAAAEAAAABAAAAAQAAAAEAAAABAAAAAQAAAAEAAAABAAAAAQAAAAEAAAABAAAAAQAAAAEAAAABAAAAAQAAAAEAAAABAAAAAQAAAAEAAAABAAAAAQAAAAEAAAABAAAAAQAAAAEAAAABAAAAAQAAAAEAAAABAAAAAQAAAAEAAAABAAAAAQAAAAEAAAABAAAAAQAAAAEAAAABAAAAAQAAAAEAAAABAAAAAQAAAAEAAAABAAAAAQAAAAEAAAABAAAAAQAAAAEAAAABAAAAAQAAAAEAAAABAAAAAQAAAAEAAAABAAAAAQAAAAEAAAABAAAAAQAAAAEAAAABAAAAAQAAAAEAAAABAAAAAQAAAAEAAAABAAAAAQAAAAEAAAABAAAAAQAAAAEAAAABAAAAAQAAAAEAAAABAAAAAQAAAAEAAAABAAAAAQAAAAEAAAABAAAAAQAAAAEAAAABAAAAAQAAAAEAAAABAAAAAQAAAAEAAAABAAAAAQAAAAEAAAABAAAAAQAAAAEAAAABAAAAAQAAAAEAAAABAAAAAQAAAAEAAAABAAAAAQAAAAEAAAABAAAAAQAAAAEAAAABAAAAAQAAAAEAAAABAAAAAQAAAAEAAAABAAAAAQAAAAEAAAABAAAAAQAAAAEAAAABAAAAAQAAAAEAAAABAAAAAQAAAAEAAAABAAAAAQAAAAEAAAABAAAAAQAAAAEAAAABAAAAAQAAAAEAAAABAAAAAQAAAAEAAAABAAAAAQAAAAEAAAABAAAAAQAAAAEAAAABAAAAAQAAAAEAAAABAAAAAQAAAAEAAAABAAAAAQAAAAEAAAABAAAAAQAAAAEAAAABAAAAAQAAAAEAAAABAAAAAQAAAAEAAAABAAAAAQAAAAEAAAABAAAAAQAAAAEAAAABAAAAAQAAAAEAAAABAAAAAQAAAAEAAAABAAAAAQAAAAEAAAABAAAAAQAAAAEAAAABAAAAAQAAAAEAAAABAAAAAQAAAAEAAAABAAAAAQAAAAEAAAABAAAAAQAAAAEAAAABAAAAAQAAAAEAAAABAAAAAQAAAAEAAAABAAAAAQAAAAEAAAABAAAAAQAAAAEAAAABAAAAAQAAAAEAAAABAAAAAQAAAAEAAAABAAAAAQAAAAEAAAABAAAAAQAAAAEAAAABAAAAAQAAAAEAAAABAAAAAQAAAAEAAAABAAAAAQAAAAEAAAABAAAAAQAAAAEAAAABAAAAAQAAAAEAAAABAAAAAQAAAAEAAAABAAAAAQAAAAEAAAABAAAAAQAAAAEAAAABAAAAAQAAAAEAAAABAAAAAQAAAAEAAAABAAAAAQAAAAEAAAABAAAAAQAAAAEAAAAAAAAAAAAAAAAAAAAAAAAAAAAAAAAAAAAAAAAAAAAAAAAAAAAAAAAAAAAAAAAAAAAAAAAAAAAAAAAAAAAAAAAAAAAAAAAAAAAAAAAAAAAAAAAAAAAAAAAAAAAAAAAAAAAAAAAAAAAAAAAAAAAAAAAAAAAAAAAAAAAAAAAAAAAAAAAAAAAAAAAAAAAAAAAAAAAAAAAAAAAAAAAAAAAAAAAAAAAAAAAAAAAAAAAAAAAAAAAAAAAAAAAAAAAAAAAAAAAAAAAAAAAAAAAAAAAAAAAAAAAAAAAAAAAAAAAAAAAAAAAAAAAAAAAAAAAAAAAAAAAAAAAAAAAAAAAAAAAAAAAAAAAAAAAAAAAAAAAAAAAAAAAAAAAAAAAAAAAAAAAAAAAAAAAAAAAAAAAAAAAAAAAAAAAAAAAAAAAAAAAAAAAAAAAAAAAAAAAAAAAAAAAAAAAAAAAAAAAAAAAAAAAAAAAAAAAAAAAAAAAAAAAAAAAAAAAAAAAAAAAAAAAAAAAAAAAAAAAAAAAAAAAAAAAAAAAAAAAAAAAAAAAAAAAAAAAAAAAAAAAAAAAAAAAAAAAAAAAAAAAAAAAAAAAAAAAAAAAAAAAAAAAAAAAAAAAAAAAAAAAAAAAAAAAAAAAAAAAAAAAAAAAAAAAAAAAAAAAAAAAAAAAAAAAAAAAAAAAAAAAAAAAAAAAAAAAAAAAAAAAAAAAAAAAAAAAAAAAAAAAAAAAAAAAAAAAAAAAAAAAAAAAAAAAAAAAAAAAAAgAAAAAAAAAAAAAAAAAAAAAAAAAAAAAAAAAAAAAAAAAAAAAAAAAAAAAAAAAAAAAAAAAAAAAAAAAAAAAAAAAAAAAAAAAAAAAAAAAAAAAAAAAAAAAAAAAAAAAAAAAAAAAAAAAAAAAAAAAAAAAAAAAAAAAAAAAAAAAAAAAAAAAAAAAAAAAAAAAAAAAAAAAAAAAAAAAAAAAAAAAAAAAAAAAAAAAAAAAAAAAAAAAAAAAAAAAAAAAAAAAAAAAAAAACAAAAAgAAAAIAAAACAAAAAgAAAAIAAAACAAAAAgAAAAIAAAACAAAAAgAAAAIAAAACAAAAAgAAAAIAAAACAAAAAgAAAAIAAAACAAAAAgAAAAIAAAACAAAAAgAAAAIAAAACAAAAAgAAAAIAAAACAAAAAgAAAAIAAAACAAAAAgAAAAIAAAACAAAAAgAAAAIAAAACAAAAAgAAAAIAAAACAAAAAgAAAAIAAAACAAAAAgAAAAIAAAACAAAAAgAAAAIAAAACAAAAAgAAAAIAAAACAAAAAgAAAAIAAAACAAAAAgAAAAIAAAACAAAAAgAAAAIAAAACAAAAAgAAAAIAAAACAAAAAgAAAAIAAAACAAAAAgAAAAIAAAACAAAAAgAAAAIAAAACAAAAAgAAAAIAAAACAAAAAgAAAAIAAAACAAAAAgAAAAIAAAACAAAAAgAAAAIAAAACAAAAAgAAAAIAAAACAAAAAgAAAAIAAAACAAAAAgAAAAIAAAACAAAAAgAAAAIAAAACAAAAAgAAAAIAAAACAAAAAgAAAAIAAAACAAAAAgAAAAIAAAACAAAAAgAAAAIAAAACAAAAAgAAAAIAAAACAAAAAgAAAAIAAAACAAAAAgAAAAIAAAACAAAAAgAAAAIAAAACAAAAAgAAAAIAAAACAAAAAgAAAAIAAAACAAAAAgAAAAIAAAACAAAAAgAAAAIAAAACAAAAAgAAAAIAAAACAAAAAgAAAAIAAAACAAAAAgAAAAIAAAACAAAAAgAAAAIAAAACAAAAAgAAAAIAAAACAAAAAgAAAAIAAAACAAAAAgAAAAIAAAACAAAAAgAAAAIAAAACAAAAAgAAAAIAAAACAAAAAgAAAAIAAAACAAAAAgAAAAIAAAACAAAAAgAAAAIAAAACAAAAAgAAAAIAAAACAAAAAgAAAAIAAAACAAAAAgAAAAIAAAACAAAAAgAAAAIAAAACAAAAAgAAAAIAAAACAAAAAgAAAAIAAAACAAAAAgAAAAIAAAACAAAAAgAAAAIAAAACAAAAAgAAAAIAAAACAAAAAgAAAAIAAAACAAAAAgAAAAIAAAACAAAAAgAAAAIAAAACAAAAAgAAAAIAAAACAAAAAgAAAAIAAAACAAAAAgAAAAIAAAACAAAAAgAAAAIAAAACAAAAAgAAAAIAAAACAAAAAgAAAAIAAAACAAAAAgAAAAIAAAACAAAAAgAAAAIAAAACAAAAAgAAAAIAAAACAAAAAgAAAAIAAAACAAAAAgAAAAIAAAACAAAAAgAAAAIAAAACAAAAAgAAAAIAAAACAAAAAgAAAAIAAAACAAAAAgAAAAIAAAACAAAAAgAAAAIAAAACAAAAAgAAAAIAAAACAAAAAgAAAAIAAAACAAAAAgAAAAIAAAACAAAAAgAAAAIAAAACAAAAAgAAAAIAAAACAAAAAgAAAAIAAAACAAAAAgAAAAIAAAACAAAAAgAAAAIAAAACAAAAAgAAAAIAAAACAAAAAgAAAAIAAAACAAAAAgAAAAIAAAACAAAAAgAAAAIAAAACAAAAAgAAAAIAAAACAAAAAgAAAAIAAAACAAAAAgAAAAIAAAACAAAAAgAAAAIAAAACAAAAAgAAAAIAAAACAAAAAgAAAAIAAAACAAAAAgAAAAIAAAACAAAAAgAAAAIAAAACAAAAAgAAAAIAAAACAAAAAgAAAAIAAAACAAAAAgAAAAIAAAACAAAAAgAAAAIAAAACAAAAAgAAAAIAAAACAAAAAgAAAAIAAAACAAAAAgAAAAIAAAACAAAAAgAAAAIAAAACAAAAAgAAAAIAAAACAAAAAgAAAAIAAAACAAAAAgAAAAIAAAACAAAAAgAAAAIAAAACAAAAAgAAAAIAAAACAAAAAgAAAAIAAAACAAAAAgAAAAIAAAACAAAAAgAAAAIAAAACAAAAAgAAAAIAAAACAAAAAgAAAAIAAAACAAAAAgAAAAIAAAACAAAAAgAAAAIAAAACAAAAAgAAAAIAAAACAAAAAgAAAAIAAAACAAAAAgAAAAIAAAACAAAAAgAAAAIAAAACAAAAAgAAAAIAAAACAAAAAgAAAAIAAAACAAAAAgAAAAIAAAACAAAAAgAAAAIAAAACAAAAAgAAAAIAAAACAAAAAgAAAAIAAAACAAAAAgAAAAIAAAACAAAAAgAAAAIAAAACAAAAAgAAAAIAAAACAAAAAgAAAAIAAAABAAAAAQAAAAEAAAABAAAAAQAAAAEAAAABAAAAAQAAAAEAAAABAAAAAQAAAAEAAAABAAAAAQAAAAEAAAABAAAAAQAAAAEAAAABAAAAAQAAAAEAAAABAAAAAQAAAAEAAAABAAAAAQAAAAEAAAABAAAAAQAAAAEAAAABAAAAAQAAAAEAAAABAAAAAQAAAAEAAAABAAAAAQAAAAEAAAABAAAAAQAAAAEAAAABAAAAAQAAAAEAAAABAAAAAQAAAAEAAAABAAAAAQAAAAEAAAABAAAAAQAAAAEAAAABAAAAAQAAAAEAAAABAAAAAQAAAAEAAAABAAAAAQAAAAEAAAABAAAAAQAAAAEAAAABAAAAAQAAAAEAAAABAAAAAQAAAAEAAAABAAAAAQAAAAEAAAABAAAAAQAAAAEAAAABAAAAAQAAAAEAAAABAAAAAQAAAAEAAAABAAAAAQAAAAEAAAABAAAAAQAAAAEAAAABAAAAAQAAAAEAAAABAAAAAQAAAAEAAAABAAAAAQAAAAEAAAABAAAAAQAAAAIAAAABAAAAAQAAAAEAAAABAAAAAQAAAAEAAAABAAAAAQAAAAEAAAABAAAAAQAAAAEAAAABAAAAAQAAAAEAAAABAAAAAQAAAAEAAAABAAAAAQAAAAEAAAABAAAAAQAAAAEAAAABAAAAAQAAAAEAAAABAAAAAQAAAAEAAAABAAAAAQAAAAEAAAABAAAAAQAAAAEAAAABAAAAAQAAAAEAAAABAAAAAQAAAAEAAAABAAAAAQAAAAEAAAABAAAAAQAAAAEAAAABAAAAAQAAAAEAAAABAAAAAQAAAAEAAAABAAAAAQAAAAEAAAABAAAAAQAAAAEAAAABAAAAAQAAAAEAAAABAAAAAQAAAAEAAAABAAAAAQAAAAEAAAABAAAAAQAAAAEAAAABAAAAAQAAAAEAAAABAAAAAQAAAAEAAAABAAAAAQAAAAEAAAABAAAAAQAAAAEAAAABAAAAAQAAAAEAAAABAAAAAQAAAAEAAAABAAAAAQAAAAEAAAABAAAAAQAAAAEAAAABAAAAAQAAAAEAAAABAAAAAQAAAAEAAAABAAAAAQAAAAEAAAABAAAAAQAAAAEAAAABAAAAAQAAAAEAAAABAAAAAQAAAAEAAAABAAAAAQAAAAEAAAABAAAAAQAAAAEAAAABAAAAAQAAAAEAAAABAAAAAQAAAAEAAAABAAAAAQAAAAEAAAABAAAAAQAAAAEAAAABAAAAAQAAAAEAAAABAAAAAQAAAAEAAAABAAAAAQAAAAEAAAABAAAAAQAAAAEAAAABAAAAAQAAAAEAAAABAAAAAQAAAAEAAAABAAAAAQAAAAEAAAABAAAAAQAAAAEAAAABAAAAAQAAAAEAAAABAAAAAQAAAAEAAAABAAAAAQAAAAEAAAABAAAAAQAAAAEAAAABAAAAAQAAAAEAAAABAAAAAQAAAAEAAAABAAAAAgAAAAEAAAABAAAAAQAAAAEAAAABAAAAAQAAAAEAAAABAAAAAQAAAAEAAAABAAAAAQAAAAEAAAABAAAAAQAAAAEAAAABAAAAAQAAAAEAAAABAAAAAQAAAAEAAAABAAAAAQAAAAEAAAABAAAAAQAAAAEAAAABAAAAAQAAAAEAAAABAAAAAQAAAAEAAAABAAAAAQAAAAEAAAABAAAAAQAAAAEAAAABAAAAAQAAAAEAAAABAAAAAQAAAAEAAAABAAAAAQAAAAEAAAABAAAAAQAAAAEAAAABAAAAAQAAAAEAAAABAAAAAQAAAAEAAAABAAAAAQAAAAEAAAABAAAAAQAAAAEAAAABAAAAAQAAAAEAAAABAAAAAQAAAAEAAAABAAAAAQAAAAEAAAABAAAAAQAAAAEAAAABAAAAAQAAAAEAAAABAAAAAQAAAAEAAAABAAAAAQAAAAEAAAABAAAAAQAAAAEAAAABAAAAAQAAAAEAAAABAAAAAQAAAAEAAAABAAAAAQAAAAEAAAABAAAAAQAAAAEAAAABAAAAAQAAAAEAAAABAAAAAQAAAAEAAAABAAAAAQAAAAEAAAABAAAAAQAAAAEAAAABAAAAAQAAAAEAAAABAAAAAQAAAAEAAAABAAAAAQAAAAEAAAABAAAAAQAAAAEAAAABAAAAAQAAAAEAAAABAAAAAQAAAAEAAAABAAAAAQAAAAEAAAABAAAAAQAAAAEAAAABAAAAAQAAAAEAAAABAAAAAQAAAAEAAAABAAAAAQAAAAEAAAABAAAAAQAAAAEAAAABAAAAAQAAAAEAAAABAAAAAQAAAAEAAAABAAAAAQAAAAEAAAABAAAAAQAAAAEAAAABAAAAAQAAAAEAAAABAAAAAQAAAAEAAAABAAAAAQAAAAEAAAABAAAAAQAAAAEAAAABAAAAAQAAAAEAAAABAAAAAQAAAAEAAAABAAAAAQAAAAEAAAABAAAAAQAAAAEAAAABAAAAAQAAAAEAAAABAAAAAQAAAAEAAAABAAAAAQAAAAEAAAABAAAAAQAAAAEAAAABAAAAAQAAAAEAAAABAAAAAQAAAAEAAAAAAAAAAAAAAAAAAAAAAAAAAAAAAAAAAAAAAAAAAAAAAAAAAAAAAAAAAAAAAAAAAAAAAAAAAAAAAAAAAAAAAAAAAAAAAAAAAAAAAAAAAAAAAAAAAAAAAAAAAAAAAAAAAAAAAAAAAAAAAAAAAAAAAAAAAAAAAAAAAAAAAAAAAAAAAAAAAAAAAAAAAAAAAAAAAAAAAAAAAAAAAAAAAAAAAAAAAAAAAAAAAAAAAAAAAAAAAAAAAAAAAAAAAAAAAAAAAAAAAAAAAAAAAAAAAAAAAAAAAAAAAAAAAAAAAAAAAAAAAAAAAAAAAAAAAAAAAAAAAAAAAAAAAAAAAAAAAAAAAAAAAAAAAAAAAAAAAAAAAAAAAAAAAAAAAAAAAAAAAAAAAAAAAAAAAAAAAAAAAAAAAAAAAAAAAAAAAAAAAAAAAAAAAAAAAAAAAAAAAAAAAAAAAAAAAAAAAAAAAAAAAAAAAAAAAAAAAAAAAAAAAAAAAAAAAAAAAAAAAAAAAAAAAAAAAAAAAAAAAAAAAAAAAAAAAAAAAAAAAAAAAAAAAAAAAAAAAAAAAAAAAAAAAAAAAAAAAAAAAAAAAAAAAAAAAAAAAAAAAAAAAAAAAAAAAAAAAAAAAAAAAAAAAAAAAAAAAAAAAAAAAAAAAAAAAAAAAAAAAAAAAAAAAAAAAAAAAAAAAAAAAAAAAAAAAAAAAAAAAAAAAAAAAAAAAAAAAAAAAAAAAAAAAAAAAAAAAAAAAAAAAAAAAAAAAAAAAAAAAAAAAAAAAAAAAAAAAAAAAAAAAAAAAAAAAAAAAAAAAAAAAAAAAAAAAAAAAAAAAAAAAAAAAAAAAAAAAAAAAAAAAAAAAAAAAAAAAAAAAAAAAAAAAAAAAAAAAAAAAAAAAAAAAAAAAAAAAAAAAAAAAAAAAAAAAAAAAAAAAAAAAAAAAAAAAAAAAAAAAAAAAAAAAAAAAAAAAAAAAAAAAAAAAAAAAAIAAAACAAAAAgAAAAIAAAACAAAAAgAAAAIAAAACAAAAAgAAAAIAAAACAAAAAgAAAAIAAAACAAAAAgAAAAIAAAACAAAAAgAAAAIAAAACAAAAAgAAAAIAAAACAAAAAgAAAAIAAAACAAAAAgAAAAIAAAACAAAAAgAAAAIAAAACAAAAAgAAAAIAAAACAAAAAgAAAAIAAAACAAAAAgAAAAIAAAACAAAAAgAAAAIAAAACAAAAAgAAAAIAAAACAAAAAgAAAAIAAAACAAAAAgAAAAIAAAACAAAAAgAAAAIAAAACAAAAAgAAAAIAAAACAAAAAgAAAAIAAAACAAAAAgAAAAIAAAACAAAAAgAAAAIAAAACAAAAAgAAAAIAAAACAAAAAgAAAAIAAAACAAAAAgAAAAIAAAACAAAAAgAAAAIAAAACAAAAAgAAAAIAAAACAAAAAgAAAAIAAAACAAAAAgAAAAIAAAACAAAAAgAAAAIAAAACAAAAAgAAAAIAAAACAAAAAgAAAAIAAAACAAAAAgAAAAIAAAACAAAAAgAAAAIAAAACAAAAAgAAAAIAAAACAAAAAgAAAAIAAAACAAAAAgAAAAIAAAACAAAAAgAAAAIAAAACAAAAAgAAAAIAAAACAAAAAgAAAAIAAAACAAAAAgAAAAIAAAACAAAAAgAAAAIAAAACAAAAAgAAAAIAAAACAAAAAgAAAAIAAAACAAAAAgAAAAIAAAACAAAAAgAAAAIAAAACAAAAAgAAAAIAAAACAAAAAgAAAAIAAAACAAAAAgAAAAIAAAACAAAAAgAAAAIAAAACAAAAAgAAAAIAAAACAAAAAgAAAAIAAAACAAAAAgAAAAIAAAACAAAAAgAAAAIAAAACAAAAAgAAAAIAAAACAAAAAgAAAAIAAAACAAAAAgAAAAIAAAACAAAAAgAAAAIAAAACAAAAAgAAAAIAAAACAAAAAgAAAAIAAAACAAAAAgAAAAIAAAACAAAAAgAAAAIAAAACAAAAAgAAAAIAAAACAAAAAgAAAAIAAAACAAAAAgAAAAIAAAACAAAAAgAAAAIAAAACAAAAAgAAAAIAAAACAAAAAgAAAAIAAAACAAAAAgAAAAIAAAACAAAAAgAAAAIAAAACAAAAAgAAAAIAAAACAAAAAgAAAAIAAAACAAAAAgAAAAIAAAACAAAAAgAAAAIAAAACAAAAAgAAAAIAAAACAAAAAgAAAAIAAAACAAAAAgAAAAIAAAACAAAAAgAAAAIAAAACAAAAAgAAAAIAAAACAAAAAgAAAAIAAAACAAAAAgAAAAIAAAACAAAAAgAAAAIAAAACAAAAAgAAAAIAAAACAAAAAgAAAAIAAAACAAAAAgAAAAIAAAACAAAAAgAAAAIAAAACAAAAAgAAAAIAAAACAAAAAgAAAAIAAAACAAAAAgAAAAIAAAACAAAAAgAAAAIAAAACAAAAAgAAAAIAAAACAAAAAgAAAAIAAAACAAAAAgAAAAIAAAACAAAAAgAAAAIAAAACAAAAAgAAAAIAAAACAAAAAgAAAAIAAAACAAAAAgAAAAIAAAACAAAAAgAAAAIAAAACAAAAAgAAAAIAAAACAAAAAgAAAAIAAAACAAAAAgAAAAIAAAACAAAAAgAAAAIAAAACAAAAAgAAAAIAAAACAAAAAgAAAAIAAAACAAAAAgAAAAIAAAACAAAAAgAAAAIAAAACAAAAAgAAAAIAAAACAAAAAgAAAAIAAAACAAAAAgAAAAIAAAACAAAAAgAAAAIAAAACAAAAAgAAAAIAAAACAAAAAgAAAAIAAAACAAAAAgAAAAIAAAACAAAAAgAAAAIAAAACAAAAAgAAAAIAAAACAAAAAgAAAAIAAAACAAAAAgAAAAIAAAACAAAAAgAAAAIAAAACAAAAAgAAAAIAAAACAAAAAgAAAAIAAAACAAAAAgAAAAIAAAACAAAAAgAAAAIAAAACAAAAAgAAAAIAAAACAAAAAgAAAAIAAAACAAAAAgAAAAIAAAACAAAAAgAAAAIAAAACAAAAAgAAAAIAAAACAAAAAgAAAAIAAAACAAAAAgAAAAIAAAACAAAAAgAAAAIAAAACAAAAAgAAAAIAAAACAAAAAgAAAAIAAAACAAAAAgAAAAIAAAACAAAAAgAAAAIAAAACAAAAAgAAAAIAAAACAAAAAgAAAAIAAAABAAAAAQAAAAEAAAABAAAAAQAAAAEAAAABAAAAAQAAAAEAAAABAAAAAQAAAAEAAAABAAAAAQAAAAEAAAABAAAAAQAAAAEAAAABAAAAAQAAAAEAAAABAAAAAQAAAAEAAAABAAAAAQAAAAEAAAABAAAAAQAAAAEAAAABAAAAAQAAAAEAAAABAAAAAQAAAAEAAAABAAAAAQAAAAEAAAABAAAAAQAAAAEAAAABAAAAAQAAAAEAAAABAAAAAQAAAAEAAAABAAAAAQAAAAEAAAABAAAAAQAAAAEAAAABAAAAAQAAAAEAAAABAAAAAQAAAAEAAAABAAAAAQAAAAEAAAABAAAAAQAAAAEAAAABAAAAAQAAAAEAAAABAAAAAQAAAAEAAAABAAAAAQAAAAEAAAABAAAAAQAAAAEAAAABAAAAAQAAAAEAAAABAAAAAQAAAAEAAAABAAAAAQAAAAEAAAABAAAAAQAAAAEAAAABAAAAAQAAAAEAAAABAAAAAQAAAAEAAAABAAAAAQAAAAEAAAABAAAAAQAAAAEAAAACAAAAAQAAAAEAAAABAAAAAQAAAAEAAAABAAAAAQAAAAEAAAABAAAAAQAAAAEAAAABAAAAAQAAAAEAAAABAAAAAQAAAAEAAAABAAAAAQAAAAEAAAABAAAAAQAAAAEAAAABAAAAAQAAAAEAAAABAAAAAQAAAAEAAAABAAAAAQAAAAEAAAABAAAAAQAAAAEAAAABAAAAAQAAAAEAAAABAAAAAQAAAAEAAAABAAAAAQAAAAEAAAABAAAAAQAAAAEAAAABAAAAAQAAAAEAAAABAAAAAQAAAAEAAAABAAAAAQAAAAEAAAABAAAAAQAAAAEAAAABAAAAAQAAAAEAAAABAAAAAQAAAAEAAAABAAAAAQAAAAEAAAABAAAAAQAAAAEAAAABAAAAAQAAAAEAAAABAAAAAQAAAAEAAAABAAAAAQAAAAEAAAABAAAAAQAAAAEAAAABAAAAAQAAAAEAAAABAAAAAQAAAAEAAAABAAAAAQAAAAEAAAACAAAAAQAAAAEAAAABAAAAAQAAAAEAAAABAAAAAQAAAAEAAAABAAAAAQAAAAEAAAABAAAAAQAAAAEAAAABAAAAAQAAAAEAAAABAAAAAQAAAAEAAAABAAAAAQAAAAEAAAABAAAAAQAAAAEAAAABAAAAAQAAAAEAAAABAAAAAQAAAAEAAAABAAAAAQAAAAEAAAABAAAAAQAAAAEAAAABAAAAAQAAAAEAAAABAAAAAQAAAAEAAAABAAAAAQAAAAEAAAABAAAAAQAAAAEAAAABAAAAAQAAAAEAAAABAAAAAQAAAAEAAAACAAAAAQAAAAEAAAABAAAAAQAAAAEAAAABAAAAAQAAAAEAAAABAAAAAQAAAAEAAAABAAAAAQAAAAEAAAABAAAAAQAAAAEAAAABAAAAAgAAAAEAAAABAAAAAQAAAAEAAAABAAAAAQAAAAEAAAABAAAAAQAAAAEAAAABAAAAAQAAAAEAAAABAAAAAQAAAAEAAAABAAAAAQAAAAEAAAABAAAAAQAAAAEAAAABAAAAAQAAAAEAAAABAAAAAQAAAAEAAAABAAAAAQAAAAEAAAABAAAAAQAAAAEAAAABAAAAAQAAAAEAAAABAAAAAQAAAAEAAAABAAAAAQAAAAEAAAABAAAAAQAAAAEAAAABAAAAAQAAAAEAAAABAAAAAQAAAAEAAAABAAAAAQAAAAEAAAABAAAAAQAAAAEAAAABAAAAAQAAAAEAAAABAAAAAQAAAAEAAAABAAAAAQAAAAEAAAABAAAAAQAAAAEAAAABAAAAAQAAAAEAAAABAAAAAQAAAAEAAAABAAAAAQAAAAEAAAABAAAAAQAAAAEAAAABAAAAAQAAAAEAAAABAAAAAQAAAAEAAAABAAAAAQAAAAEAAAABAAAAAQAAAAEAAAABAAAAAQAAAAEAAAABAAAAAQAAAAEAAAABAAAAAQAAAAEAAAABAAAAAQAAAAEAAAABAAAAAQAAAAEAAAABAAAAAQAAAAEAAAABAAAAAQAAAAEAAAABAAAAAQAAAAEAAAABAAAAAQAAAAEAAAABAAAAAQAAAAEAAAABAAAAAQAAAAEAAAABAAAAAQAAAAEAAAABAAAAAQAAAAEAAAABAAAAAQAAAAEAAAABAAAAAQAAAAEAAAABAAAAAQAAAAEAAAABAAAAAQAAAAEAAAABAAAAAQAAAAEAAAABAAAAAQAAAAEAAAABAAAAAQAAAAEAAAABAAAAAQAAAAEAAAABAAAAAQAAAAEAAAABAAAAAQAAAAEAAAABAAAAAQAAAAEAAAABAAAAAQAAAAEAAAABAAAAAQAAAAEAAAABAAAAAQAAAAEAAAABAAAAAQAAAAEAAAABAAAAAQAAAAEAAAABAAAAAQAAAAEAAAABAAAAAQAAAAEAAAABAAAAAQAAAAEAAAABAAAAAAAAAAAAAAAAAAAAAAAAAAAAAAAAAAAAAAAAAAAAAAAAAAAAAAAAAAAAAAAAAAAAAAAAAAAAAAAAAAAAAAAAAAAAAAAAAAAAAAAAAAAAAAAAAAAAAAAAAAAAAAAAAAAAAAAAAAAAAAAAAAAAAAAAAAAAAAAAAAAAAAAAAAAAAAAAAAAAAAAAAAAAAAAAAAAAAAAAAAAAAAAAAAAAAAAAAAAAAAAAAAAAAAAAAAAAAAAAAAAAAAAAAAAAAAAAAAAAAAAAAAAAAAAAAAAAAAAAAAAAAAAAAAAAAAAAAAAAAAAAAAAAAAAAAAAAAAAAAAAAAAAAAAAAAAAAAAAAAAAAAAAAAAAAAAAAAAAAAAAAAAAAAAAAAAAAAAAAAAAAAAAAAAAAAAAAAAAAAAAAAAAAAAAAAAAAAAAAAAAAAAAAAAAAAAAAAAAAAAAAAAAAAAAAAAAAAAAAAAAAAAAAAAAAAAAAAAAAAAAAAAAAAAAAAAAAAAAAAAAAAAAAAAAAAAAAAAAAAAAAAAAAAAAAAAAAAAAAAAAAAAAAAAAAAAAAAAAAAAAAAAAAAAAAAAAAAAAAAAAAAAAAAAAAAAAAAAAAAAAAAAAAAAAAAAAAAAAAAAAAAAAAAAAAAAAAAAAAAAAAAAAAAAAAAAAAAAAAAAAAAAAAAAAAAAAAAAAAAAAAAAAAAAAAAAAAAAAAAAAAAAAAAAAAAAAAAAAAAAAAAAAAAAAAAAAAAAAAAAAAAAAAAAAAAAAAAAAAAAAAAAAAAAAAAAAAAAAAAAAAAAAAAAAAAAAAAAAAAAAAAAAAAAAAAAAAAAAAAAAAAAAAAAAAAAAAAAAAAAAAAAAAAAAAAAAAAAAAAAAAAAAAAAAAAAAAAAAAAAAAAAAAAAAAAAAAAAAAAAAAAAAAAAAAAAAAAAAAAAAAAAAAAAAAAAAAAAAAAAAAAAAAAAAAAAAAAAAAAAAAAAAAAAAAAAAAAAAAAAAAAAIAAAACAAAAAgAAAAIAAAACAAAAAgAAAAIAAAACAAAAAgAAAAIAAAACAAAAAgAAAAIAAAACAAAAAgAAAAIAAAACAAAAAgAAAAIAAAACAAAAAgAAAAIAAAACAAAAAgAAAAIAAAACAAAAAgAAAAIAAAACAAAAAgAAAAIAAAACAAAAAgAAAAIAAAACAAAAAgAAAAIAAAACAAAAAgAAAAIAAAACAAAAAgAAAAIAAAACAAAAAgAAAAIAAAACAAAAAgAAAAIAAAACAAAAAgAAAAIAAAACAAAAAgAAAAIAAAACAAAAAgAAAAIAAAACAAAAAgAAAAIAAAACAAAAAgAAAAIAAAACAAAAAgAAAAIAAAACAAAAAgAAAAIAAAACAAAAAgAAAAIAAAACAAAAAgAAAAIAAAACAAAAAgAAAAIAAAACAAAAAgAAAAIAAAACAAAAAgAAAAIAAAACAAAAAgAAAAIAAAACAAAAAgAAAAIAAAACAAAAAgAAAAIAAAACAAAAAgAAAAIAAAACAAAAAgAAAAIAAAACAAAAAgAAAAIAAAACAAAAAgAAAAIAAAACAAAAAgAAAAIAAAACAAAAAgAAAAIAAAACAAAAAgAAAAIAAAACAAAAAgAAAAIAAAACAAAAAgAAAAIAAAACAAAAAgAAAAIAAAACAAAAAgAAAAIAAAACAAAAAgAAAAIAAAACAAAAAgAAAAIAAAACAAAAAgAAAAIAAAACAAAAAgAAAAIAAAACAAAAAgAAAAIAAAACAAAAAgAAAAIAAAACAAAAAgAAAAIAAAACAAAAAgAAAAIAAAACAAAAAgAAAAIAAAACAAAAAgAAAAIAAAACAAAAAgAAAAIAAAACAAAAAgAAAAIAAAACAAAAAgAAAAIAAAACAAAAAgAAAAIAAAACAAAAAgAAAAIAAAACAAAAAgAAAAIAAAACAAAAAgAAAAIAAAACAAAAAgAAAAIAAAACAAAAAgAAAAIAAAACAAAAAgAAAAIAAAACAAAAAgAAAAIAAAACAAAAAgAAAAIAAAACAAAAAgAAAAIAAAACAAAAAgAAAAIAAAACAAAAAgAAAAIAAAACAAAAAgAAAAIAAAACAAAAAgAAAAIAAAACAAAAAgAAAAIAAAACAAAAAgAAAAIAAAACAAAAAgAAAAIAAAACAAAAAgAAAAIAAAACAAAAAgAAAAIAAAACAAAAAgAAAAIAAAACAAAAAgAAAAIAAAACAAAAAgAAAAIAAAACAAAAAgAAAAIAAAACAAAAAgAAAAIAAAACAAAAAgAAAAIAAAACAAAAAgAAAAIAAAACAAAAAgAAAAIAAAACAAAAAgAAAAIAAAACAAAAAgAAAAIAAAACAAAAAgAAAAIAAAACAAAAAgAAAAIAAAACAAAAAgAAAAIAAAACAAAAAgAAAAIAAAACAAAAAgAAAAIAAAACAAAAAgAAAAIAAAACAAAAAgAAAAIAAAACAAAAAgAAAAIAAAACAAAAAgAAAAIAAAACAAAAAgAAAAIAAAACAAAAAgAAAAIAAAACAAAAAgAAAAIAAAACAAAAAgAAAAIAAAACAAAAAgAAAAIAAAACAAAAAgAAAAIAAAACAAAAAgAAAAIAAAACAAAAAgAAAAIAAAACAAAAAgAAAAIAAAACAAAAAgAAAAIAAAACAAAAAgAAAAIAAAACAAAAAgAAAAIAAAACAAAAAgAAAAIAAAACAAAAAgAAAAIAAAACAAAAAgAAAAIAAAACAAAAAgAAAAIAAAACAAAAAgAAAAIAAAACAAAAAgAAAAIAAAACAAAAAgAAAAIAAAACAAAAAgAAAAIAAAACAAAAAgAAAAIAAAACAAAAAgAAAAIAAAACAAAAAgAAAAIAAAACAAAAAgAAAAIAAAACAAAAAgAAAAIAAAACAAAAAgAAAAIAAAACAAAAAgAAAAIAAAACAAAAAgAAAAIAAAACAAAAAgAAAAIAAAACAAAAAgAAAAIAAAACAAAAAgAAAAIAAAACAAAAAgAAAAIAAAACAAAAAgAAAAIAAAACAAAAAgAAAAIAAAACAAAAAgAAAAIAAAACAAAAAgAAAAIAAAACAAAAAgAAAAIAAAACAAAAAgAAAAIAAAABAAAAAQAAAAEAAAABAAAAAQAAAAEAAAABAAAAAQAAAAEAAAABAAAAAQAAAAEAAAABAAAAAQAAAAEAAAABAAAAAQAAAAEAAAABAAAAAQAAAAEAAAABAAAAAQAAAAEAAAABAAAAAQAAAAEAAAABAAAAAQAAAAEAAAABAAAAAQAAAAEAAAABAAAAAQAAAAEAAAABAAAAAQAAAAEAAAABAAAAAQAAAAEAAAABAAAAAQAAAAEAAAABAAAAAQAAAAEAAAABAAAAAQAAAAEAAAABAAAAAQAAAAEAAAABAAAAAQAAAAEAAAABAAAAAQAAAAEAAAABAAAAAQAAAAEAAAABAAAAAQAAAAEAAAABAAAAAQAAAAEAAAABAAAAAQAAAAEAAAABAAAAAQAAAAEAAAABAAAAAQAAAAEAAAABAAAAAQAAAAEAAAABAAAAAQAAAAEAAAABAAAAAQAAAAEAAAABAAAAAQAAAAEAAAABAAAAAQAAAAEAAAABAAAAAQAAAAEAAAABAAAAAQAAAAEAAAABAAAAAQAAAAEAAAABAAAAAQAAAAEAAAABAAAAAQAAAAEAAAABAAAAAQAAAAEAAAABAAAAAQAAAAEAAAABAAAAAQAAAAEAAAABAAAAAQAAAAEAAAABAAAAAQAAAAEAAAABAAAAAQAAAAEAAAABAAAAAQAAAAEAAAABAAAAAQAAAAEAAAABAAAAAQAAAAEAAAABAAAAAQAAAAEAAAABAAAAAQAAAAEAAAABAAAAAQAAAAEAAAABAAAAAQAAAAEAAAABAAAAAQAAAAEAAAABAAAAAQAAAAEAAAABAAAAAQAAAAEAAAABAAAAAQAAAAEAAAABAAAAAQAAAAEAAAABAAAAAQAAAAEAAAABAAAAAQAAAAEAAAABAAAAAQAAAAEAAAABAAAAAQAAAAEAAAABAAAAAQAAAAEAAAABAAAAAQAAAAEAAAABAAAAAQAAAAEAAAABAAAAAQAAAAEAAAABAAAAAQAAAAEAAAABAAAAAQAAAAIAAAABAAAAAQAAAAEAAAABAAAAAQAAAAEAAAABAAAAAQAAAAEAAAABAAAAAQAAAAEAAAABAAAAAQAAAAEAAAABAAAAAQAAAAEAAAABAAAAAQAAAAEAAAABAAAAAQAAAAEAAAABAAAAAQAAAAEAAAABAAAAAQAAAAEAAAABAAAAAQAAAAEAAAABAAAAAQAAAAEAAAABAAAAAQAAAAEAAAABAAAAAQAAAAEAAAABAAAAAQAAAAEAAAABAAAAAQAAAAEAAAACAAAAAQAAAAEAAAABAAAAAQAAAAEAAAABAAAAAQAAAAEAAAABAAAAAQAAAAEAAAABAAAAAQAAAAEAAAABAAAAAQAAAAEAAAABAAAAAQAAAAEAAAABAAAAAQAAAAEAAAABAAAAAQAAAAEAAAABAAAAAQAAAAEAAAABAAAAAQAAAAEAAAABAAAAAQAAAAEAAAABAAAAAQAAAAEAAAABAAAAAQAAAAEAAAABAAAAAQAAAAEAAAABAAAAAQAAAAEAAAABAAAAAQAAAAEAAAABAAAAAQAAAAEAAAABAAAAAQAAAAEAAAABAAAAAQAAAAEAAAABAAAAAQAAAAEAAAABAAAAAQAAAAEAAAABAAAAAQAAAAEAAAABAAAAAQAAAAEAAAABAAAAAQAAAAEAAAABAAAAAQAAAAEAAAABAAAAAQAAAAEAAAABAAAAAQAAAAEAAAABAAAAAQAAAAEAAAABAAAAAQAAAAEAAAABAAAAAQAAAAEAAAABAAAAAQAAAAEAAAABAAAAAQAAAAEAAAABAAAAAQAAAAEAAAABAAAAAQAAAAEAAAABAAAAAQAAAAEAAAABAAAAAQAAAAEAAAABAAAAAQAAAAEAAAABAAAAAQAAAAEAAAABAAAAAQAAAAEAAAABAAAAAQAAAAEAAAABAAAAAQAAAAEAAAABAAAAAQAAAAEAAAABAAAAAQAAAAEAAAABAAAAAQAAAAEAAAABAAAAAQAAAAEAAAABAAAAAQAAAAEAAAABAAAAAQAAAAEAAAABAAAAAQAAAAEAAAABAAAAAQAAAAEAAAABAAAAAQAAAAEAAAABAAAAAQAAAAEAAAABAAAAAQAAAAEAAAABAAAAAQAAAAEAAAABAAAAAQAAAAEAAAABAAAAAQAAAAEAAAABAAAAAQAAAAIAAAABAAAAAQAAAAEAAAABAAAAAQAAAAEAAAABAAAAAQAAAAEAAAABAAAAAQAAAAEAAAABAAAAAQAAAAEAAAABAAAAAQAAAAEAAAABAAAAAQAAAAEAAAABAAAAAQAAAAEAAAABAAAAAQAAAAEAAAABAAAAAQAAAAEAAAABAAAAAgAAAAEAAAABAAAAAQAAAAEAAAABAAAAAQAAAAEAAAABAAAAAQAAAAEAAAABAAAAAQAAAAEAAAABAAAAAQAAAAAAAAAAAAAAAAAAAAAAAAAAAAAAAAAAAAAAAAAAAAAAAAAAAAAAAAAAAAAAAAAAAAAAAAAAAAAAAAAAAAAAAAAAAAAAAAAAAAAAAAAAAAAAAAAAAAAAAAAAAAAAAAAAAAAAAAAAAAAAAAAAAAAAAAAAAAAAAAAAAAAAAAAAAAAAAAAAAAAAAAAAAAAAAAAAAAAAAAAAAAAAAAAAAAAAAAAAAAAAAAAAAAAAAAAAAAAAAAAAAAAAAAAAAAAAAAAAAAAAAAAAAAAAAAAAAAAAAAAAAAAAAAAAAAAAAAAAAAAAAAAAAAAAAAAAAAAAAAAAAAAAAAAAAAAAAAAAAAAAAAAAAAAAAAAAAAAAAAAAAAAAAAAAAAAAAAAAAAAAAAAAAAAAAAAAAAAAAAAAAAAAAAAAAAAAAAAAAAAAAAAAAAAAAAAAAAAAAAAAAAAAAAAAAAAAAAAAAAAAAAAAAAAAAAAAAAAAAAAAAAAAAAAAAAAAAAAAAAAAAAAAAAAAAAAAAAAAAAAAAAAAAAAAAAAAAAAAAAAAAAAAAAAAAAAAAAAAAAAAAAAAAAAAAAAAAAAAAAAAAAAAAAAAAAAAAAAAAAAAAAAAAAAAAAAAAAAAAAAAAAAAAAAAAAAAAAAAAAAAAAAAAAAAAAAAAAAAAAAAAAAAAAAAAAAAAAAAAAAAAAAAAAAAAAAAAAAAAAAAAAAAAAAAAAAAAAAAAAAAAAAAAAAAAAAAAAAAAAAAAAAAAAAAAAAAAAAAAAAAAAAAAAAAAAAAAAAAAAAAAAAAAAAAAAAAAAAAAAAAAAAAAAAAAAAAAAAAAAAAAAAAAAAAAAAAAAAAAAAAAAAAAAAAAAAAAAAAAAAAAAAAAAAAAAAAAAAAAAAAAAAAAAAAAAAAAAAAAAAAAAAAAAAAAAAAAAAAAAAAAAAAAAAAAAAAAAAAAAAAAAAAAAAAAAAAAAAAAAAAAAAAAAAAAAAAAAAAAAAAAAAAAAAAAAAAAAAAAAAAAAAAAgAAAAIAAAACAAAAAgAAAAIAAAACAAAAAgAAAAIAAAACAAAAAgAAAAIAAAACAAAAAgAAAAIAAAACAAAAAgAAAAIAAAACAAAAAgAAAAIAAAACAAAAAgAAAAIAAAACAAAAAgAAAAIAAAACAAAAAgAAAAIAAAACAAAAAgAAAAIAAAACAAAAAgAAAAIAAAACAAAAAgAAAAIAAAACAAAAAgAAAAIAAAACAAAAAgAAAAIAAAACAAAAAgAAAAIAAAACAAAAAgAAAAIAAAACAAAAAgAAAAIAAAACAAAAAgAAAAIAAAACAAAAAgAAAAIAAAACAAAAAgAAAAIAAAACAAAAAgAAAAIAAAACAAAAAgAAAAIAAAACAAAAAgAAAAIAAAACAAAAAgAAAAIAAAACAAAAAgAAAAIAAAACAAAAAgAAAAIAAAACAAAAAgAAAAIAAAACAAAAAgAAAAIAAAACAAAAAgAAAAIAAAACAAAAAgAAAAIAAAA="
          },
          "coloraxis": "coloraxis",
          "symbol": "circle"
         },
         "mode": "markers",
         "name": "",
         "showlegend": false,
         "type": "scattergeo"
        }
       ],
       "layout": {
        "template": {
         "data": {
          "histogram2dcontour": [
           {
            "type": "histogram2dcontour",
            "colorbar": {
             "outlinewidth": 0,
             "ticks": ""
            },
            "colorscale": [
             [
              0.0,
              "#0d0887"
             ],
             [
              0.1111111111111111,
              "#46039f"
             ],
             [
              0.2222222222222222,
              "#7201a8"
             ],
             [
              0.3333333333333333,
              "#9c179e"
             ],
             [
              0.4444444444444444,
              "#bd3786"
             ],
             [
              0.5555555555555556,
              "#d8576b"
             ],
             [
              0.6666666666666666,
              "#ed7953"
             ],
             [
              0.7777777777777778,
              "#fb9f3a"
             ],
             [
              0.8888888888888888,
              "#fdca26"
             ],
             [
              1.0,
              "#f0f921"
             ]
            ]
           }
          ],
          "choropleth": [
           {
            "type": "choropleth",
            "colorbar": {
             "outlinewidth": 0,
             "ticks": ""
            }
           }
          ],
          "histogram2d": [
           {
            "type": "histogram2d",
            "colorbar": {
             "outlinewidth": 0,
             "ticks": ""
            },
            "colorscale": [
             [
              0.0,
              "#0d0887"
             ],
             [
              0.1111111111111111,
              "#46039f"
             ],
             [
              0.2222222222222222,
              "#7201a8"
             ],
             [
              0.3333333333333333,
              "#9c179e"
             ],
             [
              0.4444444444444444,
              "#bd3786"
             ],
             [
              0.5555555555555556,
              "#d8576b"
             ],
             [
              0.6666666666666666,
              "#ed7953"
             ],
             [
              0.7777777777777778,
              "#fb9f3a"
             ],
             [
              0.8888888888888888,
              "#fdca26"
             ],
             [
              1.0,
              "#f0f921"
             ]
            ]
           }
          ],
          "heatmap": [
           {
            "type": "heatmap",
            "colorbar": {
             "outlinewidth": 0,
             "ticks": ""
            },
            "colorscale": [
             [
              0.0,
              "#0d0887"
             ],
             [
              0.1111111111111111,
              "#46039f"
             ],
             [
              0.2222222222222222,
              "#7201a8"
             ],
             [
              0.3333333333333333,
              "#9c179e"
             ],
             [
              0.4444444444444444,
              "#bd3786"
             ],
             [
              0.5555555555555556,
              "#d8576b"
             ],
             [
              0.6666666666666666,
              "#ed7953"
             ],
             [
              0.7777777777777778,
              "#fb9f3a"
             ],
             [
              0.8888888888888888,
              "#fdca26"
             ],
             [
              1.0,
              "#f0f921"
             ]
            ]
           }
          ],
          "contourcarpet": [
           {
            "type": "contourcarpet",
            "colorbar": {
             "outlinewidth": 0,
             "ticks": ""
            }
           }
          ],
          "contour": [
           {
            "type": "contour",
            "colorbar": {
             "outlinewidth": 0,
             "ticks": ""
            },
            "colorscale": [
             [
              0.0,
              "#0d0887"
             ],
             [
              0.1111111111111111,
              "#46039f"
             ],
             [
              0.2222222222222222,
              "#7201a8"
             ],
             [
              0.3333333333333333,
              "#9c179e"
             ],
             [
              0.4444444444444444,
              "#bd3786"
             ],
             [
              0.5555555555555556,
              "#d8576b"
             ],
             [
              0.6666666666666666,
              "#ed7953"
             ],
             [
              0.7777777777777778,
              "#fb9f3a"
             ],
             [
              0.8888888888888888,
              "#fdca26"
             ],
             [
              1.0,
              "#f0f921"
             ]
            ]
           }
          ],
          "surface": [
           {
            "type": "surface",
            "colorbar": {
             "outlinewidth": 0,
             "ticks": ""
            },
            "colorscale": [
             [
              0.0,
              "#0d0887"
             ],
             [
              0.1111111111111111,
              "#46039f"
             ],
             [
              0.2222222222222222,
              "#7201a8"
             ],
             [
              0.3333333333333333,
              "#9c179e"
             ],
             [
              0.4444444444444444,
              "#bd3786"
             ],
             [
              0.5555555555555556,
              "#d8576b"
             ],
             [
              0.6666666666666666,
              "#ed7953"
             ],
             [
              0.7777777777777778,
              "#fb9f3a"
             ],
             [
              0.8888888888888888,
              "#fdca26"
             ],
             [
              1.0,
              "#f0f921"
             ]
            ]
           }
          ],
          "mesh3d": [
           {
            "type": "mesh3d",
            "colorbar": {
             "outlinewidth": 0,
             "ticks": ""
            }
           }
          ],
          "scatter": [
           {
            "marker": {
             "line": {
              "color": "#283442"
             }
            },
            "type": "scatter"
           }
          ],
          "parcoords": [
           {
            "type": "parcoords",
            "line": {
             "colorbar": {
              "outlinewidth": 0,
              "ticks": ""
             }
            }
           }
          ],
          "scatterpolargl": [
           {
            "type": "scatterpolargl",
            "marker": {
             "colorbar": {
              "outlinewidth": 0,
              "ticks": ""
             }
            }
           }
          ],
          "bar": [
           {
            "error_x": {
             "color": "#f2f5fa"
            },
            "error_y": {
             "color": "#f2f5fa"
            },
            "marker": {
             "line": {
              "color": "rgb(17,17,17)",
              "width": 0.5
             },
             "pattern": {
              "fillmode": "overlay",
              "size": 10,
              "solidity": 0.2
             }
            },
            "type": "bar"
           }
          ],
          "scattergeo": [
           {
            "type": "scattergeo",
            "marker": {
             "colorbar": {
              "outlinewidth": 0,
              "ticks": ""
             }
            }
           }
          ],
          "scatterpolar": [
           {
            "type": "scatterpolar",
            "marker": {
             "colorbar": {
              "outlinewidth": 0,
              "ticks": ""
             }
            }
           }
          ],
          "histogram": [
           {
            "marker": {
             "pattern": {
              "fillmode": "overlay",
              "size": 10,
              "solidity": 0.2
             }
            },
            "type": "histogram"
           }
          ],
          "scattergl": [
           {
            "marker": {
             "line": {
              "color": "#283442"
             }
            },
            "type": "scattergl"
           }
          ],
          "scatter3d": [
           {
            "type": "scatter3d",
            "line": {
             "colorbar": {
              "outlinewidth": 0,
              "ticks": ""
             }
            },
            "marker": {
             "colorbar": {
              "outlinewidth": 0,
              "ticks": ""
             }
            }
           }
          ],
          "scattermap": [
           {
            "type": "scattermap",
            "marker": {
             "colorbar": {
              "outlinewidth": 0,
              "ticks": ""
             }
            }
           }
          ],
          "scattermapbox": [
           {
            "type": "scattermapbox",
            "marker": {
             "colorbar": {
              "outlinewidth": 0,
              "ticks": ""
             }
            }
           }
          ],
          "scatterternary": [
           {
            "type": "scatterternary",
            "marker": {
             "colorbar": {
              "outlinewidth": 0,
              "ticks": ""
             }
            }
           }
          ],
          "scattercarpet": [
           {
            "type": "scattercarpet",
            "marker": {
             "colorbar": {
              "outlinewidth": 0,
              "ticks": ""
             }
            }
           }
          ],
          "carpet": [
           {
            "aaxis": {
             "endlinecolor": "#A2B1C6",
             "gridcolor": "#506784",
             "linecolor": "#506784",
             "minorgridcolor": "#506784",
             "startlinecolor": "#A2B1C6"
            },
            "baxis": {
             "endlinecolor": "#A2B1C6",
             "gridcolor": "#506784",
             "linecolor": "#506784",
             "minorgridcolor": "#506784",
             "startlinecolor": "#A2B1C6"
            },
            "type": "carpet"
           }
          ],
          "table": [
           {
            "cells": {
             "fill": {
              "color": "#506784"
             },
             "line": {
              "color": "rgb(17,17,17)"
             }
            },
            "header": {
             "fill": {
              "color": "#2a3f5f"
             },
             "line": {
              "color": "rgb(17,17,17)"
             }
            },
            "type": "table"
           }
          ],
          "barpolar": [
           {
            "marker": {
             "line": {
              "color": "rgb(17,17,17)",
              "width": 0.5
             },
             "pattern": {
              "fillmode": "overlay",
              "size": 10,
              "solidity": 0.2
             }
            },
            "type": "barpolar"
           }
          ],
          "pie": [
           {
            "automargin": true,
            "type": "pie"
           }
          ]
         },
         "layout": {
          "autotypenumbers": "strict",
          "colorway": [
           "#636efa",
           "#EF553B",
           "#00cc96",
           "#ab63fa",
           "#FFA15A",
           "#19d3f3",
           "#FF6692",
           "#B6E880",
           "#FF97FF",
           "#FECB52"
          ],
          "font": {
           "color": "#f2f5fa"
          },
          "hovermode": "closest",
          "hoverlabel": {
           "align": "left"
          },
          "paper_bgcolor": "rgb(17,17,17)",
          "plot_bgcolor": "rgb(17,17,17)",
          "polar": {
           "bgcolor": "rgb(17,17,17)",
           "angularaxis": {
            "gridcolor": "#506784",
            "linecolor": "#506784",
            "ticks": ""
           },
           "radialaxis": {
            "gridcolor": "#506784",
            "linecolor": "#506784",
            "ticks": ""
           }
          },
          "ternary": {
           "bgcolor": "rgb(17,17,17)",
           "aaxis": {
            "gridcolor": "#506784",
            "linecolor": "#506784",
            "ticks": ""
           },
           "baxis": {
            "gridcolor": "#506784",
            "linecolor": "#506784",
            "ticks": ""
           },
           "caxis": {
            "gridcolor": "#506784",
            "linecolor": "#506784",
            "ticks": ""
           }
          },
          "coloraxis": {
           "colorbar": {
            "outlinewidth": 0,
            "ticks": ""
           }
          },
          "colorscale": {
           "sequential": [
            [
             0.0,
             "#0d0887"
            ],
            [
             0.1111111111111111,
             "#46039f"
            ],
            [
             0.2222222222222222,
             "#7201a8"
            ],
            [
             0.3333333333333333,
             "#9c179e"
            ],
            [
             0.4444444444444444,
             "#bd3786"
            ],
            [
             0.5555555555555556,
             "#d8576b"
            ],
            [
             0.6666666666666666,
             "#ed7953"
            ],
            [
             0.7777777777777778,
             "#fb9f3a"
            ],
            [
             0.8888888888888888,
             "#fdca26"
            ],
            [
             1.0,
             "#f0f921"
            ]
           ],
           "sequentialminus": [
            [
             0.0,
             "#0d0887"
            ],
            [
             0.1111111111111111,
             "#46039f"
            ],
            [
             0.2222222222222222,
             "#7201a8"
            ],
            [
             0.3333333333333333,
             "#9c179e"
            ],
            [
             0.4444444444444444,
             "#bd3786"
            ],
            [
             0.5555555555555556,
             "#d8576b"
            ],
            [
             0.6666666666666666,
             "#ed7953"
            ],
            [
             0.7777777777777778,
             "#fb9f3a"
            ],
            [
             0.8888888888888888,
             "#fdca26"
            ],
            [
             1.0,
             "#f0f921"
            ]
           ],
           "diverging": [
            [
             0,
             "#8e0152"
            ],
            [
             0.1,
             "#c51b7d"
            ],
            [
             0.2,
             "#de77ae"
            ],
            [
             0.3,
             "#f1b6da"
            ],
            [
             0.4,
             "#fde0ef"
            ],
            [
             0.5,
             "#f7f7f7"
            ],
            [
             0.6,
             "#e6f5d0"
            ],
            [
             0.7,
             "#b8e186"
            ],
            [
             0.8,
             "#7fbc41"
            ],
            [
             0.9,
             "#4d9221"
            ],
            [
             1,
             "#276419"
            ]
           ]
          },
          "xaxis": {
           "gridcolor": "#283442",
           "linecolor": "#506784",
           "ticks": "",
           "title": {
            "standoff": 15
           },
           "zerolinecolor": "#283442",
           "automargin": true,
           "zerolinewidth": 2
          },
          "yaxis": {
           "gridcolor": "#283442",
           "linecolor": "#506784",
           "ticks": "",
           "title": {
            "standoff": 15
           },
           "zerolinecolor": "#283442",
           "automargin": true,
           "zerolinewidth": 2
          },
          "scene": {
           "xaxis": {
            "backgroundcolor": "rgb(17,17,17)",
            "gridcolor": "#506784",
            "linecolor": "#506784",
            "showbackground": true,
            "ticks": "",
            "zerolinecolor": "#C8D4E3",
            "gridwidth": 2
           },
           "yaxis": {
            "backgroundcolor": "rgb(17,17,17)",
            "gridcolor": "#506784",
            "linecolor": "#506784",
            "showbackground": true,
            "ticks": "",
            "zerolinecolor": "#C8D4E3",
            "gridwidth": 2
           },
           "zaxis": {
            "backgroundcolor": "rgb(17,17,17)",
            "gridcolor": "#506784",
            "linecolor": "#506784",
            "showbackground": true,
            "ticks": "",
            "zerolinecolor": "#C8D4E3",
            "gridwidth": 2
           }
          },
          "shapedefaults": {
           "line": {
            "color": "#f2f5fa"
           }
          },
          "annotationdefaults": {
           "arrowcolor": "#f2f5fa",
           "arrowhead": 0,
           "arrowwidth": 1
          },
          "geo": {
           "bgcolor": "rgb(17,17,17)",
           "landcolor": "rgb(17,17,17)",
           "subunitcolor": "#506784",
           "showland": true,
           "showlakes": true,
           "lakecolor": "rgb(17,17,17)"
          },
          "title": {
           "x": 0.05
          },
          "updatemenudefaults": {
           "bgcolor": "#506784",
           "borderwidth": 0
          },
          "sliderdefaults": {
           "bgcolor": "#C8D4E3",
           "borderwidth": 1,
           "bordercolor": "rgb(17,17,17)",
           "tickwidth": 0
          },
          "mapbox": {
           "style": "dark"
          }
         }
        },
        "geo": {
         "domain": {
          "x": [
           0.0,
           1.0
          ],
          "y": [
           0.0,
           1.0
          ]
         },
         "center": {}
        },
        "coloraxis": {
         "colorbar": {
          "title": {
           "text": "KM3_Label"
          }
         },
         "colorscale": [
          [
           0.0,
           "#0d0887"
          ],
          [
           0.1111111111111111,
           "#46039f"
          ],
          [
           0.2222222222222222,
           "#7201a8"
          ],
          [
           0.3333333333333333,
           "#9c179e"
          ],
          [
           0.4444444444444444,
           "#bd3786"
          ],
          [
           0.5555555555555556,
           "#d8576b"
          ],
          [
           0.6666666666666666,
           "#ed7953"
          ],
          [
           0.7777777777777778,
           "#fb9f3a"
          ],
          [
           0.8888888888888888,
           "#fdca26"
          ],
          [
           1.0,
           "#f0f921"
          ]
         ]
        },
        "legend": {
         "tracegroupgap": 0
        },
        "margin": {
         "t": 60
        }
       },
       "config": {
        "plotlyServerURL": "https://plot.ly"
       }
      }
     },
     "metadata": {},
     "output_type": "display_data"
    }
   ],
   "execution_count": 154
  },
  {
   "metadata": {},
   "cell_type": "markdown",
   "source": [
    "## Conclusion\n",
    "In this notebook, we've performed customer segmentation for a telecommunications company using PCA and clustering techniques. We:\n",
    "\n",
    "1. Loaded and explored the customer data\n",
    "2. Applied PCA to reduce dimensionality while preserving important information\n",
    "3. Transformed categorical variables for use in our models\n",
    "4. Applied multiple clustering algorithms (K-means with 2 and 3 clusters, and DBSCAN)\n",
    "5. Visualized the resulting clusters to understand customer segments\n",
    "\n",
    "The visualizations reveal distinct customer segments with different geographical distributions and churn patterns. These insights can help the telecommunications company develop targeted marketing strategies and retention programs for different customer segments.\n"
   ]
  }
 ],
 "metadata": {
  "kernelspec": {
   "display_name": "Python 3 (ipykernel)",
   "language": "python",
   "name": "python3"
  },
  "language_info": {
   "codemirror_mode": {
    "name": "ipython",
    "version": 3
   },
   "file_extension": ".py",
   "mimetype": "text/x-python",
   "name": "python",
   "nbconvert_exporter": "python",
   "pygments_lexer": "ipython3",
   "version": "3.9.7"
  }
 },
 "nbformat": 4,
 "nbformat_minor": 4
}
