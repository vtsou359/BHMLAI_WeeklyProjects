{
 "cells": [
  {
   "cell_type": "markdown",
   "source": [
    "# Exercise \n",
    "### Examine and Validate different cross validation approaches\n",
    "\n",
    "Using a dataset of your own, explore the data utilizing multiple cross-validation techniques. Choose the most appropriate cross-validation technique for your data. In your initial post, describe your data, state which cross-validation technique you used, and explain your rationale for deciding on which cross-validation technique was the most appropriate for your specific dataset.\n",
    "\n",
    "Respond to other learners and ask questions that extend the conversation."
   ],
   "attachments": {},
   "metadata": {
    "datalore": {
     "node_id": "dyxIa8Ld6SnLwSfrRU788n",
     "type": "MD",
     "hide_input_from_viewers": true,
     "hide_output_from_viewers": true
    }
   }
  },
  {
   "cell_type": "markdown",
   "source": [
    "## Abalone\n",
    "### Donated on 11/30/1995\n",
    "\n",
    "Additional Information\n",
    "Predicting the age of abalone from physical measurements.  The age of abalone is determined by cutting the shell through the cone, staining it, and counting the number of rings through a microscope -- a boring and time-consuming task.  Other measurements, which are easier to obtain, are used to predict the age.  Further information, such as weather patterns and location (hence food availability) may be required to solve the problem.\n",
    "\n",
    "From the original data examples with missing values were removed (the majority having the predicted value missing), and the ranges of the continuous values have been scaled for use with an ANN (by dividing by 200)."
   ],
   "attachments": {},
   "metadata": {
    "datalore": {
     "node_id": "HbViVSK31MOyCRAJW13il6",
     "type": "MD",
     "hide_input_from_viewers": true,
     "hide_output_from_viewers": true
    }
   }
  },
  {
   "metadata": {},
   "cell_type": "markdown",
   "source": [
    "## Data Loading\n",
    "\n",
    "In this section, we load the Abalone dataset from the UCI Machine Learning Repository using the `fetch_ucirepo` function. The Abalone dataset contains physical measurements of abalone that will be used to predict their age (represented by the number of rings).\n",
    "\n",
    "The dataset is split into:\n",
    "- Features (X): Physical measurements of the abalone\n",
    "- Targets (y): The number of rings, which indicates the age of the abalone\n",
    "\n",
    "We also print the metadata and variable information to understand the dataset structure."
   ]
  },
  {
   "cell_type": "code",
   "source": [
    "from ucimlrepo import fetch_ucirepo \n",
    "\n",
    "  \n",
    "# fetch dataset \n",
    "abalone = fetch_ucirepo(id=1) \n",
    "  \n",
    "# data (as pandas dataframes) \n",
    "X = abalone.data.features \n",
    "y = abalone.data.targets \n",
    "  \n",
    "# metadata \n",
    "print(abalone.metadata) \n",
    "  \n",
    "# variable information \n",
    "print(abalone.variables)"
   ],
   "execution_count": 61,
   "outputs": [
    {
     "name": "stdout",
     "text": [
      "{'uci_id': 1, 'name': 'Abalone', 'repository_url': 'https://archive.ics.uci.edu/dataset/1/abalone', 'data_url': 'https://archive.ics.uci.edu/static/public/1/data.csv', 'abstract': 'Predict the age of abalone from physical measurements', 'area': 'Biology', 'tasks': ['Classification', 'Regression'], 'characteristics': ['Tabular'], 'num_instances': 4177, 'num_features': 8, 'feature_types': ['Categorical', 'Integer', 'Real'], 'demographics': [], 'target_col': ['Rings'], 'index_col': None, 'has_missing_values': 'no', 'missing_values_symbol': None, 'year_of_dataset_creation': 1994, 'last_updated': 'Mon Aug 28 2023', 'dataset_doi': '10.24432/C55C7W', 'creators': ['Warwick Nash', 'Tracy Sellers', 'Simon Talbot', 'Andrew Cawthorn', 'Wes Ford'], 'intro_paper': None, 'additional_info': {'summary': 'Predicting the age of abalone from physical measurements.  The age of abalone is determined by cutting the shell through the cone, staining it, and counting the number of rings through a microscope -- a boring and time-consuming task.  Other measurements, which are easier to obtain, are used to predict the age.  Further information, such as weather patterns and location (hence food availability) may be required to solve the problem.\\r\\n\\r\\nFrom the original data examples with missing values were removed (the majority having the predicted value missing), and the ranges of the continuous values have been scaled for use with an ANN (by dividing by 200).', 'purpose': None, 'funded_by': None, 'instances_represent': None, 'recommended_data_splits': None, 'sensitive_data': None, 'preprocessing_description': None, 'variable_info': 'Given is the attribute name, attribute type, the measurement unit and a brief description.  The number of rings is the value to predict: either as a continuous value or as a classification problem.\\r\\n\\r\\nName / Data Type / Measurement Unit / Description\\r\\n-----------------------------\\r\\nSex / nominal / -- / M, F, and I (infant)\\r\\nLength / continuous / mm / Longest shell measurement\\r\\nDiameter\\t/ continuous / mm / perpendicular to length\\r\\nHeight / continuous / mm / with meat in shell\\r\\nWhole weight / continuous / grams / whole abalone\\r\\nShucked weight / continuous\\t / grams / weight of meat\\r\\nViscera weight / continuous / grams / gut weight (after bleeding)\\r\\nShell weight / continuous / grams / after being dried\\r\\nRings / integer / -- / +1.5 gives the age in years\\r\\n\\r\\nThe readme file contains attribute statistics.', 'citation': None}}\n",
      "             name     role         type demographic  \\\n",
      "0             Sex  Feature  Categorical        None   \n",
      "1          Length  Feature   Continuous        None   \n",
      "2        Diameter  Feature   Continuous        None   \n",
      "3          Height  Feature   Continuous        None   \n",
      "4    Whole_weight  Feature   Continuous        None   \n",
      "5  Shucked_weight  Feature   Continuous        None   \n",
      "6  Viscera_weight  Feature   Continuous        None   \n",
      "7    Shell_weight  Feature   Continuous        None   \n",
      "8           Rings   Target      Integer        None   \n",
      "\n",
      "                   description  units missing_values  \n",
      "0         M, F, and I (infant)   None             no  \n",
      "1    Longest shell measurement     mm             no  \n",
      "2      perpendicular to length     mm             no  \n",
      "3           with meat in shell     mm             no  \n",
      "4                whole abalone  grams             no  \n",
      "5               weight of meat  grams             no  \n",
      "6  gut weight (after bleeding)  grams             no  \n",
      "7            after being dried  grams             no  \n",
      "8  +1.5 gives the age in years   None             no  \n"
     ],
     "output_type": "stream"
    }
   ],
   "metadata": {
    "datalore": {
     "node_id": "XvnAYqBXfie3PkH0ccClfr",
     "type": "CODE",
     "hide_input_from_viewers": true,
     "hide_output_from_viewers": true
    }
   }
  },
  {
   "metadata": {},
   "cell_type": "markdown",
   "source": [
    "## Library Imports\n",
    "\n",
    "Here we import all the necessary libraries for our analysis:\n",
    "\n",
    "### Data Manipulation and Visualization\n",
    "- **seaborn** and **matplotlib.pyplot**: For creating statistical visualizations\n",
    "- **plotly.express**: For interactive visualizations\n",
    "- **numpy**: For numerical operations\n",
    "- **pandas**: For data manipulation and analysis\n",
    "\n",
    "### Machine Learning Libraries (scikit-learn)\n",
    "- **feature_selection**: For selecting relevant features\n",
    "- **inspection**: For model inspection tools like permutation_importance\n",
    "- **pipeline**: For creating processing pipelines\n",
    "- **compose**: For combining different transformers\n",
    "- **preprocessing**: For data preprocessing (OneHotEncoder, PolynomialFeatures, StandardScaler)\n",
    "- **linear_model**: For regression models (LinearRegression, Lasso, Ridge)\n",
    "- **model_selection**: For cross-validation techniques (train_test_split, GridSearchCV)\n",
    "- **metrics**: For evaluation metrics (mean_squared_error, r2_score)\n",
    "\n",
    "We also configure scikit-learn to display pipelines as diagrams for better visualization.\n"
   ]
  },
  {
   "cell_type": "code",
   "source": [
    "import seaborn as sns\n",
    "import matplotlib.pyplot as plt\n",
    "import plotly.express as px\n",
    "import numpy as np\n",
    "import pandas as pd\n",
    "\n",
    "from sklearn.feature_selection import SequentialFeatureSelector, SelectFromModel\n",
    "from sklearn.inspection import permutation_importance\n",
    "from sklearn.pipeline import Pipeline\n",
    "from sklearn.compose import make_column_transformer\n",
    "from sklearn.preprocessing import OneHotEncoder, PolynomialFeatures, StandardScaler\n",
    "from sklearn.linear_model import LinearRegression, Lasso, Ridge\n",
    "from sklearn.model_selection import train_test_split, GridSearchCV\n",
    "from sklearn.metrics import mean_squared_error, r2_score\n",
    "\n",
    "from sklearn import set_config\n",
    "set_config(display=\"diagram\") #setting this will display your pipelines as seen above"
   ],
   "execution_count": 62,
   "outputs": [],
   "metadata": {
    "datalore": {
     "node_id": "UQYQrFOLES2dt5TGu0pEZS",
     "type": "CODE",
     "hide_input_from_viewers": true,
     "hide_output_from_viewers": true
    }
   }
  },
  {
   "metadata": {},
   "cell_type": "markdown",
   "source": [
    "## Data Exploration\n",
    "\n",
    "In this section, we prepare the data for analysis and explore its structure:\n",
    "\n",
    "1. We merge the features (X) and targets (y) into a single dataframe for easier analysis\n",
    "2. We set the 'index' column as the dataframe index\n",
    "3. We examine the first few rows of the dataframe to understand its structure\n",
    "4. We check the data types and look for missing values using the `info()` method\n",
    "\n",
    "This initial exploration helps us understand what we're working with before diving into more detailed analysis."
   ]
  },
  {
   "cell_type": "code",
   "source": [
    "df = y.reset_index().merge(X.reset_index(), on='index')\n",
    "\n",
    "df = df.set_index('index')\n",
    "\n",
    "df.head()\n",
    "\n",
    "df.info()"
   ],
   "execution_count": 85,
   "outputs": [
    {
     "name": "stdout",
     "text": [
      "<class 'pandas.core.frame.DataFrame'>\n",
      "Int64Index: 4177 entries, 0 to 4176\n",
      "Data columns (total 9 columns):\n",
      " #   Column          Non-Null Count  Dtype  \n",
      "---  ------          --------------  -----  \n",
      " 0   Rings           4177 non-null   int64  \n",
      " 1   Sex             4177 non-null   object \n",
      " 2   Length          4177 non-null   float64\n",
      " 3   Diameter        4177 non-null   float64\n",
      " 4   Height          4177 non-null   float64\n",
      " 5   Whole_weight    4177 non-null   float64\n",
      " 6   Shucked_weight  4177 non-null   float64\n",
      " 7   Viscera_weight  4177 non-null   float64\n",
      " 8   Shell_weight    4177 non-null   float64\n",
      "dtypes: float64(7), int64(1), object(1)\n",
      "memory usage: 326.3+ KB\n"
     ],
     "output_type": "stream"
    }
   ],
   "metadata": {
    "datalore": {
     "node_id": "yQObwYKhDsLrEzzFGqwyTN",
     "type": "CODE",
     "hide_input_from_viewers": true,
     "hide_output_from_viewers": true
    }
   }
  },
  {
   "metadata": {},
   "cell_type": "markdown",
   "source": [
    "## Correlation Analysis\n",
    "\n",
    "Here we create a correlation heatmap to visualize the relationships between all variables in the dataset. This helps us:\n",
    "\n",
    "1. Identify which features are most strongly correlated with the target variable (Rings)\n",
    "2. Detect multicollinearity between features\n",
    "3. Inform our feature selection process\n",
    "\n",
    "The heatmap uses color intensity to represent correlation strength, with annotations showing the exact correlation values."
   ]
  },
  {
   "cell_type": "code",
   "source": [
    "plt.figure(figsize = (10,6))\n",
    "sns.heatmap(data = df.corr(), annot = True)"
   ],
   "execution_count": 64,
   "outputs": [
    {
     "name": "stderr",
     "text": [
      "<ipython-input-64-5b7943923452>:2: FutureWarning: The default value of numeric_only in DataFrame.corr is deprecated. In a future version, it will default to False. Select only valid columns or specify the value of numeric_only to silence this warning.\n",
      "  sns.heatmap(data = df.corr(), annot = True)\n"
     ],
     "output_type": "stream"
    },
    {
     "data": {
      "text/plain": [
       "<Axes: >"
      ]
     },
     "metadata": {},
     "output_type": "display_data"
    },
    {
     "data": {
      "image/png": "[encoded data removed]"
     },
     "metadata": {
      "image/png": {}
     },
     "output_type": "display_data"
    }
   ],
   "metadata": {
    "datalore": {
     "node_id": "XrMfQMP3EJusfEto05xWFt",
     "type": "CODE",
     "hide_input_from_viewers": true,
     "hide_output_from_viewers": true
    }
   }
  },
  {
   "metadata": {},
   "cell_type": "markdown",
   "source": [
    "## Feature Relationship Visualization\n",
    "\n",
    "In this section, we create scatter plots to visualize the relationships between key features and the target variable. These visualizations help us:\n",
    "\n",
    "1. Understand how individual features relate to the target variable (Rings)\n",
    "2. Identify potential non-linear relationships\n",
    "3. Detect outliers or unusual patterns in the data\n",
    "\n",
    "### Shell Weight vs. Rings\n",
    "First, we examine how Shell Weight relates to the number of Rings (age)."
   ]
  },
  {
   "cell_type": "code",
   "source": [
    "sns.scatterplot(x = X['Shell_weight'], y = y['Rings'])"
   ],
   "execution_count": 65,
   "outputs": [
    {
     "data": {
      "text/plain": [
       "<Axes: xlabel='Shell_weight', ylabel='Rings'>"
      ]
     },
     "metadata": {},
     "output_type": "display_data"
    },
    {
     "data": {
      "image/png": "[encoded data removed]"
     },
     "metadata": {
      "image/png": {}
     },
     "output_type": "display_data"
    }
   ],
   "metadata": {
    "datalore": {
     "node_id": "vrn2xt5a5q9zcLQdCqo7hN",
     "type": "CODE",
     "hide_input_from_viewers": true,
     "hide_output_from_viewers": true
    }
   }
  },
  {
   "metadata": {},
   "cell_type": "markdown",
   "source": [
    "### Height vs. Rings\n",
    "Next, we examine how Height relates to the number of Rings."
   ]
  },
  {
   "cell_type": "code",
   "source": [
    "sns.scatterplot(x = X['Height'], y = y['Rings'])"
   ],
   "execution_count": 66,
   "outputs": [
    {
     "data": {
      "text/plain": [
       "<Axes: xlabel='Height', ylabel='Rings'>"
      ]
     },
     "metadata": {},
     "output_type": "display_data"
    },
    {
     "data": {
      "image/png": "[encoded data removed]"
     },
     "metadata": {
      "image/png": {}
     },
     "output_type": "display_data"
    }
   ],
   "metadata": {
    "datalore": {
     "node_id": "2wpUEMRipLssRGDzKQIxge",
     "type": "CODE",
     "hide_input_from_viewers": true,
     "hide_output_from_viewers": true
    }
   }
  },
  {
   "metadata": {},
   "cell_type": "markdown",
   "source": [
    "### Diameter vs. Rings\n",
    "We also examine how Diameter relates to the number of Rings."
   ]
  },
  {
   "cell_type": "code",
   "source": [
    "sns.scatterplot(x = X['Diameter'], y = y['Rings'])"
   ],
   "execution_count": 67,
   "outputs": [
    {
     "data": {
      "text/plain": [
       "<Axes: xlabel='Diameter', ylabel='Rings'>"
      ]
     },
     "metadata": {},
     "output_type": "display_data"
    },
    {
     "data": {
      "image/png": "[encoded data removed]"
     },
     "metadata": {
      "image/png": {}
     },
     "output_type": "display_data"
    }
   ],
   "metadata": {
    "datalore": {
     "node_id": "k30MqDkDq31uF4oLE0lXWR",
     "type": "CODE",
     "hide_input_from_viewers": true,
     "hide_output_from_viewers": true
    }
   }
  },
  {
   "metadata": {},
   "cell_type": "markdown",
   "source": [
    "### Height vs. Shell Weight\n",
    "Finally, we examine the relationship between two features: Height and Shell Weight. This helps us understand if there's multicollinearity between these features."
   ]
  },
  {
   "cell_type": "code",
   "source": [
    "sns.scatterplot(x = X['Height'], y = X['Shell_weight'])"
   ],
   "execution_count": 68,
   "outputs": [
    {
     "data": {
      "text/plain": [
       "<Axes: xlabel='Height', ylabel='Shell_weight'>"
      ]
     },
     "metadata": {},
     "output_type": "display_data"
    },
    {
     "data": {
      "image/png": "[encoded data removed]"
     },
     "metadata": {
      "image/png": {}
     },
     "output_type": "display_data"
    }
   ],
   "metadata": {
    "datalore": {
     "node_id": "NrIcWmfMaMu199BmqBa37B",
     "type": "CODE",
     "hide_input_from_viewers": true,
     "hide_output_from_viewers": true
    }
   }
  },
  {
   "metadata": {},
   "cell_type": "markdown",
   "source": [
    "## Simple Cross-Validation Setup\n",
    "\n",
    "Based on our exploratory analysis, we select the most promising features for our model. The scatter plots and correlation analysis suggest that 'Shell_weight' and 'Height' have strong relationships with the target variable (Rings).\n",
    "\n",
    "In this section, we:\n",
    "\n",
    "1. Select the features we'll use for modeling ('Shell_weight' and 'Height')\n",
    "2. Split the data into training (70%) and test (30%) sets using scikit-learn's `train_test_split` function\n",
    "3. Extract the indices of the training and test sets for later use in custom cross-validation\n",
    "4. Check the type of the indices to ensure they're in the correct format\n",
    "\n",
    "This simple train-test split is our first cross-validation approach, which we'll compare with more sophisticated methods later."
   ]
  },
  {
   "cell_type": "code",
   "source": [
    "# simple cross-validation splitting the data into two subsets:\n",
    "features_selected = ['Shell_weight', 'Height']\n",
    "\n",
    "X_train, X_test, y_train, y_test = train_test_split(X[features_selected], y['Rings'], test_size=.3, shuffle = True ,random_state = 42)\n",
    "\n",
    "training_indices = X_train.reset_index()['index']\n",
    "dev_indices = X_test.reset_index()['index']\n",
    "type(training_indices)"
   ],
   "execution_count": 69,
   "outputs": [
    {
     "data": {
      "text/plain": [
       "pandas.core.series.Series"
      ]
     },
     "metadata": {},
     "output_type": "display_data"
    }
   ],
   "metadata": {
    "datalore": {
     "node_id": "s0ax1d7ysJwLHuk9fgUSwK",
     "type": "CODE",
     "hide_input_from_viewers": true,
     "hide_output_from_viewers": true
    }
   }
  },
  {
   "metadata": {},
   "cell_type": "markdown",
   "source": [
    "## Model Pipeline Creation\n",
    "\n",
    "In this section, we create a machine learning pipeline to predict the age of abalone (number of rings). The pipeline consists of three main components:\n",
    "\n",
    "1. **Transformer**: We use `make_column_transformer` to create polynomial features (degree 3) from our selected features ('Shell_weight' and 'Height'). This allows the model to capture non-linear relationships between these features and the target variable.\n",
    "\n",
    "2. **StandardScaler**: We standardize the features to have zero mean and unit variance. This is important because polynomial features can have very different scales, which can affect model performance.\n",
    "\n",
    "3. **LinearRegression**: We use a linear regression model as our final estimator. Even though we're using polynomial features, the model itself is still linear in its parameters.\n",
    "\n",
    "Using a pipeline ensures that all preprocessing steps are applied consistently during both training and prediction.\n"
   ]
  },
  {
   "cell_type": "code",
   "source": [
    "transformer = make_column_transformer(\n",
    "                                      (PolynomialFeatures(degree = 3, include_bias=False), ['Shell_weight', 'Height']),\n",
    "                                      #remainder='passthrough'\n",
    "                                      )\n",
    "\n",
    "pipel = Pipeline([\n",
    "    ('tr',transformer),\n",
    "    ('stdrd', StandardScaler()),\n",
    "    ('lr',LinearRegression())\n",
    "])"
   ],
   "execution_count": 70,
   "outputs": [],
   "metadata": {
    "datalore": {
     "node_id": "POglhuhNGxWu5mIMuEyl3z",
     "type": "CODE",
     "hide_input_from_viewers": true,
     "hide_output_from_viewers": true
    }
   }
  },
  {
   "metadata": {},
   "cell_type": "markdown",
   "source": [
    "## Model Training and Evaluation with Simple Cross-Validation\n",
    "\n",
    "Now we train our model on the training set and evaluate its performance on the test set. This is the simplest form of cross-validation, often called the holdout method.\n",
    "\n",
    "In this section, we:\n",
    "\n",
    "1. **Train the model**: Fit the pipeline on the training data\n",
    "2. **Calculate performance metrics**:\n",
    "   - Mean Squared Error (MSE): Average of squared differences between predicted and actual values\n",
    "   - Root Mean Squared Error (RMSE): Square root of MSE, which is in the same units as the target variable\n",
    "   - R-squared (R²): Proportion of variance in the target variable explained by the model\n",
    "\n",
    "These metrics help us assess how well our model generalizes to unseen data. Note that we calculate R² on the training data to see how well the model fits the training set, while MSE and RMSE are calculated on the test data to evaluate generalization performance.\n"
   ]
  },
  {
   "cell_type": "code",
   "source": [
    "pipel.fit(X_train, y_train)\n",
    "# mse \n",
    "mse_simplecv = np.round(mean_squared_error(pipel.predict(X_test) , y_test, squared = True), 3)\n",
    "rmse_simplecv = np.round(mean_squared_error(pipel.predict(X_test) , y_test, squared = False), 3)\n",
    "r2_simplecv = np.round(r2_score(pipel.predict(X_train) , y_train), 3)\n",
    "\n",
    "print('Test MSE: ' + str(mse_simplecv) +'\\nTest RMSE: ' + str(rmse_simplecv) +'\\nR^2:' + str(r2_simplecv) )"
   ],
   "execution_count": 71,
   "outputs": [
    {
     "name": "stdout",
     "text": [
      "Test MSE: 5.786\n",
      "Test RMSE: 2.405\n",
      "R^2:-0.361\n"
     ],
     "output_type": "stream"
    }
   ],
   "metadata": {
    "datalore": {
     "node_id": "GV1V0iG5sTVI3Fx71RQQMS",
     "type": "CODE",
     "hide_input_from_viewers": true,
     "hide_output_from_viewers": true
    }
   }
  },
  {
   "metadata": {},
   "cell_type": "markdown",
   "source": [
    "## Advanced Cross-Validation Setup\n",
    "\n",
    "In this section, we implement more sophisticated cross-validation techniques to find the optimal model hyperparameters. We create a new pipeline that:\n",
    "\n",
    "1. Uses polynomial features with a flexible degree (to be tuned)\n",
    "2. Applies standardization\n",
    "3. Uses Ridge regression instead of simple linear regression, with a regularization parameter alpha (to be tuned)\n",
    "\n",
    "We then use `GridSearchCV` to find the best combination of hyperparameters by trying:\n",
    "- Different polynomial degrees: 2, 3, 4, and 5\n",
    "- Different regularization strengths (alpha): 0.01, 0.1, 1, 10, and 100\n",
    "\n",
    "We implement three different cross-validation strategies:\n",
    "\n",
    "1. **Simple CV**: Using our predefined training and test sets\n",
    "2. **K-Fold CV (k=5)**: Splitting the data into 5 folds, where each fold serves as the test set once\n",
    "3. **K-Fold CV (k=10)**: Splitting the data into 10 folds for more robust validation\n",
    "\n",
    "This allows us to compare the effectiveness of different cross-validation techniques for our specific dataset.\n"
   ]
  },
  {
   "cell_type": "code",
   "source": [
    "transformer = make_column_transformer(\n",
    "                                      (PolynomialFeatures(include_bias=False), ['Shell_weight', 'Height'])\n",
    "                                      #remainder='passthrough'\n",
    "                                      )\n",
    "\n",
    "pipel = Pipeline([\n",
    "    ('tr',transformer),\n",
    "    ('stdrd', StandardScaler()),\n",
    "    ('lr',Ridge())\n",
    "])\n",
    "\n",
    "parameters_to_try = {\n",
    "    'tr__polynomialfeatures__degree': [2, 3, 4, 5],\n",
    "    'lr__alpha': [0.01, 0.1, 1, 10, 100]\n",
    "}\n",
    "\n",
    "\n",
    "modelfinder_simplecv = GridSearchCV(\n",
    "    estimator = pipel,\n",
    "    param_grid= parameters_to_try,\n",
    "    scoring= 'neg_mean_squared_error',\n",
    "    cv = [[training_indices, dev_indices]]\n",
    ").fit(X, y)\n",
    "\n",
    "\n",
    "modelfinder_kfold5cv = GridSearchCV(\n",
    "    estimator = pipel,\n",
    "    param_grid= parameters_to_try,\n",
    "    scoring= 'neg_mean_squared_error',\n",
    "    cv = 5\n",
    ").fit(X, y)\n",
    "\n",
    "\n",
    "modelfinder_kfold10cv = GridSearchCV(\n",
    "    estimator = pipel,\n",
    "    param_grid= parameters_to_try,\n",
    "    scoring= 'neg_mean_squared_error',\n",
    "    cv = 10\n",
    ").fit(X, y)\n"
   ],
   "execution_count": 72,
   "outputs": [],
   "metadata": {
    "datalore": {
     "node_id": "WH2r8EtFnoADqWxr0qQnrZ",
     "type": "CODE",
     "hide_input_from_viewers": true,
     "hide_output_from_viewers": true
    }
   }
  },
  {
   "metadata": {},
   "cell_type": "markdown",
   "source": [
    "## Evaluating Cross-Validation Results\n",
    "\n",
    "Now we'll examine the results of our different cross-validation approaches. For each approach, we'll:\n",
    "\n",
    "1. Display the best model configuration found by GridSearchCV\n",
    "2. Extract and display the mean test score for the best model\n",
    "\n",
    "This allows us to compare the optimal hyperparameters selected by each cross-validation strategy and their respective performance.\n",
    "\n",
    "### Simple Cross-Validation Results\n",
    "\n",
    "First, let's examine the results from our simple train-test split approach:"
   ]
  },
  {
   "cell_type": "code",
   "source": [
    "modelfinder_simplecv.best_estimator_"
   ],
   "execution_count": 73,
   "outputs": [
    {
     "data": {
      "text/html": [
       "<style>#sk-container-id-9 {color: black;background-color: white;}#sk-container-id-9 pre{padding: 0;}#sk-container-id-9 div.sk-toggleable {background-color: white;}#sk-container-id-9 label.sk-toggleable__label {cursor: pointer;display: block;width: 100%;margin-bottom: 0;padding: 0.3em;box-sizing: border-box;text-align: center;}#sk-container-id-9 label.sk-toggleable__label-arrow:before {content: \"▸\";float: left;margin-right: 0.25em;color: #696969;}#sk-container-id-9 label.sk-toggleable__label-arrow:hover:before {color: black;}#sk-container-id-9 div.sk-estimator:hover label.sk-toggleable__label-arrow:before {color: black;}#sk-container-id-9 div.sk-toggleable__content {max-height: 0;max-width: 0;overflow: hidden;text-align: left;background-color: #f0f8ff;}#sk-container-id-9 div.sk-toggleable__content pre {margin: 0.2em;color: black;border-radius: 0.25em;background-color: #f0f8ff;}#sk-container-id-9 input.sk-toggleable__control:checked~div.sk-toggleable__content {max-height: 200px;max-width: 100%;overflow: auto;}#sk-container-id-9 input.sk-toggleable__control:checked~label.sk-toggleable__label-arrow:before {content: \"▾\";}#sk-container-id-9 div.sk-estimator input.sk-toggleable__control:checked~label.sk-toggleable__label {background-color: #d4ebff;}#sk-container-id-9 div.sk-label input.sk-toggleable__control:checked~label.sk-toggleable__label {background-color: #d4ebff;}#sk-container-id-9 input.sk-hidden--visually {border: 0;clip: rect(1px 1px 1px 1px);clip: rect(1px, 1px, 1px, 1px);height: 1px;margin: -1px;overflow: hidden;padding: 0;position: absolute;width: 1px;}#sk-container-id-9 div.sk-estimator {font-family: monospace;background-color: #f0f8ff;border: 1px dotted black;border-radius: 0.25em;box-sizing: border-box;margin-bottom: 0.5em;}#sk-container-id-9 div.sk-estimator:hover {background-color: #d4ebff;}#sk-container-id-9 div.sk-parallel-item::after {content: \"\";width: 100%;border-bottom: 1px solid gray;flex-grow: 1;}#sk-container-id-9 div.sk-label:hover label.sk-toggleable__label {background-color: #d4ebff;}#sk-container-id-9 div.sk-serial::before {content: \"\";position: absolute;border-left: 1px solid gray;box-sizing: border-box;top: 0;bottom: 0;left: 50%;z-index: 0;}#sk-container-id-9 div.sk-serial {display: flex;flex-direction: column;align-items: center;background-color: white;padding-right: 0.2em;padding-left: 0.2em;position: relative;}#sk-container-id-9 div.sk-item {position: relative;z-index: 1;}#sk-container-id-9 div.sk-parallel {display: flex;align-items: stretch;justify-content: center;background-color: white;position: relative;}#sk-container-id-9 div.sk-item::before, #sk-container-id-9 div.sk-parallel-item::before {content: \"\";position: absolute;border-left: 1px solid gray;box-sizing: border-box;top: 0;bottom: 0;left: 50%;z-index: -1;}#sk-container-id-9 div.sk-parallel-item {display: flex;flex-direction: column;z-index: 1;position: relative;background-color: white;}#sk-container-id-9 div.sk-parallel-item:first-child::after {align-self: flex-end;width: 50%;}#sk-container-id-9 div.sk-parallel-item:last-child::after {align-self: flex-start;width: 50%;}#sk-container-id-9 div.sk-parallel-item:only-child::after {width: 0;}#sk-container-id-9 div.sk-dashed-wrapped {border: 1px dashed gray;margin: 0 0.4em 0.5em 0.4em;box-sizing: border-box;padding-bottom: 0.4em;background-color: white;}#sk-container-id-9 div.sk-label label {font-family: monospace;font-weight: bold;display: inline-block;line-height: 1.2em;}#sk-container-id-9 div.sk-label-container {text-align: center;}#sk-container-id-9 div.sk-container {/* jupyter's `normalize.less` sets `[hidden] { display: none; }` but bootstrap.min.css set `[hidden] { display: none !important; }` so we also need the `!important` here to be able to override the default hidden behavior on the sphinx rendered scikit-learn.org. See: https://github.com/scikit-learn/scikit-learn/issues/21755 */display: inline-block !important;position: relative;}#sk-container-id-9 div.sk-text-repr-fallback {display: none;}</style><div id=\"sk-container-id-9\" class=\"sk-top-container\"><div class=\"sk-text-repr-fallback\"><pre>Pipeline(steps=[(&#x27;tr&#x27;,\n",
       "                 ColumnTransformer(transformers=[(&#x27;polynomialfeatures&#x27;,\n",
       "                                                  PolynomialFeatures(degree=3,\n",
       "                                                                     include_bias=False),\n",
       "                                                  [&#x27;Shell_weight&#x27;,\n",
       "                                                   &#x27;Height&#x27;])])),\n",
       "                (&#x27;stdrd&#x27;, StandardScaler()), (&#x27;lr&#x27;, Ridge(alpha=0.01))])</pre><b>In a Jupyter environment, please rerun this cell to show the HTML representation or trust the notebook. <br />On GitHub, the HTML representation is unable to render, please try loading this page with nbviewer.org.</b></div><div class=\"sk-container\" hidden><div class=\"sk-item sk-dashed-wrapped\"><div class=\"sk-label-container\"><div class=\"sk-label sk-toggleable\"><input class=\"sk-toggleable__control sk-hidden--visually\" id=\"sk-estimator-id-49\" type=\"checkbox\" ><label for=\"sk-estimator-id-49\" class=\"sk-toggleable__label sk-toggleable__label-arrow\">Pipeline</label><div class=\"sk-toggleable__content\"><pre>Pipeline(steps=[(&#x27;tr&#x27;,\n",
       "                 ColumnTransformer(transformers=[(&#x27;polynomialfeatures&#x27;,\n",
       "                                                  PolynomialFeatures(degree=3,\n",
       "                                                                     include_bias=False),\n",
       "                                                  [&#x27;Shell_weight&#x27;,\n",
       "                                                   &#x27;Height&#x27;])])),\n",
       "                (&#x27;stdrd&#x27;, StandardScaler()), (&#x27;lr&#x27;, Ridge(alpha=0.01))])</pre></div></div></div><div class=\"sk-serial\"><div class=\"sk-item sk-dashed-wrapped\"><div class=\"sk-label-container\"><div class=\"sk-label sk-toggleable\"><input class=\"sk-toggleable__control sk-hidden--visually\" id=\"sk-estimator-id-50\" type=\"checkbox\" ><label for=\"sk-estimator-id-50\" class=\"sk-toggleable__label sk-toggleable__label-arrow\">tr: ColumnTransformer</label><div class=\"sk-toggleable__content\"><pre>ColumnTransformer(transformers=[(&#x27;polynomialfeatures&#x27;,\n",
       "                                 PolynomialFeatures(degree=3,\n",
       "                                                    include_bias=False),\n",
       "                                 [&#x27;Shell_weight&#x27;, &#x27;Height&#x27;])])</pre></div></div></div><div class=\"sk-parallel\"><div class=\"sk-parallel-item\"><div class=\"sk-item\"><div class=\"sk-label-container\"><div class=\"sk-label sk-toggleable\"><input class=\"sk-toggleable__control sk-hidden--visually\" id=\"sk-estimator-id-51\" type=\"checkbox\" ><label for=\"sk-estimator-id-51\" class=\"sk-toggleable__label sk-toggleable__label-arrow\">polynomialfeatures</label><div class=\"sk-toggleable__content\"><pre>[&#x27;Shell_weight&#x27;, &#x27;Height&#x27;]</pre></div></div></div><div class=\"sk-serial\"><div class=\"sk-item\"><div class=\"sk-estimator sk-toggleable\"><input class=\"sk-toggleable__control sk-hidden--visually\" id=\"sk-estimator-id-52\" type=\"checkbox\" ><label for=\"sk-estimator-id-52\" class=\"sk-toggleable__label sk-toggleable__label-arrow\">PolynomialFeatures</label><div class=\"sk-toggleable__content\"><pre>PolynomialFeatures(degree=3, include_bias=False)</pre></div></div></div></div></div></div></div></div><div class=\"sk-item\"><div class=\"sk-estimator sk-toggleable\"><input class=\"sk-toggleable__control sk-hidden--visually\" id=\"sk-estimator-id-53\" type=\"checkbox\" ><label for=\"sk-estimator-id-53\" class=\"sk-toggleable__label sk-toggleable__label-arrow\">StandardScaler</label><div class=\"sk-toggleable__content\"><pre>StandardScaler()</pre></div></div></div><div class=\"sk-item\"><div class=\"sk-estimator sk-toggleable\"><input class=\"sk-toggleable__control sk-hidden--visually\" id=\"sk-estimator-id-54\" type=\"checkbox\" ><label for=\"sk-estimator-id-54\" class=\"sk-toggleable__label sk-toggleable__label-arrow\">Ridge</label><div class=\"sk-toggleable__content\"><pre>Ridge(alpha=0.01)</pre></div></div></div></div></div></div></div>"
      ]
     },
     "metadata": {},
     "output_type": "display_data"
    }
   ],
   "metadata": {
    "datalore": {
     "node_id": "xbaYFTP2ZW0IDYIt41V1eG",
     "type": "CODE",
     "hide_input_from_viewers": true,
     "hide_output_from_viewers": true
    }
   }
  },
  {
   "metadata": {},
   "cell_type": "markdown",
   "source": "Here we extract the mean test score for the best model found using simple cross-validation:"
  },
  {
   "cell_type": "code",
   "source": [
    "mean_test_scorescv = pd.DataFrame(modelfinder_simplecv.cv_results_).query('rank_test_score == 1')['mean_test_score']\n",
    "\n",
    "np.round(-mean_test_scorescv,  3)"
   ],
   "execution_count": 81,
   "outputs": [
    {
     "data": {
      "text/html": [
       "<pre>1    5.786\n",
       "Name: mean_test_score, dtype: float64</pre>"
      ]
     },
     "metadata": {},
     "output_type": "display_data"
    }
   ],
   "metadata": {
    "datalore": {
     "node_id": "n0x3GwzZlZvBOIvl2NiNh5",
     "type": "CODE",
     "hide_input_from_viewers": true,
     "hide_output_from_viewers": true
    }
   }
  },
  {
   "metadata": {},
   "cell_type": "markdown",
   "source": [
    "### 5-Fold Cross-Validation Results\n",
    "\n",
    "Next, let's examine the results from 5-fold cross-validation:"
   ]
  },
  {
   "cell_type": "code",
   "source": [
    "modelfinder_kfold5cv.best_estimator_"
   ],
   "execution_count": 75,
   "outputs": [
    {
     "data": {
      "text/html": [
       "<style>#sk-container-id-10 {color: black;background-color: white;}#sk-container-id-10 pre{padding: 0;}#sk-container-id-10 div.sk-toggleable {background-color: white;}#sk-container-id-10 label.sk-toggleable__label {cursor: pointer;display: block;width: 100%;margin-bottom: 0;padding: 0.3em;box-sizing: border-box;text-align: center;}#sk-container-id-10 label.sk-toggleable__label-arrow:before {content: \"▸\";float: left;margin-right: 0.25em;color: #696969;}#sk-container-id-10 label.sk-toggleable__label-arrow:hover:before {color: black;}#sk-container-id-10 div.sk-estimator:hover label.sk-toggleable__label-arrow:before {color: black;}#sk-container-id-10 div.sk-toggleable__content {max-height: 0;max-width: 0;overflow: hidden;text-align: left;background-color: #f0f8ff;}#sk-container-id-10 div.sk-toggleable__content pre {margin: 0.2em;color: black;border-radius: 0.25em;background-color: #f0f8ff;}#sk-container-id-10 input.sk-toggleable__control:checked~div.sk-toggleable__content {max-height: 200px;max-width: 100%;overflow: auto;}#sk-container-id-10 input.sk-toggleable__control:checked~label.sk-toggleable__label-arrow:before {content: \"▾\";}#sk-container-id-10 div.sk-estimator input.sk-toggleable__control:checked~label.sk-toggleable__label {background-color: #d4ebff;}#sk-container-id-10 div.sk-label input.sk-toggleable__control:checked~label.sk-toggleable__label {background-color: #d4ebff;}#sk-container-id-10 input.sk-hidden--visually {border: 0;clip: rect(1px 1px 1px 1px);clip: rect(1px, 1px, 1px, 1px);height: 1px;margin: -1px;overflow: hidden;padding: 0;position: absolute;width: 1px;}#sk-container-id-10 div.sk-estimator {font-family: monospace;background-color: #f0f8ff;border: 1px dotted black;border-radius: 0.25em;box-sizing: border-box;margin-bottom: 0.5em;}#sk-container-id-10 div.sk-estimator:hover {background-color: #d4ebff;}#sk-container-id-10 div.sk-parallel-item::after {content: \"\";width: 100%;border-bottom: 1px solid gray;flex-grow: 1;}#sk-container-id-10 div.sk-label:hover label.sk-toggleable__label {background-color: #d4ebff;}#sk-container-id-10 div.sk-serial::before {content: \"\";position: absolute;border-left: 1px solid gray;box-sizing: border-box;top: 0;bottom: 0;left: 50%;z-index: 0;}#sk-container-id-10 div.sk-serial {display: flex;flex-direction: column;align-items: center;background-color: white;padding-right: 0.2em;padding-left: 0.2em;position: relative;}#sk-container-id-10 div.sk-item {position: relative;z-index: 1;}#sk-container-id-10 div.sk-parallel {display: flex;align-items: stretch;justify-content: center;background-color: white;position: relative;}#sk-container-id-10 div.sk-item::before, #sk-container-id-10 div.sk-parallel-item::before {content: \"\";position: absolute;border-left: 1px solid gray;box-sizing: border-box;top: 0;bottom: 0;left: 50%;z-index: -1;}#sk-container-id-10 div.sk-parallel-item {display: flex;flex-direction: column;z-index: 1;position: relative;background-color: white;}#sk-container-id-10 div.sk-parallel-item:first-child::after {align-self: flex-end;width: 50%;}#sk-container-id-10 div.sk-parallel-item:last-child::after {align-self: flex-start;width: 50%;}#sk-container-id-10 div.sk-parallel-item:only-child::after {width: 0;}#sk-container-id-10 div.sk-dashed-wrapped {border: 1px dashed gray;margin: 0 0.4em 0.5em 0.4em;box-sizing: border-box;padding-bottom: 0.4em;background-color: white;}#sk-container-id-10 div.sk-label label {font-family: monospace;font-weight: bold;display: inline-block;line-height: 1.2em;}#sk-container-id-10 div.sk-label-container {text-align: center;}#sk-container-id-10 div.sk-container {/* jupyter's `normalize.less` sets `[hidden] { display: none; }` but bootstrap.min.css set `[hidden] { display: none !important; }` so we also need the `!important` here to be able to override the default hidden behavior on the sphinx rendered scikit-learn.org. See: https://github.com/scikit-learn/scikit-learn/issues/21755 */display: inline-block !important;position: relative;}#sk-container-id-10 div.sk-text-repr-fallback {display: none;}</style><div id=\"sk-container-id-10\" class=\"sk-top-container\"><div class=\"sk-text-repr-fallback\"><pre>Pipeline(steps=[(&#x27;tr&#x27;,\n",
       "                 ColumnTransformer(transformers=[(&#x27;polynomialfeatures&#x27;,\n",
       "                                                  PolynomialFeatures(include_bias=False),\n",
       "                                                  [&#x27;Shell_weight&#x27;,\n",
       "                                                   &#x27;Height&#x27;])])),\n",
       "                (&#x27;stdrd&#x27;, StandardScaler()), (&#x27;lr&#x27;, Ridge(alpha=10))])</pre><b>In a Jupyter environment, please rerun this cell to show the HTML representation or trust the notebook. <br />On GitHub, the HTML representation is unable to render, please try loading this page with nbviewer.org.</b></div><div class=\"sk-container\" hidden><div class=\"sk-item sk-dashed-wrapped\"><div class=\"sk-label-container\"><div class=\"sk-label sk-toggleable\"><input class=\"sk-toggleable__control sk-hidden--visually\" id=\"sk-estimator-id-55\" type=\"checkbox\" ><label for=\"sk-estimator-id-55\" class=\"sk-toggleable__label sk-toggleable__label-arrow\">Pipeline</label><div class=\"sk-toggleable__content\"><pre>Pipeline(steps=[(&#x27;tr&#x27;,\n",
       "                 ColumnTransformer(transformers=[(&#x27;polynomialfeatures&#x27;,\n",
       "                                                  PolynomialFeatures(include_bias=False),\n",
       "                                                  [&#x27;Shell_weight&#x27;,\n",
       "                                                   &#x27;Height&#x27;])])),\n",
       "                (&#x27;stdrd&#x27;, StandardScaler()), (&#x27;lr&#x27;, Ridge(alpha=10))])</pre></div></div></div><div class=\"sk-serial\"><div class=\"sk-item sk-dashed-wrapped\"><div class=\"sk-label-container\"><div class=\"sk-label sk-toggleable\"><input class=\"sk-toggleable__control sk-hidden--visually\" id=\"sk-estimator-id-56\" type=\"checkbox\" ><label for=\"sk-estimator-id-56\" class=\"sk-toggleable__label sk-toggleable__label-arrow\">tr: ColumnTransformer</label><div class=\"sk-toggleable__content\"><pre>ColumnTransformer(transformers=[(&#x27;polynomialfeatures&#x27;,\n",
       "                                 PolynomialFeatures(include_bias=False),\n",
       "                                 [&#x27;Shell_weight&#x27;, &#x27;Height&#x27;])])</pre></div></div></div><div class=\"sk-parallel\"><div class=\"sk-parallel-item\"><div class=\"sk-item\"><div class=\"sk-label-container\"><div class=\"sk-label sk-toggleable\"><input class=\"sk-toggleable__control sk-hidden--visually\" id=\"sk-estimator-id-57\" type=\"checkbox\" ><label for=\"sk-estimator-id-57\" class=\"sk-toggleable__label sk-toggleable__label-arrow\">polynomialfeatures</label><div class=\"sk-toggleable__content\"><pre>[&#x27;Shell_weight&#x27;, &#x27;Height&#x27;]</pre></div></div></div><div class=\"sk-serial\"><div class=\"sk-item\"><div class=\"sk-estimator sk-toggleable\"><input class=\"sk-toggleable__control sk-hidden--visually\" id=\"sk-estimator-id-58\" type=\"checkbox\" ><label for=\"sk-estimator-id-58\" class=\"sk-toggleable__label sk-toggleable__label-arrow\">PolynomialFeatures</label><div class=\"sk-toggleable__content\"><pre>PolynomialFeatures(include_bias=False)</pre></div></div></div></div></div></div></div></div><div class=\"sk-item\"><div class=\"sk-estimator sk-toggleable\"><input class=\"sk-toggleable__control sk-hidden--visually\" id=\"sk-estimator-id-59\" type=\"checkbox\" ><label for=\"sk-estimator-id-59\" class=\"sk-toggleable__label sk-toggleable__label-arrow\">StandardScaler</label><div class=\"sk-toggleable__content\"><pre>StandardScaler()</pre></div></div></div><div class=\"sk-item\"><div class=\"sk-estimator sk-toggleable\"><input class=\"sk-toggleable__control sk-hidden--visually\" id=\"sk-estimator-id-60\" type=\"checkbox\" ><label for=\"sk-estimator-id-60\" class=\"sk-toggleable__label sk-toggleable__label-arrow\">Ridge</label><div class=\"sk-toggleable__content\"><pre>Ridge(alpha=10)</pre></div></div></div></div></div></div></div>"
      ]
     },
     "metadata": {},
     "output_type": "display_data"
    }
   ],
   "metadata": {
    "datalore": {
     "node_id": "IAdDMYCFLehuWqTzIJyEhJ",
     "type": "CODE",
     "hide_input_from_viewers": true,
     "hide_output_from_viewers": true
    }
   }
  },
  {
   "metadata": {},
   "cell_type": "markdown",
   "source": "Here we extract the mean test score for the best model found using 5-fold cross-validation:"
  },
  {
   "cell_type": "code",
   "source": [
    "mean_test_score5k = pd.DataFrame(modelfinder_kfold5cv.cv_results_).query('rank_test_score == 1')['mean_test_score']\n",
    "\n",
    "np.round(-mean_test_score5k,  3)"
   ],
   "execution_count": 83,
   "outputs": [
    {
     "data": {
      "text/html": [
       "<pre>12    6.681\n",
       "Name: mean_test_score, dtype: float64</pre>"
      ]
     },
     "metadata": {},
     "output_type": "display_data"
    }
   ],
   "metadata": {
    "datalore": {
     "node_id": "NMJAdOJR93lWHfXKsD7DhK",
     "type": "CODE",
     "hide_input_from_viewers": true,
     "hide_output_from_viewers": true
    }
   }
  },
  {
   "metadata": {},
   "cell_type": "markdown",
   "source": [
    "### 10-Fold Cross-Validation Results\n",
    "\n",
    "Finally, let's examine the results from 10-fold cross-validation:"
   ]
  },
  {
   "cell_type": "code",
   "source": [
    "modelfinder_kfold10cv.best_estimator_"
   ],
   "execution_count": 84,
   "outputs": [
    {
     "data": {
      "text/html": [
       "<style>#sk-container-id-11 {color: black;background-color: white;}#sk-container-id-11 pre{padding: 0;}#sk-container-id-11 div.sk-toggleable {background-color: white;}#sk-container-id-11 label.sk-toggleable__label {cursor: pointer;display: block;width: 100%;margin-bottom: 0;padding: 0.3em;box-sizing: border-box;text-align: center;}#sk-container-id-11 label.sk-toggleable__label-arrow:before {content: \"▸\";float: left;margin-right: 0.25em;color: #696969;}#sk-container-id-11 label.sk-toggleable__label-arrow:hover:before {color: black;}#sk-container-id-11 div.sk-estimator:hover label.sk-toggleable__label-arrow:before {color: black;}#sk-container-id-11 div.sk-toggleable__content {max-height: 0;max-width: 0;overflow: hidden;text-align: left;background-color: #f0f8ff;}#sk-container-id-11 div.sk-toggleable__content pre {margin: 0.2em;color: black;border-radius: 0.25em;background-color: #f0f8ff;}#sk-container-id-11 input.sk-toggleable__control:checked~div.sk-toggleable__content {max-height: 200px;max-width: 100%;overflow: auto;}#sk-container-id-11 input.sk-toggleable__control:checked~label.sk-toggleable__label-arrow:before {content: \"▾\";}#sk-container-id-11 div.sk-estimator input.sk-toggleable__control:checked~label.sk-toggleable__label {background-color: #d4ebff;}#sk-container-id-11 div.sk-label input.sk-toggleable__control:checked~label.sk-toggleable__label {background-color: #d4ebff;}#sk-container-id-11 input.sk-hidden--visually {border: 0;clip: rect(1px 1px 1px 1px);clip: rect(1px, 1px, 1px, 1px);height: 1px;margin: -1px;overflow: hidden;padding: 0;position: absolute;width: 1px;}#sk-container-id-11 div.sk-estimator {font-family: monospace;background-color: #f0f8ff;border: 1px dotted black;border-radius: 0.25em;box-sizing: border-box;margin-bottom: 0.5em;}#sk-container-id-11 div.sk-estimator:hover {background-color: #d4ebff;}#sk-container-id-11 div.sk-parallel-item::after {content: \"\";width: 100%;border-bottom: 1px solid gray;flex-grow: 1;}#sk-container-id-11 div.sk-label:hover label.sk-toggleable__label {background-color: #d4ebff;}#sk-container-id-11 div.sk-serial::before {content: \"\";position: absolute;border-left: 1px solid gray;box-sizing: border-box;top: 0;bottom: 0;left: 50%;z-index: 0;}#sk-container-id-11 div.sk-serial {display: flex;flex-direction: column;align-items: center;background-color: white;padding-right: 0.2em;padding-left: 0.2em;position: relative;}#sk-container-id-11 div.sk-item {position: relative;z-index: 1;}#sk-container-id-11 div.sk-parallel {display: flex;align-items: stretch;justify-content: center;background-color: white;position: relative;}#sk-container-id-11 div.sk-item::before, #sk-container-id-11 div.sk-parallel-item::before {content: \"\";position: absolute;border-left: 1px solid gray;box-sizing: border-box;top: 0;bottom: 0;left: 50%;z-index: -1;}#sk-container-id-11 div.sk-parallel-item {display: flex;flex-direction: column;z-index: 1;position: relative;background-color: white;}#sk-container-id-11 div.sk-parallel-item:first-child::after {align-self: flex-end;width: 50%;}#sk-container-id-11 div.sk-parallel-item:last-child::after {align-self: flex-start;width: 50%;}#sk-container-id-11 div.sk-parallel-item:only-child::after {width: 0;}#sk-container-id-11 div.sk-dashed-wrapped {border: 1px dashed gray;margin: 0 0.4em 0.5em 0.4em;box-sizing: border-box;padding-bottom: 0.4em;background-color: white;}#sk-container-id-11 div.sk-label label {font-family: monospace;font-weight: bold;display: inline-block;line-height: 1.2em;}#sk-container-id-11 div.sk-label-container {text-align: center;}#sk-container-id-11 div.sk-container {/* jupyter's `normalize.less` sets `[hidden] { display: none; }` but bootstrap.min.css set `[hidden] { display: none !important; }` so we also need the `!important` here to be able to override the default hidden behavior on the sphinx rendered scikit-learn.org. See: https://github.com/scikit-learn/scikit-learn/issues/21755 */display: inline-block !important;position: relative;}#sk-container-id-11 div.sk-text-repr-fallback {display: none;}</style><div id=\"sk-container-id-11\" class=\"sk-top-container\"><div class=\"sk-text-repr-fallback\"><pre>Pipeline(steps=[(&#x27;tr&#x27;,\n",
       "                 ColumnTransformer(transformers=[(&#x27;polynomialfeatures&#x27;,\n",
       "                                                  PolynomialFeatures(include_bias=False),\n",
       "                                                  [&#x27;Shell_weight&#x27;,\n",
       "                                                   &#x27;Height&#x27;])])),\n",
       "                (&#x27;stdrd&#x27;, StandardScaler()), (&#x27;lr&#x27;, Ridge(alpha=10))])</pre><b>In a Jupyter environment, please rerun this cell to show the HTML representation or trust the notebook. <br />On GitHub, the HTML representation is unable to render, please try loading this page with nbviewer.org.</b></div><div class=\"sk-container\" hidden><div class=\"sk-item sk-dashed-wrapped\"><div class=\"sk-label-container\"><div class=\"sk-label sk-toggleable\"><input class=\"sk-toggleable__control sk-hidden--visually\" id=\"sk-estimator-id-61\" type=\"checkbox\" ><label for=\"sk-estimator-id-61\" class=\"sk-toggleable__label sk-toggleable__label-arrow\">Pipeline</label><div class=\"sk-toggleable__content\"><pre>Pipeline(steps=[(&#x27;tr&#x27;,\n",
       "                 ColumnTransformer(transformers=[(&#x27;polynomialfeatures&#x27;,\n",
       "                                                  PolynomialFeatures(include_bias=False),\n",
       "                                                  [&#x27;Shell_weight&#x27;,\n",
       "                                                   &#x27;Height&#x27;])])),\n",
       "                (&#x27;stdrd&#x27;, StandardScaler()), (&#x27;lr&#x27;, Ridge(alpha=10))])</pre></div></div></div><div class=\"sk-serial\"><div class=\"sk-item sk-dashed-wrapped\"><div class=\"sk-label-container\"><div class=\"sk-label sk-toggleable\"><input class=\"sk-toggleable__control sk-hidden--visually\" id=\"sk-estimator-id-62\" type=\"checkbox\" ><label for=\"sk-estimator-id-62\" class=\"sk-toggleable__label sk-toggleable__label-arrow\">tr: ColumnTransformer</label><div class=\"sk-toggleable__content\"><pre>ColumnTransformer(transformers=[(&#x27;polynomialfeatures&#x27;,\n",
       "                                 PolynomialFeatures(include_bias=False),\n",
       "                                 [&#x27;Shell_weight&#x27;, &#x27;Height&#x27;])])</pre></div></div></div><div class=\"sk-parallel\"><div class=\"sk-parallel-item\"><div class=\"sk-item\"><div class=\"sk-label-container\"><div class=\"sk-label sk-toggleable\"><input class=\"sk-toggleable__control sk-hidden--visually\" id=\"sk-estimator-id-63\" type=\"checkbox\" ><label for=\"sk-estimator-id-63\" class=\"sk-toggleable__label sk-toggleable__label-arrow\">polynomialfeatures</label><div class=\"sk-toggleable__content\"><pre>[&#x27;Shell_weight&#x27;, &#x27;Height&#x27;]</pre></div></div></div><div class=\"sk-serial\"><div class=\"sk-item\"><div class=\"sk-estimator sk-toggleable\"><input class=\"sk-toggleable__control sk-hidden--visually\" id=\"sk-estimator-id-64\" type=\"checkbox\" ><label for=\"sk-estimator-id-64\" class=\"sk-toggleable__label sk-toggleable__label-arrow\">PolynomialFeatures</label><div class=\"sk-toggleable__content\"><pre>PolynomialFeatures(include_bias=False)</pre></div></div></div></div></div></div></div></div><div class=\"sk-item\"><div class=\"sk-estimator sk-toggleable\"><input class=\"sk-toggleable__control sk-hidden--visually\" id=\"sk-estimator-id-65\" type=\"checkbox\" ><label for=\"sk-estimator-id-65\" class=\"sk-toggleable__label sk-toggleable__label-arrow\">StandardScaler</label><div class=\"sk-toggleable__content\"><pre>StandardScaler()</pre></div></div></div><div class=\"sk-item\"><div class=\"sk-estimator sk-toggleable\"><input class=\"sk-toggleable__control sk-hidden--visually\" id=\"sk-estimator-id-66\" type=\"checkbox\" ><label for=\"sk-estimator-id-66\" class=\"sk-toggleable__label sk-toggleable__label-arrow\">Ridge</label><div class=\"sk-toggleable__content\"><pre>Ridge(alpha=10)</pre></div></div></div></div></div></div></div>"
      ]
     },
     "metadata": {},
     "output_type": "display_data"
    }
   ],
   "metadata": {
    "datalore": {
     "node_id": "4jY8KjX55gOLsYK8QouO7Z",
     "type": "CODE",
     "hide_input_from_viewers": true,
     "hide_output_from_viewers": true
    }
   }
  },
  {
   "metadata": {},
   "cell_type": "markdown",
   "source": "Here we extract the mean test score for the best model found using 10-fold cross-validation:"
  },
  {
   "cell_type": "code",
   "source": [
    "mean_test_score10k = pd.DataFrame(modelfinder_kfold10cv.cv_results_).query('rank_test_score == 1')['mean_test_score']\n",
    "\n",
    "np.round(-mean_test_score10k,  3)"
   ],
   "execution_count": 82,
   "outputs": [
    {
     "data": {
      "text/html": [
       "<pre>12    6.482\n",
       "Name: mean_test_score, dtype: float64</pre>"
      ]
     },
     "metadata": {},
     "output_type": "display_data"
    }
   ],
   "metadata": {
    "datalore": {
     "node_id": "W2ePejQfIIZAkhVjrH71If",
     "type": "CODE",
     "hide_input_from_viewers": true,
     "hide_output_from_viewers": true
    }
   }
  },
  {
   "metadata": {},
   "cell_type": "markdown",
   "source": [
    "## Final Model Comparison\n",
    "\n",
    "Now that we've found the best models using different cross-validation techniques, we'll compare their performance on the same test and training sets. This allows us to:\n",
    "\n",
    "1. Evaluate how well each model generalizes to unseen data\n",
    "2. Check for potential overfitting by comparing training and test errors\n",
    "3. Determine which cross-validation technique led to the most robust model\n",
    "\n",
    "For each model, we calculate:\n",
    "- Test MSE: Mean Squared Error on the test set\n",
    "- Train MSE: Mean Squared Error on the training set\n",
    "\n",
    "A good model should have low error on both sets, with the test error not being significantly higher than the training error.\n",
    "\n",
    "### Simple Cross-Validation Model Performance\n"
   ]
  },
  {
   "cell_type": "code",
   "source": [
    "print(\"Simple CV TEST MSE: \" + str( mean_squared_error(modelfinder_simplecv.best_estimator_.predict(X_test), y_test) ) )\n",
    "\n",
    "print(\"Simple CV TRAIN MSE: \" + str( mean_squared_error(modelfinder_simplecv.best_estimator_.predict(X_train), y_train) ) )"
   ],
   "execution_count": 78,
   "outputs": [
    {
     "name": "stdout",
     "text": [
      "Simple CV TEST MSE: 5.775918063162077\n",
      "Simple CV TRAIN MSE: 6.047344214180365\n"
     ],
     "output_type": "stream"
    }
   ],
   "metadata": {
    "datalore": {
     "node_id": "GrvXx04vYSPBm2JOy58326",
     "type": "CODE",
     "hide_input_from_viewers": true,
     "hide_output_from_viewers": true
    }
   }
  },
  {
   "metadata": {},
   "cell_type": "markdown",
   "source": "### 5-Fold Cross-Validation Model Performance"
  },
  {
   "cell_type": "code",
   "source": [
    "print(\"5 KFOLD CV TEST MSE: \" + str( mean_squared_error(modelfinder_kfold5cv.best_estimator_.predict(X_test), y_test) ) )\n",
    "\n",
    "print(\"5 KFOLD CV TRAIN MSE: \" + str( mean_squared_error(modelfinder_kfold5cv.best_estimator_.predict(X_train), y_train) ) )"
   ],
   "execution_count": 79,
   "outputs": [
    {
     "name": "stdout",
     "text": [
      "5 KFOLD CV TEST MSE: 5.803236666159533\n",
      "5 KFOLD CV TRAIN MSE: 6.072705776691962\n"
     ],
     "output_type": "stream"
    }
   ],
   "metadata": {
    "datalore": {
     "node_id": "FpxvDk7Dov7oEghqiu0yNa",
     "type": "CODE",
     "hide_input_from_viewers": true,
     "hide_output_from_viewers": true
    }
   }
  },
  {
   "metadata": {},
   "cell_type": "markdown",
   "source": "### 10-Fold Cross-Validation Model Performance"
  },
  {
   "cell_type": "code",
   "source": [
    "print(\"10 KFOLD CV TEST MSE: \" + str( mean_squared_error(modelfinder_kfold10cv.best_estimator_.predict(X_test), y_test) ) )\n",
    "\n",
    "print(\"10 KFOLD CV TRAIN MSE: \" + str( mean_squared_error(modelfinder_kfold10cv.best_estimator_.predict(X_train), y_train) ) )"
   ],
   "execution_count": 80,
   "outputs": [
    {
     "name": "stdout",
     "text": [
      "10 KFOLD CV TEST MSE: 5.803236666159533\n",
      "10 KFOLD CV TRAIN MSE: 6.072705776691962\n"
     ],
     "output_type": "stream"
    }
   ],
   "metadata": {
    "datalore": {
     "node_id": "o39BqcMepPpTT8JNK7EQK4",
     "type": "CODE",
     "hide_input_from_viewers": true,
     "hide_output_from_viewers": true
    }
   }
  },
  {
   "metadata": {},
   "cell_type": "markdown",
   "source": [
    "## Conclusion\n",
    "\n",
    "In this notebook, we explored different cross-validation techniques for predicting the age of abalone from physical measurements. We compared three approaches:\n",
    "\n",
    "1. **Simple Cross-Validation**: A basic train-test split\n",
    "2. **5-Fold Cross-Validation**: Dividing the data into 5 folds\n",
    "3. **10-Fold Cross-Validation**: Dividing the data into 10 folds"
   ]
  },
  {
   "cell_type": "code",
   "source": [],
   "execution_count": 0,
   "outputs": [],
   "metadata": {
    "datalore": {
     "node_id": "jIXA0WejuwjVyyBDVJqJyO",
     "type": "CODE",
     "hide_input_from_viewers": true,
     "hide_output_from_viewers": true
    }
   }
  }
 ],
 "metadata": {
  "kernelspec": {
   "display_name": "Python",
   "language": "python",
   "name": "python"
  },
  "datalore": {
   "computation_mode": "JUPYTER",
   "package_manager": "pip",
   "base_environment": "default",
   "packages": [
    {
     "name": "ucimlrepo",
     "version": "0.0.3",
     "source": "PIP"
    }
   ],
   "report_row_ids": [],
   "version": 3
  }
 },
 "nbformat": 4,
 "nbformat_minor": 4
}
