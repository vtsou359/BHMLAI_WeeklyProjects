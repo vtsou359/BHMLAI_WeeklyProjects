{
 "cells": [
  {
   "cell_type": "markdown",
   "metadata": {},
   "source": [
    "### Exploring Credit Risks\n",
    "\n",
    "This activity is another open exploration of a dataset using both cleaning methods and visualizations.  The data describes customers as good or bad credit risks based on a small set of features specified below.  Your task is to create a Jupyter notebook with an exploration of the data using both your `pandas` cleaning and analysis skills and your visualization skills using `matplotlib`, `seaborn`, and `plotly`.  Your final notebook should be formatted with appropriate headers and markdown cells with written explanations for the code that follows. \n",
    "\n",
    "Post your notebook file in Canvas, as well as a brief (3-4 sentence) description of what you found through your analysis. Respond to your peers with reflections on thier analysis. \n",
    "\n",
    "-----\n"
   ]
  },
  {
   "cell_type": "markdown",
   "metadata": {},
   "source": [
    "##### Data Description\n",
    "\n",
    "```\n",
    "1. Status of existing checking account, in Deutsche Mark.\n",
    "2. Duration in months\n",
    "3. Credit history (credits taken, paid back duly, delays, critical accounts)\n",
    "4. Purpose of the credit (car, television,...)\n",
    "5. Credit amount\n",
    "6. Status of savings account/bonds, in Deutsche Mark.\n",
    "7. Present employment, in number of years.\n",
    "8. Installment rate in percentage of disposable income\n",
    "9. Personal status (married, single,...) and sex\n",
    "10. Other debtors / guarantors\n",
    "11. Present residence since X years\n",
    "12. Property (e.g. real estate)\n",
    "13. Age in years\n",
    "14. Other installment plans (banks, stores)\n",
    "15. Housing (rent, own,...)\n",
    "16. Number of existing credits at this bank\n",
    "17. Job\n",
    "18. Number of people being liable to provide maintenance for\n",
    "19. Telephone (yes,no)\n",
    "20. Foreign worker (yes,no)\n",
    "```"
   ]
  },
  {
   "metadata": {},
   "cell_type": "markdown",
   "source": [
    "## Step 1: Import Required Libraries\n",
    "\n",
    "In this first step, we import the necessary Python libraries for data analysis and visualization:\n",
    "- `pandas` (pd): For data manipulation and analysis\n",
    "- `matplotlib.pyplot` (plt): For creating plots and charts\n",
    "- `plotly.express` (px): For interactive visualizations\n",
    "- `seaborn` (sns): For statistical visualizations\n",
    "- `scipy.stats` (stats): For statistical tests and calculations\n",
    "- `numpy` (np): For numerical operations\n"
   ]
  },
  {
   "metadata": {
    "ExecuteTime": {
     "end_time": "2025-05-24T13:51:17.679864Z",
     "start_time": "2025-05-24T13:51:17.520374Z"
    }
   },
   "cell_type": "code",
   "source": [
    "import pandas as pd\n",
    "import matplotlib.pyplot as plt\n",
    "import plotly.express as px\n",
    "import seaborn as sns\n",
    "import scipy.stats as stats\n",
    "import numpy as np"
   ],
   "outputs": [],
   "execution_count": 1
  },
  {
   "metadata": {},
   "cell_type": "markdown",
   "source": [
    "## Step 2: Data Loading\n",
    "\n",
    "Here we load the credit risk dataset from a CSV file. This dataset contains information about customers and their credit risk classification.\n"
   ]
  },
  {
   "metadata": {
    "ExecuteTime": {
     "end_time": "2025-05-24T13:51:18.121646Z",
     "start_time": "2025-05-24T13:51:18.092118Z"
    }
   },
   "cell_type": "code",
   "source": "df = pd.read_csv('data/dataset_31_credit-g.csv')",
   "outputs": [],
   "execution_count": 2
  },
  {
   "metadata": {},
   "cell_type": "markdown",
   "source": [
    "### Initial Data Exploration\n",
    "\n",
    "Let's examine the first few rows of the dataset to understand its structure and the type of information it contains.\n"
   ]
  },
  {
   "metadata": {
    "ExecuteTime": {
     "end_time": "2025-05-24T13:51:18.208452Z",
     "start_time": "2025-05-24T13:51:18.181964Z"
    }
   },
   "cell_type": "code",
   "source": "df.head(3)",
   "outputs": [
    {
     "data": {
      "text/plain": [
       "  checking_status  duration                    credit_history    purpose  \\\n",
       "0            '<0'         6  'critical/other existing credit'   radio/tv   \n",
       "1      '0<=X<200'        48                   'existing paid'   radio/tv   \n",
       "2   'no checking'        12  'critical/other existing credit'  education   \n",
       "\n",
       "   credit_amount      savings_status employment  installment_commitment  \\\n",
       "0           1169  'no known savings'      '>=7'                       4   \n",
       "1           5951              '<100'   '1<=X<4'                       2   \n",
       "2           2096              '<100'   '4<=X<7'                       2   \n",
       "\n",
       "        personal_status other_parties  ...  property_magnitude age  \\\n",
       "0         'male single'          none  ...       'real estate'  67   \n",
       "1  'female div/dep/mar'          none  ...       'real estate'  22   \n",
       "2         'male single'          none  ...       'real estate'  49   \n",
       "\n",
       "   other_payment_plans housing existing_credits                   job  \\\n",
       "0                 none     own                2               skilled   \n",
       "1                 none     own                1               skilled   \n",
       "2                 none     own                1  'unskilled resident'   \n",
       "\n",
       "  num_dependents  own_telephone foreign_worker class  \n",
       "0              1            yes            yes  good  \n",
       "1              1           none            yes   bad  \n",
       "2              2           none            yes  good  \n",
       "\n",
       "[3 rows x 21 columns]"
      ],
      "text/html": [
       "<div>\n",
       "<style scoped>\n",
       "    .dataframe tbody tr th:only-of-type {\n",
       "        vertical-align: middle;\n",
       "    }\n",
       "\n",
       "    .dataframe tbody tr th {\n",
       "        vertical-align: top;\n",
       "    }\n",
       "\n",
       "    .dataframe thead th {\n",
       "        text-align: right;\n",
       "    }\n",
       "</style>\n",
       "<table border=\"1\" class=\"dataframe\">\n",
       "  <thead>\n",
       "    <tr style=\"text-align: right;\">\n",
       "      <th></th>\n",
       "      <th>checking_status</th>\n",
       "      <th>duration</th>\n",
       "      <th>credit_history</th>\n",
       "      <th>purpose</th>\n",
       "      <th>credit_amount</th>\n",
       "      <th>savings_status</th>\n",
       "      <th>employment</th>\n",
       "      <th>installment_commitment</th>\n",
       "      <th>personal_status</th>\n",
       "      <th>other_parties</th>\n",
       "      <th>...</th>\n",
       "      <th>property_magnitude</th>\n",
       "      <th>age</th>\n",
       "      <th>other_payment_plans</th>\n",
       "      <th>housing</th>\n",
       "      <th>existing_credits</th>\n",
       "      <th>job</th>\n",
       "      <th>num_dependents</th>\n",
       "      <th>own_telephone</th>\n",
       "      <th>foreign_worker</th>\n",
       "      <th>class</th>\n",
       "    </tr>\n",
       "  </thead>\n",
       "  <tbody>\n",
       "    <tr>\n",
       "      <th>0</th>\n",
       "      <td>'&lt;0'</td>\n",
       "      <td>6</td>\n",
       "      <td>'critical/other existing credit'</td>\n",
       "      <td>radio/tv</td>\n",
       "      <td>1169</td>\n",
       "      <td>'no known savings'</td>\n",
       "      <td>'&gt;=7'</td>\n",
       "      <td>4</td>\n",
       "      <td>'male single'</td>\n",
       "      <td>none</td>\n",
       "      <td>...</td>\n",
       "      <td>'real estate'</td>\n",
       "      <td>67</td>\n",
       "      <td>none</td>\n",
       "      <td>own</td>\n",
       "      <td>2</td>\n",
       "      <td>skilled</td>\n",
       "      <td>1</td>\n",
       "      <td>yes</td>\n",
       "      <td>yes</td>\n",
       "      <td>good</td>\n",
       "    </tr>\n",
       "    <tr>\n",
       "      <th>1</th>\n",
       "      <td>'0&lt;=X&lt;200'</td>\n",
       "      <td>48</td>\n",
       "      <td>'existing paid'</td>\n",
       "      <td>radio/tv</td>\n",
       "      <td>5951</td>\n",
       "      <td>'&lt;100'</td>\n",
       "      <td>'1&lt;=X&lt;4'</td>\n",
       "      <td>2</td>\n",
       "      <td>'female div/dep/mar'</td>\n",
       "      <td>none</td>\n",
       "      <td>...</td>\n",
       "      <td>'real estate'</td>\n",
       "      <td>22</td>\n",
       "      <td>none</td>\n",
       "      <td>own</td>\n",
       "      <td>1</td>\n",
       "      <td>skilled</td>\n",
       "      <td>1</td>\n",
       "      <td>none</td>\n",
       "      <td>yes</td>\n",
       "      <td>bad</td>\n",
       "    </tr>\n",
       "    <tr>\n",
       "      <th>2</th>\n",
       "      <td>'no checking'</td>\n",
       "      <td>12</td>\n",
       "      <td>'critical/other existing credit'</td>\n",
       "      <td>education</td>\n",
       "      <td>2096</td>\n",
       "      <td>'&lt;100'</td>\n",
       "      <td>'4&lt;=X&lt;7'</td>\n",
       "      <td>2</td>\n",
       "      <td>'male single'</td>\n",
       "      <td>none</td>\n",
       "      <td>...</td>\n",
       "      <td>'real estate'</td>\n",
       "      <td>49</td>\n",
       "      <td>none</td>\n",
       "      <td>own</td>\n",
       "      <td>1</td>\n",
       "      <td>'unskilled resident'</td>\n",
       "      <td>2</td>\n",
       "      <td>none</td>\n",
       "      <td>yes</td>\n",
       "      <td>good</td>\n",
       "    </tr>\n",
       "  </tbody>\n",
       "</table>\n",
       "<p>3 rows × 21 columns</p>\n",
       "</div>"
      ]
     },
     "execution_count": 3,
     "metadata": {},
     "output_type": "execute_result"
    }
   ],
   "execution_count": 3
  },
  {
   "metadata": {},
   "cell_type": "markdown",
   "source": [
    "### Dataset Information\n",
    "\n",
    "Now we'll check the detailed information about the dataset, including data types, non-null counts, and dataset dimensions. We'll also verify if there are any duplicate rows in the dataset.\n"
   ]
  },
  {
   "metadata": {
    "ExecuteTime": {
     "end_time": "2025-05-24T13:51:18.413163Z",
     "start_time": "2025-05-24T13:51:18.372796Z"
    }
   },
   "cell_type": "code",
   "source": [
    "print(df.info()) \n",
    "print('\\n\\n')\n",
    "print('There are ' + str(df.shape[0]) + ' rows in the dataset\\n'\n",
    "     +'There are ' + str(df.shape[1]) + ' features in the dataset\\n'\n",
    "     +'There are ' + str(df.duplicated().sum()) + ' duplicate rows in the dataset\\n' )"
   ],
   "outputs": [
    {
     "name": "stdout",
     "output_type": "stream",
     "text": [
      "<class 'pandas.core.frame.DataFrame'>\n",
      "RangeIndex: 1000 entries, 0 to 999\n",
      "Data columns (total 21 columns):\n",
      " #   Column                  Non-Null Count  Dtype \n",
      "---  ------                  --------------  ----- \n",
      " 0   checking_status         1000 non-null   object\n",
      " 1   duration                1000 non-null   int64 \n",
      " 2   credit_history          1000 non-null   object\n",
      " 3   purpose                 1000 non-null   object\n",
      " 4   credit_amount           1000 non-null   int64 \n",
      " 5   savings_status          1000 non-null   object\n",
      " 6   employment              1000 non-null   object\n",
      " 7   installment_commitment  1000 non-null   int64 \n",
      " 8   personal_status         1000 non-null   object\n",
      " 9   other_parties           1000 non-null   object\n",
      " 10  residence_since         1000 non-null   int64 \n",
      " 11  property_magnitude      1000 non-null   object\n",
      " 12  age                     1000 non-null   int64 \n",
      " 13  other_payment_plans     1000 non-null   object\n",
      " 14  housing                 1000 non-null   object\n",
      " 15  existing_credits        1000 non-null   int64 \n",
      " 16  job                     1000 non-null   object\n",
      " 17  num_dependents          1000 non-null   int64 \n",
      " 18  own_telephone           1000 non-null   object\n",
      " 19  foreign_worker          1000 non-null   object\n",
      " 20  class                   1000 non-null   object\n",
      "dtypes: int64(7), object(14)\n",
      "memory usage: 164.2+ KB\n",
      "None\n",
      "\n",
      "\n",
      "\n",
      "There are 1000 rows in the dataset\n",
      "There are 21 features in the dataset\n",
      "There are 0 duplicate rows in the dataset\n",
      "\n"
     ]
    }
   ],
   "execution_count": 4
  },
  {
   "metadata": {},
   "cell_type": "markdown",
   "source": [
    "There are no null values in the dataset.\n",
    "The dataset has 21 features with 1000 rows each.\n",
    "There are no duplicate rows in the dataset."
   ]
  },
  {
   "metadata": {},
   "cell_type": "markdown",
   "source": [
    "### Exploring Categorical Features\n",
    "\n",
    "Let's examine the unique values of each categorical feature in the dataset. This will help us understand the possible categories and values that each feature can take.\n"
   ]
  },
  {
   "metadata": {
    "ExecuteTime": {
     "end_time": "2025-05-24T13:51:18.503769Z",
     "start_time": "2025-05-24T13:51:18.490337Z"
    }
   },
   "cell_type": "code",
   "source": [
    "print('checking_status:' + str(df['checking_status'].unique()) + '\\n\\n')\n",
    "print('purpose:' + str(df['purpose'].unique()) + '\\n\\n')\n",
    "\n",
    "print('credit_history:' + str(df['credit_history'].unique()) + '\\n\\n')\n",
    "print('savings_status:' + str(df['savings_status'].unique()) + '\\n\\n')\n",
    "print('employment:' + str(df['employment'].unique()) + '\\n\\n')\n",
    "print('personal_status:' + str(df['personal_status'].unique()) + '\\n\\n')\n",
    "print('other_parties:' + str(df['other_parties'].unique()) + '\\n\\n')\n",
    "print('property_magnitude:' + str(df['property_magnitude'].unique()) + '\\n\\n')\n",
    "\n",
    "print('other_payment_plans:' + str(df['other_payment_plans'].unique()) + '\\n\\n')\n",
    "print('housing:' + str(df['housing'].unique()) + '\\n\\n')\n",
    "print('job:' + str(df['job'].unique()) + '\\n\\n')\n",
    "\n",
    "print('own_telephone:' + str(df['own_telephone'].unique()) + '\\n\\n')\n",
    "print('foreign_worker:' + str(df['foreign_worker'].unique()) + '\\n\\n')\n",
    "print('class:' + str(df['class'].unique()) + '\\n\\n')"
   ],
   "outputs": [
    {
     "name": "stdout",
     "output_type": "stream",
     "text": [
      "checking_status:[\"'<0'\" \"'0<=X<200'\" \"'no checking'\" \"'>=200'\"]\n",
      "\n",
      "\n",
      "purpose:['radio/tv' 'education' 'furniture/equipment' \"'new car'\" \"'used car'\"\n",
      " 'business' \"'domestic appliance'\" 'repairs' 'other' 'retraining']\n",
      "\n",
      "\n",
      "credit_history:[\"'critical/other existing credit'\" \"'existing paid'\"\n",
      " \"'delayed previously'\" \"'no credits/all paid'\" \"'all paid'\"]\n",
      "\n",
      "\n",
      "savings_status:[\"'no known savings'\" \"'<100'\" \"'500<=X<1000'\" \"'>=1000'\" \"'100<=X<500'\"]\n",
      "\n",
      "\n",
      "employment:[\"'>=7'\" \"'1<=X<4'\" \"'4<=X<7'\" 'unemployed' \"'<1'\"]\n",
      "\n",
      "\n",
      "personal_status:[\"'male single'\" \"'female div/dep/mar'\" \"'male div/sep'\" \"'male mar/wid'\"]\n",
      "\n",
      "\n",
      "other_parties:['none' 'guarantor' \"'co applicant'\"]\n",
      "\n",
      "\n",
      "property_magnitude:[\"'real estate'\" \"'life insurance'\" \"'no known property'\" 'car']\n",
      "\n",
      "\n",
      "other_payment_plans:['none' 'bank' 'stores']\n",
      "\n",
      "\n",
      "housing:['own' \"'for free'\" 'rent']\n",
      "\n",
      "\n",
      "job:['skilled' \"'unskilled resident'\" \"'high qualif/self emp/mgmt'\"\n",
      " \"'unemp/unskilled non res'\"]\n",
      "\n",
      "\n",
      "own_telephone:['yes' 'none']\n",
      "\n",
      "\n",
      "foreign_worker:['yes' 'no']\n",
      "\n",
      "\n",
      "class:['good' 'bad']\n",
      "\n",
      "\n"
     ]
    }
   ],
   "execution_count": 5
  },
  {
   "cell_type": "markdown",
   "metadata": {},
   "source": [
    "Seems to be an inconcistency in the logic of personal_status feature. We could summarise all the male subcategories or create a new only-gender column in order not to 'erase' the logic of column personal_status."
   ]
  },
  {
   "metadata": {},
   "cell_type": "markdown",
   "source": [
    "### Creating a Gender Feature\n",
    "\n",
    "Based on the observation of inconsistency in the personal_status feature, we'll create a new gender feature. This will allow us to analyze gender-based patterns while preserving the original personal_status information.\n"
   ]
  },
  {
   "metadata": {
    "ExecuteTime": {
     "end_time": "2025-05-24T13:51:18.581017Z",
     "start_time": "2025-05-24T13:51:18.564500Z"
    }
   },
   "cell_type": "code",
   "source": [
    "#creation of gender feature:\n",
    "df['gender'] = df['personal_status']\n",
    "df['gender'] = df['gender'].replace(to_replace = [\"'male single'\", \"'male div/sep'\",\"'male mar/wid'\"], value = 'male')\n",
    "df['gender'] = df['gender'].replace(\"'female div/dep/mar'\",'female')\n",
    "df[['gender']]"
   ],
   "outputs": [
    {
     "data": {
      "text/plain": [
       "     gender\n",
       "0      male\n",
       "1    female\n",
       "2      male\n",
       "3      male\n",
       "4      male\n",
       "..      ...\n",
       "995  female\n",
       "996    male\n",
       "997    male\n",
       "998    male\n",
       "999    male\n",
       "\n",
       "[1000 rows x 1 columns]"
      ],
      "text/html": [
       "<div>\n",
       "<style scoped>\n",
       "    .dataframe tbody tr th:only-of-type {\n",
       "        vertical-align: middle;\n",
       "    }\n",
       "\n",
       "    .dataframe tbody tr th {\n",
       "        vertical-align: top;\n",
       "    }\n",
       "\n",
       "    .dataframe thead th {\n",
       "        text-align: right;\n",
       "    }\n",
       "</style>\n",
       "<table border=\"1\" class=\"dataframe\">\n",
       "  <thead>\n",
       "    <tr style=\"text-align: right;\">\n",
       "      <th></th>\n",
       "      <th>gender</th>\n",
       "    </tr>\n",
       "  </thead>\n",
       "  <tbody>\n",
       "    <tr>\n",
       "      <th>0</th>\n",
       "      <td>male</td>\n",
       "    </tr>\n",
       "    <tr>\n",
       "      <th>1</th>\n",
       "      <td>female</td>\n",
       "    </tr>\n",
       "    <tr>\n",
       "      <th>2</th>\n",
       "      <td>male</td>\n",
       "    </tr>\n",
       "    <tr>\n",
       "      <th>3</th>\n",
       "      <td>male</td>\n",
       "    </tr>\n",
       "    <tr>\n",
       "      <th>4</th>\n",
       "      <td>male</td>\n",
       "    </tr>\n",
       "    <tr>\n",
       "      <th>...</th>\n",
       "      <td>...</td>\n",
       "    </tr>\n",
       "    <tr>\n",
       "      <th>995</th>\n",
       "      <td>female</td>\n",
       "    </tr>\n",
       "    <tr>\n",
       "      <th>996</th>\n",
       "      <td>male</td>\n",
       "    </tr>\n",
       "    <tr>\n",
       "      <th>997</th>\n",
       "      <td>male</td>\n",
       "    </tr>\n",
       "    <tr>\n",
       "      <th>998</th>\n",
       "      <td>male</td>\n",
       "    </tr>\n",
       "    <tr>\n",
       "      <th>999</th>\n",
       "      <td>male</td>\n",
       "    </tr>\n",
       "  </tbody>\n",
       "</table>\n",
       "<p>1000 rows × 1 columns</p>\n",
       "</div>"
      ]
     },
     "execution_count": 6,
     "metadata": {},
     "output_type": "execute_result"
    }
   ],
   "execution_count": 6
  },
  {
   "cell_type": "markdown",
   "metadata": {},
   "source": ""
  },
  {
   "metadata": {},
   "cell_type": "markdown",
   "source": [
    "### Correlation Analysis of Numerical Features\n",
    "\n",
    "Let's analyze the correlation between numerical features in the dataset. This will help us identify relationships between variables and potential multicollinearity issues.\n",
    "\n",
    "Seems that **credit_amount** is correlated with **duration**. There isn't other significant correlation between numerical features.\n"
   ]
  },
  {
   "metadata": {
    "ExecuteTime": {
     "end_time": "2025-05-24T13:51:19.088378Z",
     "start_time": "2025-05-24T13:51:18.652599Z"
    }
   },
   "cell_type": "code",
   "source": [
    "for_htmap = df[['duration' , \n",
    "             'credit_amount', \n",
    "             'installment_commitment', \n",
    "             'residence_since', \n",
    "             'age', \n",
    "             'existing_credits', \n",
    "             'num_dependents']].corr()\n",
    "\n",
    "plt.figure(figsize = (10,6))\n",
    "sns.heatmap(for_htmap, annot = True)"
   ],
   "outputs": [
    {
     "data": {
      "text/plain": [
       "<Axes: >"
      ]
     },
     "execution_count": 7,
     "metadata": {},
     "output_type": "execute_result"
    },
    {
     "data": {
      "text/plain": [
       "<Figure size 1000x600 with 2 Axes>"
      ],
      "image/png": "[encoded data removed]"
     },
     "metadata": {},
     "output_type": "display_data"
    }
   ],
   "execution_count": 7
  },
  {
   "metadata": {},
   "cell_type": "markdown",
   "source": [
    "### Class Distribution Visualization\n",
    "Let's visualize the distribution of the target variable 'class' to understand the balance between 'good' and 'bad' credit risks. This is important for understanding potential class imbalance issues if we were to develop a machine learning model.\n"
   ]
  },
  {
   "metadata": {
    "ExecuteTime": {
     "end_time": "2025-05-24T13:51:19.396512Z",
     "start_time": "2025-05-24T13:51:19.142175Z"
    }
   },
   "cell_type": "code",
   "source": "df[['class']].groupby('class').size().plot(kind = 'bar')",
   "outputs": [
    {
     "data": {
      "text/plain": [
       "<Axes: xlabel='class'>"
      ]
     },
     "execution_count": 8,
     "metadata": {},
     "output_type": "execute_result"
    },
    {
     "data": {
      "text/plain": [
       "<Figure size 640x480 with 1 Axes>"
      ],
      "image/png": "[encoded data removed]"
     },
     "metadata": {},
     "output_type": "display_data"
    }
   ],
   "execution_count": 8
  },
  {
   "metadata": {},
   "cell_type": "markdown",
   "source": [
    "**Question**: What is the count of 'bad' and 'good' in the field of 'Class' (which seems to be the target variable if an ML model is developed)?\n",
    "\n",
    "**Answer**: It seems that the count of 'bad' observations is less than the 'good observations. There should be a consideration on how the field 'Class' should be handled (undersampling, oversampling, etc.)"
   ]
  },
  {
   "metadata": {},
   "cell_type": "markdown",
   "source": [
    "### Age Distribution Analysis\n",
    "\n",
    "Let's analyze the distribution of customer ages in the dataset. We'll create a histogram and calculate summary statistics to understand the central tendency and spread of the age variable.\n"
   ]
  },
  {
   "metadata": {
    "ExecuteTime": {
     "end_time": "2025-05-24T13:51:19.656602Z",
     "start_time": "2025-05-24T13:51:19.427130Z"
    }
   },
   "cell_type": "code",
   "source": [
    "sns.histplot(df['age'])\n",
    "\n",
    "print('The median age is: ' + str(df['age'].median()) )\n",
    "print('The mean age is: ' + str(df['age'].mean()) )"
   ],
   "outputs": [
    {
     "name": "stdout",
     "output_type": "stream",
     "text": [
      "The median age is: 33.0\n",
      "The mean age is: 35.546\n"
     ]
    },
    {
     "data": {
      "text/plain": [
       "<Figure size 640x480 with 1 Axes>"
      ],
      "image/png": "[encoded data removed]"
     },
     "metadata": {},
     "output_type": "display_data"
    }
   ],
   "execution_count": 9
  },
  {
   "metadata": {},
   "cell_type": "markdown",
   "source": [
    "**Question**: What is the age range of customers? From the histplot above, the age feature is skewed.\n",
    "\n",
    "**Answer**: The median age is 33 years old."
   ]
  },
  {
   "metadata": {},
   "cell_type": "markdown",
   "source": [
    "### Age Distribution by Credit Risk Class\n",
    "\n",
    "Let's examine how age distribution varies between good and bad credit risk classes. This will help us understand if age is a factor that might influence credit risk.\n"
   ]
  },
  {
   "metadata": {
    "ExecuteTime": {
     "end_time": "2025-05-24T13:51:19.886818Z",
     "start_time": "2025-05-24T13:51:19.675942Z"
    }
   },
   "cell_type": "code",
   "source": "sns.histplot(df, x = 'age', hue = 'class')",
   "outputs": [
    {
     "data": {
      "text/plain": [
       "<Axes: xlabel='age', ylabel='Count'>"
      ]
     },
     "execution_count": 10,
     "metadata": {},
     "output_type": "execute_result"
    },
    {
     "data": {
      "text/plain": [
       "<Figure size 640x480 with 1 Axes>"
      ],
      "image/png": "[encoded data removed]"
     },
     "metadata": {},
     "output_type": "display_data"
    }
   ],
   "execution_count": 10
  },
  {
   "metadata": {},
   "cell_type": "markdown",
   "source": [
    "### Age Distribution by Gender\n",
    "\n",
    "Now let's examine how age distribution varies between genders. This will help us understand if there are any age-related patterns that differ between male and female customers.\n"
   ]
  },
  {
   "metadata": {
    "ExecuteTime": {
     "end_time": "2025-05-24T13:51:20.105964Z",
     "start_time": "2025-05-24T13:51:19.917834Z"
    }
   },
   "cell_type": "code",
   "source": "sns.histplot(df, x = 'age', hue = 'gender')",
   "outputs": [
    {
     "data": {
      "text/plain": [
       "<Axes: xlabel='age', ylabel='Count'>"
      ]
     },
     "execution_count": 11,
     "metadata": {},
     "output_type": "execute_result"
    },
    {
     "data": {
      "text/plain": [
       "<Figure size 640x480 with 1 Axes>"
      ],
      "image/png": "[encoded data removed]"
     },
     "metadata": {},
     "output_type": "display_data"
    }
   ],
   "execution_count": 11
  },
  {
   "metadata": {},
   "cell_type": "markdown",
   "source": [
    "### Gender Distribution Analysis\n",
    "\n",
    "Let's analyze the distribution of customers by gender. This will help us understand the gender composition of our dataset.\n"
   ]
  },
  {
   "metadata": {
    "ExecuteTime": {
     "end_time": "2025-05-24T13:51:20.129477Z",
     "start_time": "2025-05-24T13:51:20.123548Z"
    }
   },
   "cell_type": "code",
   "source": "df[['gender', 'class']].groupby('gender').size()",
   "outputs": [
    {
     "data": {
      "text/plain": [
       "gender\n",
       "female    310\n",
       "male      690\n",
       "dtype: int64"
      ]
     },
     "execution_count": 12,
     "metadata": {},
     "output_type": "execute_result"
    }
   ],
   "execution_count": 12
  },
  {
   "metadata": {},
   "cell_type": "markdown",
   "source": [
    "### Relationship Between Credit Amount and Duration\n",
    "\n",
    "Let's visualize the relationship between credit amount and duration, colored by credit risk class. This will help us understand if there's a pattern in how credit amount and duration relate to credit risk.\n"
   ]
  },
  {
   "metadata": {
    "ExecuteTime": {
     "end_time": "2025-05-24T13:51:20.621487Z",
     "start_time": "2025-05-24T13:51:20.167958Z"
    }
   },
   "cell_type": "code",
   "source": [
    "# Create an interactive scatter plot\n",
    "px.scatter(df, x = 'credit_amount', y = 'duration', color = 'class',\n",
    "          title =  'Scatterplot of Credit Amount - Duration')"
   ],
   "outputs": [
    {
     "data": {
      "application/vnd.plotly.v1+json": {
       "data": [
        {
         "hovertemplate": "class=good<br>credit_amount=%{x}<br>duration=%{y}<extra></extra>",
         "legendgroup": "good",
         "marker": {
          "color": "#636efa",
          "symbol": "circle"
         },
         "mode": "markers",
         "name": "good",
         "orientation": "v",
         "showlegend": true,
         "x": {
          "dtype": "i2",
          "bdata": "kQQwCMoeXyMTCyQb8wsfBnsFeAmIH2YNVghXCsEIDAcVCF4FqgGZAW8JeQe0D+oW8ATCBd4XyQTKAR0JhgQ8GCsYcQX7CEgFPBwZCB0JTRfuBDINDwNeJakHbwUBBm0MRhR7CO8DWgnFH9oCjARCF/YFoxLcJPgOvQQgBtsGCwmEBQ8FyQhqAoEFIQ4mBdwHPgohCZEbvQUTCaQDfweNCb4XKR6CBakFiAF0GJAG+g1UCD4JHA/oBg0DSQi9AkQHJyGUCsAHoCfYBKUhqApZB8UCuxJYDfAI7g1cA6oC+xQuBkIFhAfYFk4eNxsIBVMBuA1qBzgLHwTuBIwcjQOiCykGhA/7AoYFEQpSAasHOwLBDlAFlwSsDDwIZgXICqgDkAT9E9cFfymPB5AFqBmFBQIM+w4ODaQDIAxJD80LVAVxArAEwwKiCzESNQpNDMsJXQhiAwgGCwXaCTsGoQR3DeoEzQK0BIUHmgLLCDcQ7gf6HHwK5A6CBHkGQwa2FLwKzwSgGP0F5wNmCnoFiS+JCmQJ7gRtBygNJgalBfAFJg/iKbQSnh1EBDQEExm8Es0dQxIHBdMJuQqgAg4EBwbLEhQBBRWHFaUO1gXEAv8QvQI7Dl4LYwoEBEYNqRb1BXkRLATXGTUISRDxBW8WDw6NDFcRbQ+zBXIDrg7PBtQEnQzXAhsJCAPXBEcNxwjmBgYGCg9CDrkLBwy2F2IIvDUQCU4DagGkCAMFMgWwEL4IZgTOHBYJqQUcB9cDsQylB2YJ8C0SCiwJ7AXBBV8HIgNTC5UIHQSjDK8HVRw9BtIWFyHeCnIM7Ae+AzcG2wq3Cn0EIQV4DVAHCghYCJQCBwVCDVwHVAZFCtwEEAqQBS4rBgLHCm4KdwpBD1cB8hEkDrkGyQvyAp4HbAtGHMwKRxLWBAkKIBQNBMYF9Q2xBCYOwAOLBAUMrQ6KBb4NjgfVBHABSggxBhUFKwV1FWYEOAmFBYwhThJ/CkkCzwhhAlEFswS8AoMVoA1ZBB4f/AXfBZYC4QjfBR8FIQxeBRwO6QvwB+cE5gcQBpoi5APWBssHrwSUC6sCaBIRBhIKiw9CFzkVJgM6BOQKcguHB6kDNAxsBVUI7woJBYEBrQckBhcPGQn7BAwLrhEDCBQFHQ0wDqwvxSNcDoACRA5CB7sHRAjKD/gOTA6kBXEFYAUlPdUFHAU7B1gH5xE0HSoJhQ/uJ30Q2RgRBcEIGgQXBKoYqA0ZDskLKxBuFn4oIAiyER4UUAmtBQIG5wjGBe8TgSZ/GUMFLgvBCkMOzwNHClALbBLsCNQETwSeAwgHcQdhBccJ4AnMFLYERgh1AqwJcgSsHQUM4QVMDAQYFgP6ACQF+wQDGfgCKwo0DZYPHBFpGhUJGARYDLMJYzcFB88JgBTVC6wBSQOLFhMFcQW1E6YInwmDBFULIQ53BvwKywyvCMgFzw21DU8WIA+UB4IFRBmVB3MKvwqpGMUETAv2C/0I6gTNAg0GPQYDB7AQ0AMwHU4CogNDJIsD5AEIHToFEgbxPU0EyAvbAsQOQgYZGkcJ3BN2A1kCjQszCrELFwZeDYgP4QRUBcoPvwV7KsIFfgMPDfkNrBauEa0IVQkDDfEcjAL+HT8FZgVqAwYOKgWUBwsOVhqGHj0khQhKBAkL1hmQHooJJQd7CKgWkQTzIi4KOAaKCJ0N7ShqBf4EUwSzDn8OCg57DGYRrwteCCALGQfNMdIHGQRLB0AF0wbIBAoC2gUPCLoaxw0KBqEDrwU1B6YgKwsGDmUHzwRIDoIE/QvMBjEJ5A3GAbMG8A3+G2MP6gXhHA8L6gTxAnsJawvsB5kFkRiBBbMZzwbtDSEGkAd3D1YJyAYRDyQD4BE="
         },
         "xaxis": "x",
         "y": {
          "dtype": "i1",
          "bdata": "BgwqJBgkDAwPGB4YCQYKDAoGBgwHEhgSDAwwCgkeDBIeCyQGCwwYGwwSBiQSCQ8YGwwMJCQHCCoMCzYeDxIYCgwSEgwMGAwMEiQUGCQGCQwMGA4GDxIMMAoMGAwKDAwMMA8SPAwbDwwGJBsVMAYMJBIGCiQYGAkMGAYYEg8KJAYLGAwIDAYMFRgPEBIGBhgJDBsMHgwMGAwJJCQGEiQYCgwMDBgPJBgJDBIEDB4GDAwYDAYYBgwYCTwYDwsMGBIMCiQYGBIMMAkSDBgPDBIPGC8wMAwMGCowDAoSFQYKBh4JMBgYBAwYDA8YEhIIDBgkBhgNGAoYFRISCg8NGAYJEgoMDBIMDAYMEhISJBIKPBIHBhQWDB4SEhIPCRIMJAYJJwwkGBISDhIYDxgYIQokEhUPDAwVEhwSCQUGGAkGGCoMDBQJBwwkBgwYGAsGEiQPDAwSGDAhGAYnGAwPDBgeDwwMGAoGDAYGDBgSBiQJDxgnJA8MGAYGBgYYGBIaDwQGJAwYGAYSEhgMGBgwDAYMCRgGGBgYMB4YDwkPDBgYDAkMCQwMGBUYBwoYGBIPFRgwPAYMFQwPBioJGA8MGDwMDxgSHjAYDjAeEgwVBgYYHjAeGCQ8Bh4YGBIGDA8YJDwKJAkMDw8YBhgGDAwSDxgeGw8JCRIVCR4eEhgUCQYPGBgIGAQkEgYYChUYJw0PFQ8GDB4GGA8MGAwKDAwYFRgMJBIkEhgMFBIWMBgGGBgJDBgJGBIUDAwGDCoIBiQGBiQMDAgSFTAYGAwEGBgVGBIVGAkYDyQYCg8JGBsPEgwkDCQGGA8MCxIkHhgYHhIYJBwbDwwkEiQVDA8UJA8YDBUkDwkkHgsKEjAMEh4MGAkMDAYYDAoYBA8wDBIMGB4JGAYVDwYeDyoLDxgeGAYSFRgPKg0YGAwPEiQMDB4MLQ=="
         },
         "yaxis": "y",
         "type": "scatter"
        },
        {
         "hovertemplate": "class=bad<br>credit_amount=%{x}<br>duration=%{y}<extra></extra>",
         "legendgroup": "bad",
         "marker": {
          "color": "#EF553B",
          "symbol": "circle"
         },
         "mode": "markers",
         "name": "bad",
         "orientation": "v",
         "showlegend": true,
         "x": {
          "dtype": "i2",
          "bdata": "PxcGE3IUDwXUEK8EAgUjMbQaihI0CP8XsQhEGVUYoQdVOBsHuQd9DzcXRDFUBB0DST6iLjoZrx4GHLkQKweEB38Cqw3nGv4CngkCBWsEjwe2AxAIVg09HWQlZxFvBnQDCRSiAu8RBA9LD9cL3QW3A8kQhgOtFHQH0Sq5HsYFchAfB9s4zwqTA/0RsQFmCGUIIgMSI/QL3i4DEgAEtiToJtwOQAWPJ9cC1QStAroKmRCSB0gH8BxGLQ4QOA37BHAEvwM3GN4EbxFmCakJdg2+OQUe7jewMscEyCH3B6sD9AhlBRMKEgTKCqYEQCzMBWECzwLoEzIH6AXREjoNewYUDMABjgLdBCoMuQR+ILQLSiMzDMAEtwQdBcIa9wLXG3YMzxv+CEcKDwlTHv4FzhgwCzUFcgJXGzMF5giLE+ANiAcKBmUwXAVmGqIMBAsgBFAJ9wfBBMYIngpOBaMDogWRENcKlgMtBxUNbwrlAtgEEAdxDfoFSg8oCp0FEQa8B0sFEhHuAg8SLB9qBbMDrAKCB/8Ilh94A4QD6xIUCtsVYwS7GKAZmQuuBMs2OQWxAcwECgpaBxAZwwcoLbgQ+gTQAxMGBQX3BLMCTAiIMSQMgR9bBUUTRANQGG4XpARXHTck8gadJesLWw9BBZgKfg9FEI8gwAQoLhcJOgQ7FJcHaRrFArsIogV3D3kIhwmiCI4F2Q8bAzg9ORBBCoASWQz4RzA6NwkRDVYF2Bq5AjkohgZ/B+kCkBgVDf0FJQ5hCBEQ3iqmD10J2AmpBIEc6gnwBMIg7BIlIDUH"
         },
         "xaxis": "x",
         "y": {
          "dtype": "i1",
          "bdata": "MBgeDDAYGBg8LRIwJAwkJDAkJCoYJAwMNhgSJCohFRIMDCQMEgwSGA8YFR4kJBUSCQwYMBstCQwSDBseMAwJJBgGFRgwEh4MDw4wHgYYJDAkGDAMCAwkHhgSPDAYBg8JCQwYJB4SJDwwJBIMGBgMDBgMEgwSGAwMDDAkDxgMGBgGCRISBhsYJBgYGAoPDCQSMCQPFTAMHhIYDDAMEhUYEhgkDDAYJBIkEhIMGBgGGBgSCRgkJAwKEh4SMBIJEgkYKhIPJAwYDAwYJAwMDBVIDDAwDAY8CQYMGxIwGBgeDBIMGA8MEhUeJBgnDDAoFRIkDyQwMBIkEhIkEi0PDCQSEgwUEg8SGAoJGAwwEhAYGDAGGBgJGAwwCR4JPBgSGCQYJBwYGxg8GA8eMCQt"
         },
         "yaxis": "y",
         "type": "scatter"
        }
       ],
       "layout": {
        "template": {
         "data": {
          "histogram2dcontour": [
           {
            "type": "histogram2dcontour",
            "colorbar": {
             "outlinewidth": 0,
             "ticks": ""
            },
            "colorscale": [
             [
              0.0,
              "#0d0887"
             ],
             [
              0.1111111111111111,
              "#46039f"
             ],
             [
              0.2222222222222222,
              "#7201a8"
             ],
             [
              0.3333333333333333,
              "#9c179e"
             ],
             [
              0.4444444444444444,
              "#bd3786"
             ],
             [
              0.5555555555555556,
              "#d8576b"
             ],
             [
              0.6666666666666666,
              "#ed7953"
             ],
             [
              0.7777777777777778,
              "#fb9f3a"
             ],
             [
              0.8888888888888888,
              "#fdca26"
             ],
             [
              1.0,
              "#f0f921"
             ]
            ]
           }
          ],
          "choropleth": [
           {
            "type": "choropleth",
            "colorbar": {
             "outlinewidth": 0,
             "ticks": ""
            }
           }
          ],
          "histogram2d": [
           {
            "type": "histogram2d",
            "colorbar": {
             "outlinewidth": 0,
             "ticks": ""
            },
            "colorscale": [
             [
              0.0,
              "#0d0887"
             ],
             [
              0.1111111111111111,
              "#46039f"
             ],
             [
              0.2222222222222222,
              "#7201a8"
             ],
             [
              0.3333333333333333,
              "#9c179e"
             ],
             [
              0.4444444444444444,
              "#bd3786"
             ],
             [
              0.5555555555555556,
              "#d8576b"
             ],
             [
              0.6666666666666666,
              "#ed7953"
             ],
             [
              0.7777777777777778,
              "#fb9f3a"
             ],
             [
              0.8888888888888888,
              "#fdca26"
             ],
             [
              1.0,
              "#f0f921"
             ]
            ]
           }
          ],
          "heatmap": [
           {
            "type": "heatmap",
            "colorbar": {
             "outlinewidth": 0,
             "ticks": ""
            },
            "colorscale": [
             [
              0.0,
              "#0d0887"
             ],
             [
              0.1111111111111111,
              "#46039f"
             ],
             [
              0.2222222222222222,
              "#7201a8"
             ],
             [
              0.3333333333333333,
              "#9c179e"
             ],
             [
              0.4444444444444444,
              "#bd3786"
             ],
             [
              0.5555555555555556,
              "#d8576b"
             ],
             [
              0.6666666666666666,
              "#ed7953"
             ],
             [
              0.7777777777777778,
              "#fb9f3a"
             ],
             [
              0.8888888888888888,
              "#fdca26"
             ],
             [
              1.0,
              "#f0f921"
             ]
            ]
           }
          ],
          "contourcarpet": [
           {
            "type": "contourcarpet",
            "colorbar": {
             "outlinewidth": 0,
             "ticks": ""
            }
           }
          ],
          "contour": [
           {
            "type": "contour",
            "colorbar": {
             "outlinewidth": 0,
             "ticks": ""
            },
            "colorscale": [
             [
              0.0,
              "#0d0887"
             ],
             [
              0.1111111111111111,
              "#46039f"
             ],
             [
              0.2222222222222222,
              "#7201a8"
             ],
             [
              0.3333333333333333,
              "#9c179e"
             ],
             [
              0.4444444444444444,
              "#bd3786"
             ],
             [
              0.5555555555555556,
              "#d8576b"
             ],
             [
              0.6666666666666666,
              "#ed7953"
             ],
             [
              0.7777777777777778,
              "#fb9f3a"
             ],
             [
              0.8888888888888888,
              "#fdca26"
             ],
             [
              1.0,
              "#f0f921"
             ]
            ]
           }
          ],
          "surface": [
           {
            "type": "surface",
            "colorbar": {
             "outlinewidth": 0,
             "ticks": ""
            },
            "colorscale": [
             [
              0.0,
              "#0d0887"
             ],
             [
              0.1111111111111111,
              "#46039f"
             ],
             [
              0.2222222222222222,
              "#7201a8"
             ],
             [
              0.3333333333333333,
              "#9c179e"
             ],
             [
              0.4444444444444444,
              "#bd3786"
             ],
             [
              0.5555555555555556,
              "#d8576b"
             ],
             [
              0.6666666666666666,
              "#ed7953"
             ],
             [
              0.7777777777777778,
              "#fb9f3a"
             ],
             [
              0.8888888888888888,
              "#fdca26"
             ],
             [
              1.0,
              "#f0f921"
             ]
            ]
           }
          ],
          "mesh3d": [
           {
            "type": "mesh3d",
            "colorbar": {
             "outlinewidth": 0,
             "ticks": ""
            }
           }
          ],
          "scatter": [
           {
            "marker": {
             "line": {
              "color": "#283442"
             }
            },
            "type": "scatter"
           }
          ],
          "parcoords": [
           {
            "type": "parcoords",
            "line": {
             "colorbar": {
              "outlinewidth": 0,
              "ticks": ""
             }
            }
           }
          ],
          "scatterpolargl": [
           {
            "type": "scatterpolargl",
            "marker": {
             "colorbar": {
              "outlinewidth": 0,
              "ticks": ""
             }
            }
           }
          ],
          "bar": [
           {
            "error_x": {
             "color": "#f2f5fa"
            },
            "error_y": {
             "color": "#f2f5fa"
            },
            "marker": {
             "line": {
              "color": "rgb(17,17,17)",
              "width": 0.5
             },
             "pattern": {
              "fillmode": "overlay",
              "size": 10,
              "solidity": 0.2
             }
            },
            "type": "bar"
           }
          ],
          "scattergeo": [
           {
            "type": "scattergeo",
            "marker": {
             "colorbar": {
              "outlinewidth": 0,
              "ticks": ""
             }
            }
           }
          ],
          "scatterpolar": [
           {
            "type": "scatterpolar",
            "marker": {
             "colorbar": {
              "outlinewidth": 0,
              "ticks": ""
             }
            }
           }
          ],
          "histogram": [
           {
            "marker": {
             "pattern": {
              "fillmode": "overlay",
              "size": 10,
              "solidity": 0.2
             }
            },
            "type": "histogram"
           }
          ],
          "scattergl": [
           {
            "marker": {
             "line": {
              "color": "#283442"
             }
            },
            "type": "scattergl"
           }
          ],
          "scatter3d": [
           {
            "type": "scatter3d",
            "line": {
             "colorbar": {
              "outlinewidth": 0,
              "ticks": ""
             }
            },
            "marker": {
             "colorbar": {
              "outlinewidth": 0,
              "ticks": ""
             }
            }
           }
          ],
          "scattermap": [
           {
            "type": "scattermap",
            "marker": {
             "colorbar": {
              "outlinewidth": 0,
              "ticks": ""
             }
            }
           }
          ],
          "scattermapbox": [
           {
            "type": "scattermapbox",
            "marker": {
             "colorbar": {
              "outlinewidth": 0,
              "ticks": ""
             }
            }
           }
          ],
          "scatterternary": [
           {
            "type": "scatterternary",
            "marker": {
             "colorbar": {
              "outlinewidth": 0,
              "ticks": ""
             }
            }
           }
          ],
          "scattercarpet": [
           {
            "type": "scattercarpet",
            "marker": {
             "colorbar": {
              "outlinewidth": 0,
              "ticks": ""
             }
            }
           }
          ],
          "carpet": [
           {
            "aaxis": {
             "endlinecolor": "#A2B1C6",
             "gridcolor": "#506784",
             "linecolor": "#506784",
             "minorgridcolor": "#506784",
             "startlinecolor": "#A2B1C6"
            },
            "baxis": {
             "endlinecolor": "#A2B1C6",
             "gridcolor": "#506784",
             "linecolor": "#506784",
             "minorgridcolor": "#506784",
             "startlinecolor": "#A2B1C6"
            },
            "type": "carpet"
           }
          ],
          "table": [
           {
            "cells": {
             "fill": {
              "color": "#506784"
             },
             "line": {
              "color": "rgb(17,17,17)"
             }
            },
            "header": {
             "fill": {
              "color": "#2a3f5f"
             },
             "line": {
              "color": "rgb(17,17,17)"
             }
            },
            "type": "table"
           }
          ],
          "barpolar": [
           {
            "marker": {
             "line": {
              "color": "rgb(17,17,17)",
              "width": 0.5
             },
             "pattern": {
              "fillmode": "overlay",
              "size": 10,
              "solidity": 0.2
             }
            },
            "type": "barpolar"
           }
          ],
          "pie": [
           {
            "automargin": true,
            "type": "pie"
           }
          ]
         },
         "layout": {
          "autotypenumbers": "strict",
          "colorway": [
           "#636efa",
           "#EF553B",
           "#00cc96",
           "#ab63fa",
           "#FFA15A",
           "#19d3f3",
           "#FF6692",
           "#B6E880",
           "#FF97FF",
           "#FECB52"
          ],
          "font": {
           "color": "#f2f5fa"
          },
          "hovermode": "closest",
          "hoverlabel": {
           "align": "left"
          },
          "paper_bgcolor": "rgb(17,17,17)",
          "plot_bgcolor": "rgb(17,17,17)",
          "polar": {
           "bgcolor": "rgb(17,17,17)",
           "angularaxis": {
            "gridcolor": "#506784",
            "linecolor": "#506784",
            "ticks": ""
           },
           "radialaxis": {
            "gridcolor": "#506784",
            "linecolor": "#506784",
            "ticks": ""
           }
          },
          "ternary": {
           "bgcolor": "rgb(17,17,17)",
           "aaxis": {
            "gridcolor": "#506784",
            "linecolor": "#506784",
            "ticks": ""
           },
           "baxis": {
            "gridcolor": "#506784",
            "linecolor": "#506784",
            "ticks": ""
           },
           "caxis": {
            "gridcolor": "#506784",
            "linecolor": "#506784",
            "ticks": ""
           }
          },
          "coloraxis": {
           "colorbar": {
            "outlinewidth": 0,
            "ticks": ""
           }
          },
          "colorscale": {
           "sequential": [
            [
             0.0,
             "#0d0887"
            ],
            [
             0.1111111111111111,
             "#46039f"
            ],
            [
             0.2222222222222222,
             "#7201a8"
            ],
            [
             0.3333333333333333,
             "#9c179e"
            ],
            [
             0.4444444444444444,
             "#bd3786"
            ],
            [
             0.5555555555555556,
             "#d8576b"
            ],
            [
             0.6666666666666666,
             "#ed7953"
            ],
            [
             0.7777777777777778,
             "#fb9f3a"
            ],
            [
             0.8888888888888888,
             "#fdca26"
            ],
            [
             1.0,
             "#f0f921"
            ]
           ],
           "sequentialminus": [
            [
             0.0,
             "#0d0887"
            ],
            [
             0.1111111111111111,
             "#46039f"
            ],
            [
             0.2222222222222222,
             "#7201a8"
            ],
            [
             0.3333333333333333,
             "#9c179e"
            ],
            [
             0.4444444444444444,
             "#bd3786"
            ],
            [
             0.5555555555555556,
             "#d8576b"
            ],
            [
             0.6666666666666666,
             "#ed7953"
            ],
            [
             0.7777777777777778,
             "#fb9f3a"
            ],
            [
             0.8888888888888888,
             "#fdca26"
            ],
            [
             1.0,
             "#f0f921"
            ]
           ],
           "diverging": [
            [
             0,
             "#8e0152"
            ],
            [
             0.1,
             "#c51b7d"
            ],
            [
             0.2,
             "#de77ae"
            ],
            [
             0.3,
             "#f1b6da"
            ],
            [
             0.4,
             "#fde0ef"
            ],
            [
             0.5,
             "#f7f7f7"
            ],
            [
             0.6,
             "#e6f5d0"
            ],
            [
             0.7,
             "#b8e186"
            ],
            [
             0.8,
             "#7fbc41"
            ],
            [
             0.9,
             "#4d9221"
            ],
            [
             1,
             "#276419"
            ]
           ]
          },
          "xaxis": {
           "gridcolor": "#283442",
           "linecolor": "#506784",
           "ticks": "",
           "title": {
            "standoff": 15
           },
           "zerolinecolor": "#283442",
           "automargin": true,
           "zerolinewidth": 2
          },
          "yaxis": {
           "gridcolor": "#283442",
           "linecolor": "#506784",
           "ticks": "",
           "title": {
            "standoff": 15
           },
           "zerolinecolor": "#283442",
           "automargin": true,
           "zerolinewidth": 2
          },
          "scene": {
           "xaxis": {
            "backgroundcolor": "rgb(17,17,17)",
            "gridcolor": "#506784",
            "linecolor": "#506784",
            "showbackground": true,
            "ticks": "",
            "zerolinecolor": "#C8D4E3",
            "gridwidth": 2
           },
           "yaxis": {
            "backgroundcolor": "rgb(17,17,17)",
            "gridcolor": "#506784",
            "linecolor": "#506784",
            "showbackground": true,
            "ticks": "",
            "zerolinecolor": "#C8D4E3",
            "gridwidth": 2
           },
           "zaxis": {
            "backgroundcolor": "rgb(17,17,17)",
            "gridcolor": "#506784",
            "linecolor": "#506784",
            "showbackground": true,
            "ticks": "",
            "zerolinecolor": "#C8D4E3",
            "gridwidth": 2
           }
          },
          "shapedefaults": {
           "line": {
            "color": "#f2f5fa"
           }
          },
          "annotationdefaults": {
           "arrowcolor": "#f2f5fa",
           "arrowhead": 0,
           "arrowwidth": 1
          },
          "geo": {
           "bgcolor": "rgb(17,17,17)",
           "landcolor": "rgb(17,17,17)",
           "subunitcolor": "#506784",
           "showland": true,
           "showlakes": true,
           "lakecolor": "rgb(17,17,17)"
          },
          "title": {
           "x": 0.05
          },
          "updatemenudefaults": {
           "bgcolor": "#506784",
           "borderwidth": 0
          },
          "sliderdefaults": {
           "bgcolor": "#C8D4E3",
           "borderwidth": 1,
           "bordercolor": "rgb(17,17,17)",
           "tickwidth": 0
          },
          "mapbox": {
           "style": "dark"
          }
         }
        },
        "xaxis": {
         "anchor": "y",
         "domain": [
          0.0,
          1.0
         ],
         "title": {
          "text": "credit_amount"
         }
        },
        "yaxis": {
         "anchor": "x",
         "domain": [
          0.0,
          1.0
         ],
         "title": {
          "text": "duration"
         }
        },
        "legend": {
         "title": {
          "text": "class"
         },
         "tracegroupgap": 0
        },
        "title": {
         "text": "Scatterplot of Credit Amount - Duration"
        }
       },
       "config": {
        "plotlyServerURL": "https://plot.ly"
       }
      }
     },
     "metadata": {},
     "output_type": "display_data"
    }
   ],
   "execution_count": 13
  },
  {
   "metadata": {},
   "cell_type": "markdown",
   "source": [
    "### Categorical Data Analysis\n",
    "\n",
    "Let's analyze the relationships between the target variable 'class' and various categorical features. We'll create contingency tables (crosstabs) to examine how different categories of features are distributed across good and bad credit risks.\n"
   ]
  },
  {
   "metadata": {
    "ExecuteTime": {
     "end_time": "2025-05-24T13:51:20.719546Z",
     "start_time": "2025-05-24T13:51:20.680625Z"
    }
   },
   "cell_type": "code",
   "source": [
    "# Create a subset of the dataframe with only categorical features of interest\n",
    "df_categorical = df[['class', 'credit_history', 'purpose', 'other_payment_plans', 'housing', 'job', 'foreign_worker']]\n",
    "\n",
    "# Create contingency tables for each categorical feature vs. class\n",
    "compare_credit_history = pd.crosstab(df_categorical['class'],\n",
    "                                     df_categorical['credit_history'])\n",
    "\n",
    "compare_purpose = pd.crosstab(df_categorical['class'],\n",
    "                                     df_categorical['purpose'])\n",
    "\n",
    "compare_other_payment_plans = pd.crosstab(df_categorical['class'],\n",
    "                                     df_categorical['other_payment_plans'])\n",
    "\n",
    "compare_housing = pd.crosstab(df_categorical['class'],\n",
    "                                     df_categorical['housing'])\n",
    "\n",
    "compare_job = pd.crosstab(df_categorical['class'],\n",
    "                                     df_categorical['job'])\n",
    "\n",
    "compare_foreign_worker = pd.crosstab(df_categorical['class'],\n",
    "                                     df_categorical['foreign_worker'])"
   ],
   "outputs": [],
   "execution_count": 14
  },
  {
   "metadata": {},
   "cell_type": "markdown",
   "source": [
    "### Chi-Square Test for Independence: Class vs. Credit History\n",
    "\n",
    "We'll perform a chi-square test to determine if there's a statistically significant relationship between credit risk class and credit history.\n",
    "\n",
    "- The null hypothesis is that these variables are independent.\n",
    "- If the p-value is less than 0.05, we reject the null hypothesis and conclude that there is a significant relationship (I should choose the variables with p-value < 0.05).\n"
   ]
  },
  {
   "metadata": {
    "ExecuteTime": {
     "end_time": "2025-05-24T13:51:20.793174Z",
     "start_time": "2025-05-24T13:51:20.786677Z"
    }
   },
   "cell_type": "code",
   "source": [
    "# are these variables independent?\n",
    "# Class - Credit History\n",
    "\n",
    "chi2, p, dof, ex = stats.chi2_contingency(compare_credit_history)\n",
    "\n",
    "print(f'Chi_square value = {chi2}\\n\\np value = {p}\\n\\ndegrees of freedom = {dof}\\n\\n Expected {ex}')\n",
    "\n",
    "\n",
    "# looks like our p value is very low\n",
    "# these categorical variables are not independent"
   ],
   "outputs": [
    {
     "name": "stdout",
     "output_type": "stream",
     "text": [
      "Chi_square value = 61.69139696459551\n",
      "\n",
      "p value = 1.2791872956750918e-12\n",
      "\n",
      "degrees of freedom = 4\n",
      "\n",
      " Expected [[ 14.7  87.9  26.4 159.   12. ]\n",
      " [ 34.3 205.1  61.6 371.   28. ]]\n"
     ]
    }
   ],
   "execution_count": 15
  },
  {
   "metadata": {},
   "cell_type": "markdown",
   "source": [
    "### Chi-Square Test for Independence: Class vs. Purpose\n",
    "\n",
    "Next, we'll perform a chi-square test to determine if there's a statistically significant relationship between credit risk class and the purpose of the credit. This will help us understand if certain credit purposes are associated with higher or lower credit risk.\n"
   ]
  },
  {
   "metadata": {
    "ExecuteTime": {
     "end_time": "2025-05-24T13:51:20.847991Z",
     "start_time": "2025-05-24T13:51:20.843719Z"
    }
   },
   "cell_type": "code",
   "source": [
    "# are these variables independent?\n",
    "# Class - Purpose\n",
    "\n",
    "chi2, p, dof, ex = stats.chi2_contingency(compare_purpose)\n",
    "\n",
    "print(f'Chi_square value = {chi2}\\n\\np value = {p}\\n\\ndegrees of freedom = {dof}\\n\\n Expected {ex}')\n",
    "\n",
    "\n",
    "# looks like our p value is very low\n",
    "# these categorical variables are not independent"
   ],
   "outputs": [
    {
     "name": "stdout",
     "output_type": "stream",
     "text": [
      "Chi_square value = 33.35644686141814\n",
      "\n",
      "p value = 0.00011574910079691635\n",
      "\n",
      "degrees of freedom = 9\n",
      "\n",
      " Expected [[  3.6  70.2  30.9  29.1  15.   54.3   3.6  84.    6.6   2.7]\n",
      " [  8.4 163.8  72.1  67.9  35.  126.7   8.4 196.   15.4   6.3]]\n"
     ]
    }
   ],
   "execution_count": 16
  },
  {
   "metadata": {},
   "cell_type": "markdown",
   "source": [
    "### Chi-Square Test for Independence: Class vs. Other Payment Plans\n",
    "\n",
    "Now we'll examine if there's a statistically significant relationship between credit risk class and other payment plans. This will help us understand if having other payment plans affects credit risk.\n"
   ]
  },
  {
   "metadata": {
    "ExecuteTime": {
     "end_time": "2025-05-24T13:51:20.896141Z",
     "start_time": "2025-05-24T13:51:20.891729Z"
    }
   },
   "cell_type": "code",
   "source": [
    "# are these variables independent?\n",
    "# Class - Other_payment_plans\n",
    "\n",
    "chi2, p, dof, ex = stats.chi2_contingency(compare_other_payment_plans)\n",
    "\n",
    "print(f'Chi_square value = {chi2}\\n\\np value = {p}\\n\\ndegrees of freedom = {dof}\\n\\n Expected {ex}')\n",
    "\n",
    "\n",
    "# looks like our p value is low\n",
    "# these categorical variables are not very independent"
   ],
   "outputs": [
    {
     "name": "stdout",
     "output_type": "stream",
     "text": [
      "Chi_square value = 12.839187735866137\n",
      "\n",
      "p value = 0.0016293178186473534\n",
      "\n",
      "degrees of freedom = 2\n",
      "\n",
      " Expected [[ 41.7 244.2  14.1]\n",
      " [ 97.3 569.8  32.9]]\n"
     ]
    }
   ],
   "execution_count": 17
  },
  {
   "metadata": {},
   "cell_type": "markdown",
   "source": [
    "### Chi-Square Test for Independence: Class vs. Housing\n",
    "\n",
    "Let's analyze if there's a statistically significant relationship between credit risk class and housing status. This will help us understand if housing status (rent, own, etc.) is associated with credit risk.\n"
   ]
  },
  {
   "metadata": {
    "ExecuteTime": {
     "end_time": "2025-05-24T13:51:20.976146Z",
     "start_time": "2025-05-24T13:51:20.971546Z"
    }
   },
   "cell_type": "code",
   "source": [
    "# are these variables independent?\n",
    "# Class - Housing\n",
    "\n",
    "chi2, p, dof, ex = stats.chi2_contingency(compare_housing)\n",
    "\n",
    "print(f'Chi_square value = {chi2}\\n\\np value = {p}\\n\\ndegrees of freedom = {dof}\\n\\n Expected {ex}')\n",
    "\n",
    "\n",
    "# looks like our p value is very low\n",
    "# these categorical variables are not independent"
   ],
   "outputs": [
    {
     "name": "stdout",
     "output_type": "stream",
     "text": [
      "Chi_square value = 18.19984158256362\n",
      "\n",
      "p value = 0.00011167465374597684\n",
      "\n",
      "degrees of freedom = 2\n",
      "\n",
      " Expected [[ 32.4 213.9  53.7]\n",
      " [ 75.6 499.1 125.3]]\n"
     ]
    }
   ],
   "execution_count": 18
  },
  {
   "metadata": {},
   "cell_type": "markdown",
   "source": [
    "### Chi-Square Test for Independence: Class vs. Job\n",
    "\n",
    "Now we'll examine if there's a statistically significant relationship between credit risk class and job type. This will help us understand if occupation is associated with credit risk.\n"
   ]
  },
  {
   "metadata": {
    "ExecuteTime": {
     "end_time": "2025-05-24T13:51:21.038624Z",
     "start_time": "2025-05-24T13:51:21.033410Z"
    }
   },
   "cell_type": "code",
   "source": [
    "# are these variables independent?\n",
    "# Class - Job\n",
    "\n",
    "chi2, p, dof, ex = stats.chi2_contingency(compare_job)\n",
    "\n",
    "print(f'Chi_square value = {chi2}\\n\\np value = {p}\\n\\ndegrees of freedom = {dof}\\n\\n Expected {ex}')\n",
    "\n",
    "\n",
    "# looks like our p value is NOT low\n",
    "# these categorical variables are independent"
   ],
   "outputs": [
    {
     "name": "stdout",
     "output_type": "stream",
     "text": [
      "Chi_square value = 1.8851560280131707\n",
      "\n",
      "p value = 0.5965815918843431\n",
      "\n",
      "degrees of freedom = 3\n",
      "\n",
      " Expected [[ 44.4   6.6  60.  189. ]\n",
      " [103.6  15.4 140.  441. ]]\n"
     ]
    }
   ],
   "execution_count": 19
  },
  {
   "metadata": {},
   "cell_type": "markdown",
   "source": [
    "### Chi-Square Test for Independence: Class vs. Foreign Worker Status\n",
    "\n",
    "Finally, we'll examine if there's a statistically significant relationship between credit risk class and foreign worker status.\n",
    "\n",
    "Additionally, we'll calculate **Cramer's V coefficient** to measure the strength of association between these variables.\n",
    "- Cramer's V ranges from 0 (no association/complete independence) to 1 (perfect association/complete dependence).\n"
   ]
  },
  {
   "metadata": {
    "ExecuteTime": {
     "end_time": "2025-05-24T13:51:21.100985Z",
     "start_time": "2025-05-24T13:51:21.092889Z"
    }
   },
   "cell_type": "code",
   "source": [
    "# are these variables independent?\n",
    "# Class - Foreign worker\n",
    "\n",
    "chi2, p, dof, ex = stats.chi2_contingency(compare_foreign_worker)\n",
    "\n",
    "print(f'Chi_square value = {chi2}\\n\\np value = {p}\\n\\ndegrees of freedom = {dof}\\n\\n Expected {ex}\\n\\n')\n",
    "\n",
    "\n",
    "# calculate the minimum of the number of categories in the two variables\n",
    "min_categories = min(compare_foreign_worker.shape[0], compare_foreign_worker.shape[1])\n",
    "\n",
    "# calculate Cramer's V coefficient\n",
    "n = compare_foreign_worker.sum().sum()\n",
    "V = np.sqrt(chi2 / (n * (min_categories - 1)))\n",
    "\n",
    "print(\"Cramer's V coefficient is: \" + str(V))"
   ],
   "outputs": [
    {
     "name": "stdout",
     "output_type": "stream",
     "text": [
      "Chi_square value = 5.821575915033861\n",
      "\n",
      "p value = 0.015830754902852885\n",
      "\n",
      "degrees of freedom = 1\n",
      "\n",
      " Expected [[ 11.1 288.9]\n",
      " [ 25.9 674.1]]\n",
      "\n",
      "\n",
      "Cramer's V coefficient is: 0.07629925238843341\n"
     ]
    }
   ],
   "execution_count": 20
  },
  {
   "metadata": {},
   "cell_type": "markdown",
   "source": [
    "## Conclusion\n",
    "\n",
    "In this exploratory data analysis of credit risk data, we've examined various aspects of the dataset to understand factors that might influence credit risk classification. Here's a summary of our key findings:\n",
    "\n",
    "1. **Data Quality**: The dataset contains 1000 observations with 21 features and no missing values or duplicates.\n",
    "\n",
    "2. **Gender Analysis**: We created a gender feature from the personal_status variable to better analyze gender-based patterns while preserving the original information.\n",
    "\n",
    "3. **Correlation Analysis**: We found that credit amount is correlated with duration, but there are no other significant correlations between numerical features.\n",
    "\n",
    "4. **Class Distribution**: There is an imbalance in the target variable, with fewer 'bad' credit risks than 'good' ones. This would need to be addressed if developing a machine learning model.\n",
    "\n",
    "5. **Age Distribution**: The age distribution is skewed, with a median age of 33 years. We also examined age distributions by credit risk class and gender.\n",
    "\n",
    "6. **Credit Amount and Duration**: We visualized the relationship between credit amount and duration, colored by credit risk class.\n",
    "\n",
    "7. **Statistical Tests**: We performed chi-square tests to identify categorical variables that have a significant relationship with credit risk:\n",
    "   - Credit history, purpose, other payment plans, and housing all showed significant relationships with credit risk (p < 0.05)\n",
    "   - Job type did not show a significant relationship with credit risk (p > 0.05)\n",
    "   - For foreign worker status, we calculated Cramer's V coefficient to measure the strength of association\n",
    "\n",
    "These insights provide a foundation for understanding the factors that may influence credit risk and could be used to develop more sophisticated predictive models.\n"
   ]
  },
  {
   "metadata": {
    "ExecuteTime": {
     "end_time": "2025-05-24T13:51:21.159192Z",
     "start_time": "2025-05-24T13:51:21.157067Z"
    }
   },
   "cell_type": "code",
   "source": "",
   "outputs": [],
   "execution_count": null
  }
 ],
 "metadata": {
  "kernelspec": {
   "display_name": "Python 3 (ipykernel)",
   "language": "python",
   "name": "python3"
  },
  "language_info": {
   "codemirror_mode": {
    "name": "ipython",
    "version": 3
   },
   "file_extension": ".py",
   "mimetype": "text/x-python",
   "name": "python",
   "nbconvert_exporter": "python",
   "pygments_lexer": "ipython3",
   "version": "3.9.7"
  }
 },
 "nbformat": 4,
 "nbformat_minor": 4
}
