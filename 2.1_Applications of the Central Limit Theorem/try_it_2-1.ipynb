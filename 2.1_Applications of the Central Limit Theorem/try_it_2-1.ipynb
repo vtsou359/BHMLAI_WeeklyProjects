{
 "cells": [
  {
   "cell_type": "markdown",
   "metadata": {},
   "source": [
    "# The Central Limit Theorem\n",
    "\n",
    "The *Central Limit Theorem* states that if we draw a simple random sample of size $n$ from any population with mean $\\mu$ and standard deviation $\\sigma$, if $n$ is large the distribuion of the sample means is approximately normal of the form\n",
    "\n",
    "$$N(\\mu, \\frac{\\sigma}{n})$$"
   ]
  },
  {
   "cell_type": "markdown",
   "metadata": {},
   "source": [
    "This activity is meant to offer an example of the central limit theorem in action, and the effect of using different sample sizes in forming the distribution of sample means. "
   ]
  },
  {
   "cell_type": "markdown",
   "metadata": {},
   "source": [
    "### Baseball Salaries\n",
    "\n",
    "![](images/baseballs.png)\n",
    "\n",
    "\n",
    "The dataset below represents Major League Baseball player salaries from the year 2020, and was gathered from USA Today's databases. Below, the dataset is loaded and we examine the features and datatypes. "
   ]
  },
  {
   "cell_type": "code",
   "execution_count": 1,
   "metadata": {},
   "outputs": [],
   "source": [
    "import matplotlib.pyplot as plt\n",
    "import seaborn as sns\n",
    "import numpy as np\n",
    "import pandas as pd"
   ]
  },
  {
   "cell_type": "code",
   "execution_count": 2,
   "metadata": {},
   "outputs": [],
   "source": [
    "#read in the data\n",
    "baseball_salaries = pd.read_csv('data/baseball.csv', index_col=0)"
   ]
  },
  {
   "cell_type": "code",
   "execution_count": 3,
   "metadata": {},
   "outputs": [
    {
     "name": "stdout",
     "output_type": "stream",
     "text": [
      "<class 'pandas.core.frame.DataFrame'>\n",
      "Int64Index: 797 entries, 1 to 797\n",
      "Data columns (total 6 columns):\n",
      " #   Column       Non-Null Count  Dtype \n",
      "---  ------       --------------  ----- \n",
      " 0   team         797 non-null    object\n",
      " 1   leagueID     797 non-null    object\n",
      " 2   player       797 non-null    object\n",
      " 3   salary       797 non-null    int64 \n",
      " 4   position     797 non-null    object\n",
      " 5   gamesplayed  797 non-null    int64 \n",
      "dtypes: int64(2), object(4)\n",
      "memory usage: 43.6+ KB\n"
     ]
    }
   ],
   "source": [
    "#Examine the .info()\n",
    "baseball_salaries.info()"
   ]
  },
  {
   "cell_type": "code",
   "execution_count": 4,
   "metadata": {},
   "outputs": [
    {
     "data": {
      "text/html": [
       "<div>\n",
       "<style scoped>\n",
       "    .dataframe tbody tr th:only-of-type {\n",
       "        vertical-align: middle;\n",
       "    }\n",
       "\n",
       "    .dataframe tbody tr th {\n",
       "        vertical-align: top;\n",
       "    }\n",
       "\n",
       "    .dataframe thead th {\n",
       "        text-align: right;\n",
       "    }\n",
       "</style>\n",
       "<table border=\"1\" class=\"dataframe\">\n",
       "  <thead>\n",
       "    <tr style=\"text-align: right;\">\n",
       "      <th></th>\n",
       "      <th>team</th>\n",
       "      <th>leagueID</th>\n",
       "      <th>player</th>\n",
       "      <th>salary</th>\n",
       "      <th>position</th>\n",
       "      <th>gamesplayed</th>\n",
       "    </tr>\n",
       "  </thead>\n",
       "  <tbody>\n",
       "    <tr>\n",
       "      <th>1</th>\n",
       "      <td>ANA</td>\n",
       "      <td>AL</td>\n",
       "      <td>anderga0</td>\n",
       "      <td>6200000</td>\n",
       "      <td>CF</td>\n",
       "      <td>112</td>\n",
       "    </tr>\n",
       "    <tr>\n",
       "      <th>2</th>\n",
       "      <td>ANA</td>\n",
       "      <td>AL</td>\n",
       "      <td>colonba0</td>\n",
       "      <td>11000000</td>\n",
       "      <td>P</td>\n",
       "      <td>3</td>\n",
       "    </tr>\n",
       "    <tr>\n",
       "      <th>3</th>\n",
       "      <td>ANA</td>\n",
       "      <td>AL</td>\n",
       "      <td>davanje0</td>\n",
       "      <td>375000</td>\n",
       "      <td>CF</td>\n",
       "      <td>108</td>\n",
       "    </tr>\n",
       "    <tr>\n",
       "      <th>4</th>\n",
       "      <td>ANA</td>\n",
       "      <td>AL</td>\n",
       "      <td>donnebr0</td>\n",
       "      <td>375000</td>\n",
       "      <td>P</td>\n",
       "      <td>5</td>\n",
       "    </tr>\n",
       "    <tr>\n",
       "      <th>5</th>\n",
       "      <td>ANA</td>\n",
       "      <td>AL</td>\n",
       "      <td>eckstda0</td>\n",
       "      <td>2150000</td>\n",
       "      <td>SS</td>\n",
       "      <td>142</td>\n",
       "    </tr>\n",
       "  </tbody>\n",
       "</table>\n",
       "</div>"
      ],
      "text/plain": [
       "  team leagueID    player    salary position  gamesplayed\n",
       "1  ANA       AL  anderga0   6200000       CF          112\n",
       "2  ANA       AL  colonba0  11000000        P            3\n",
       "3  ANA       AL  davanje0    375000       CF          108\n",
       "4  ANA       AL  donnebr0    375000        P            5\n",
       "5  ANA       AL  eckstda0   2150000       SS          142"
      ]
     },
     "execution_count": 4,
     "metadata": {},
     "output_type": "execute_result"
    }
   ],
   "source": [
    "#First few rows\n",
    "baseball_salaries.head()"
   ]
  },
  {
   "cell_type": "markdown",
   "metadata": {},
   "source": [
    "### Task\n",
    "\n",
    "Our goal is to take samples from the salary data and build a distribution of these sample means.  To begin, draw a histogram of the salaries.  Note the skew and lack of normality in this distribution.    "
   ]
  },
  {
   "cell_type": "code",
   "execution_count": 5,
   "metadata": {},
   "outputs": [
    {
     "data": {
      "image/png": "[encoded data removed]",
      "text/plain": [
       "<Figure size 432x288 with 1 Axes>"
      ]
     },
     "metadata": {
      "needs_background": "light"
     },
     "output_type": "display_data"
    }
   ],
   "source": [
    "#histogram of the salaries\n",
    "#fig, ax = plt.subplots(1, 3, sharex=True, figsize=(15,5))\n",
    "\n",
    "#sns.histplot(ax=ax[0], x=baseball_salaries.salary, bins = 30)\n",
    "#axes[0].set_title(bulbasaur.name)\n",
    "\n",
    "#sns.histplot(ax=ax[1], x=baseball_salaries.salary, hue = baseball_salaries.position, bins = 30)\n",
    "#axes[1].set_title(bulbasaur.name)\n",
    "\n",
    "#baseball_sal_noP = baseball_salaries[baseball_salaries[\"position\"] != 'P']\n",
    "\n",
    "#sns.histplot(ax=ax[2], x=baseball_sal_noP.salary, hue = baseball_salaries.position, bins = 30)\n",
    "#ax[2].set_title()\n",
    "\n",
    "\n",
    "####\n",
    "#sns.histplot(data = baseball_salaries, \n",
    "#             x=\"salary\",\n",
    "#            )\n",
    "#plt.title('Histogram of Salaries')\n",
    "\n",
    "plt.hist(baseball_salaries[\"salary\"], bins = 30)\n",
    "plt.xlabel(\"Salary\")\n",
    "plt.ylabel(\"Frequency\")\n",
    "plt.title(\"Histogram of Salaries\")\n",
    "\n",
    "plt.savefig('images/Hist_Salaries')"
   ]
  },
  {
   "cell_type": "markdown",
   "metadata": {},
   "source": [
    "### Taking Samples\n",
    "\n",
    "Pandas DataFrame's have built in methods for taking random samples with replacement.  The `.sample()` method is demonstrated below."
   ]
  },
  {
   "cell_type": "code",
   "execution_count": 6,
   "metadata": {},
   "outputs": [
    {
     "data": {
      "text/plain": [
       "201     400000\n",
       "80     2250000\n",
       "169     650000\n",
       "645    4000000\n",
       "Name: salary, dtype: int64"
      ]
     },
     "execution_count": 6,
     "metadata": {},
     "output_type": "execute_result"
    }
   ],
   "source": [
    "baseball_salaries['salary'].sample(4)"
   ]
  },
  {
   "cell_type": "markdown",
   "metadata": {},
   "source": [
    "### Sample Means\n",
    "\n",
    "Now, use this method to repeatedly take samples and build a list of sample means.  As a starting place let us take 1000 samples of size 5 and draw the histogram of the sample means.  What is the mean and standard deviation? "
   ]
  },
  {
   "cell_type": "code",
   "execution_count": 7,
   "metadata": {},
   "outputs": [],
   "source": [
    "#empty list for sample means\n",
    "sample_means5 = []\n",
    "for i in range(1000):\n",
    "    #your code below\n",
    "    sample_means5.append(baseball_salaries['salary'].sample(5, random_state = i).mean())\n",
    "    #pass\n"
   ]
  },
  {
   "cell_type": "code",
   "execution_count": 8,
   "metadata": {},
   "outputs": [
    {
     "data": {
      "image/png": "[encoded data removed]",
      "text/plain": [
       "<Figure size 432x288 with 1 Axes>"
      ]
     },
     "metadata": {
      "needs_background": "light"
     },
     "output_type": "display_data"
    }
   ],
   "source": [
    "#histogram of sample means\n",
    "plt.hist(sample_means5, bins = 80)\n",
    "plt.xlabel(\"Sample Mean (Salary)\")\n",
    "plt.ylabel(\"Frequency\")\n",
    "plt.title(\"Histogram of Sample Means (size of 5)\")\n",
    "\n",
    "plt.savefig('images/Hist_SampleMs5')"
   ]
  },
  {
   "cell_type": "markdown",
   "metadata": {},
   "source": [
    "Repeat the above exercise with samples of size:\n",
    "\n",
    "- 10\n",
    "- 25\n",
    "- 50\n",
    "- 100\n",
    "\n",
    "Your discussion post should explain how the distribution of these sample means changes as the sample size changes, and how the mean and standard deviation of the distributions change."
   ]
  },
  {
   "cell_type": "code",
   "execution_count": 9,
   "metadata": {},
   "outputs": [
    {
     "data": {
      "image/png": "[encoded data removed]",
      "text/plain": [
       "<Figure size 432x288 with 1 Axes>"
      ]
     },
     "metadata": {
      "needs_background": "light"
     },
     "output_type": "display_data"
    }
   ],
   "source": [
    "sample_means10 = []\n",
    "for i in range(1000):\n",
    "    #your code below\n",
    "    sample_means10.append(baseball_salaries['salary'].sample(10, random_state = i).mean())\n",
    "    #pass\n",
    "\n",
    "    \n",
    "plt.hist(sample_means10,  bins = 80)\n",
    "plt.xlabel(\"Sample Mean (Salary)\")\n",
    "plt.ylabel(\"Frequency\")\n",
    "plt.title(\"Histogram of Sample Means (size of 10)\")\n",
    "\n",
    "plt.savefig('images/Hist_SampleMs10')"
   ]
  },
  {
   "cell_type": "code",
   "execution_count": 10,
   "metadata": {},
   "outputs": [
    {
     "data": {
      "image/png": "[encoded data removed]",
      "text/plain": [
       "<Figure size 432x288 with 1 Axes>"
      ]
     },
     "metadata": {
      "needs_background": "light"
     },
     "output_type": "display_data"
    }
   ],
   "source": [
    "sample_means25 = []\n",
    "for i in range(1000):\n",
    "    #your code below\n",
    "    sample_means25.append(baseball_salaries['salary'].sample(25, random_state = i).mean())\n",
    "    #pass\n",
    "\n",
    "    \n",
    "plt.hist(sample_means25,  bins = 80)\n",
    "plt.xlabel(\"Sample Mean (Salary)\")\n",
    "plt.ylabel(\"Frequency\")\n",
    "plt.title(\"Histogram of Sample Means (size of 25)\")\n",
    "\n",
    "plt.savefig('images/Hist_SampleMs25')"
   ]
  },
  {
   "cell_type": "code",
   "execution_count": 11,
   "metadata": {},
   "outputs": [
    {
     "data": {
      "image/png": "[encoded data removed]",
      "text/plain": [
       "<Figure size 432x288 with 1 Axes>"
      ]
     },
     "metadata": {
      "needs_background": "light"
     },
     "output_type": "display_data"
    }
   ],
   "source": [
    "sample_means50 = []\n",
    "for i in range(1000):\n",
    "    #your code below\n",
    "    sample_means50.append(baseball_salaries['salary'].sample(50, random_state = i).mean())\n",
    "    #pass\n",
    "\n",
    "    \n",
    "plt.hist(sample_means50,  bins = 80)\n",
    "plt.xlabel(\"Sample Mean (Salary)\")\n",
    "plt.ylabel(\"Frequency\")\n",
    "plt.title(\"Histogram of Sample Means (size of 50)\")\n",
    "\n",
    "plt.savefig('images/Hist_SampleMs50')"
   ]
  },
  {
   "cell_type": "code",
   "execution_count": 12,
   "metadata": {},
   "outputs": [
    {
     "data": {
      "image/png": "[encoded data removed]",
      "text/plain": [
       "<Figure size 432x288 with 1 Axes>"
      ]
     },
     "metadata": {
      "needs_background": "light"
     },
     "output_type": "display_data"
    }
   ],
   "source": [
    "sample_means100 = []\n",
    "for i in range(1000):\n",
    "    #your code below\n",
    "    sample_means100.append(baseball_salaries['salary'].sample(100, random_state = i).mean())\n",
    "    #pass\n",
    "\n",
    "    \n",
    "plt.hist(sample_means100,  bins = 80)\n",
    "plt.xlabel(\"Sample Mean (Salary)\")\n",
    "plt.ylabel(\"Frequency\")\n",
    "plt.title(\"Histogram of Sample Means (size of 100)\")\n",
    "\n",
    "plt.savefig('images/Hist_SampleMs100')"
   ]
  },
  {
   "cell_type": "code",
   "execution_count": 13,
   "metadata": {},
   "outputs": [
    {
     "data": {
      "image/png": "[encoded data removed]",
      "text/plain": [
       "<Figure size 720x432 with 1 Axes>"
      ]
     },
     "metadata": {
      "needs_background": "light"
     },
     "output_type": "display_data"
    }
   ],
   "source": [
    "import matplotlib.patches as mpatches\n",
    "plt.figure(figsize=(10,6))\n",
    "plt.axes().set_facecolor(\"#EEEEEE\")\n",
    "plt.hist(sample_means5,  bins = 80, color = '#071952')\n",
    "plt.hist(sample_means10,  bins = 80,color = '#9AB3F5')\n",
    "plt.hist(sample_means25,  bins = 80, color ='#FFFFDD')\n",
    "plt.hist(sample_means50,  bins = 80, color = '#018383')\n",
    "plt.hist(sample_means100,  bins = 80, color = '#FF5200')\n",
    "\n",
    "\n",
    "plt.xlabel(\"Sample Mean (Salary)\")\n",
    "plt.ylabel(\"Frequency\")\n",
    "plt.title(\"Histogram of Sample Means (different sizes)\")\n",
    "\n",
    "patch_5 = mpatches.Patch(color='#071952', label='Size of 5')\n",
    "patch_10 = mpatches.Patch(color='#9AB3F5', label='Size of 10')\n",
    "patch_25 = mpatches.Patch(color='#FFFFDD', label='Size of 25')\n",
    "patch_50 = mpatches.Patch(color='#018383', label='Size of 50')\n",
    "patch_100 = mpatches.Patch(color='#FF5200', label='Size of 100')\n",
    "plt.legend(handles=[patch_5,patch_10, patch_25, patch_50, patch_100],\n",
    "          facecolor='grey', framealpha=.1)\n",
    "\n",
    "\n",
    "\n",
    "# Showing the plot \n",
    "plt.show()\n",
    "\n",
    "plt.savefig('images/Hist_SampleMsALL')"
   ]
  },
  {
   "cell_type": "code",
   "execution_count": 14,
   "metadata": {},
   "outputs": [
    {
     "name": "stdout",
     "output_type": "stream",
     "text": [
      "Mean: 2522727.78\n",
      "\n",
      " STD: 1591850.63\n"
     ]
    }
   ],
   "source": [
    "# 5\n",
    "print(\n",
    "   'Mean: '+str(round(np.mean(sample_means5),2)) +'\\n\\n',\n",
    "    'STD: '+str(round(np.std(sample_means5),2))\n",
    ")"
   ]
  },
  {
   "cell_type": "code",
   "execution_count": 15,
   "metadata": {},
   "outputs": [
    {
     "name": "stdout",
     "output_type": "stream",
     "text": [
      "Mean: 2483073.93\n",
      "\n",
      " STD: 1110635.56\n"
     ]
    }
   ],
   "source": [
    "# 10\n",
    "print(\n",
    "   'Mean: '+str(round(np.mean(sample_means10),2)) +'\\n\\n',\n",
    "    'STD: '+str(round(np.std(sample_means10),2))\n",
    ")"
   ]
  },
  {
   "cell_type": "code",
   "execution_count": 16,
   "metadata": {},
   "outputs": [
    {
     "name": "stdout",
     "output_type": "stream",
     "text": [
      "Mean: 2523736.9\n",
      "\n",
      " STD: 724156.43\n"
     ]
    }
   ],
   "source": [
    "# 25\n",
    "print(\n",
    "   'Mean: '+str(round(np.mean(sample_means25),2)) +'\\n\\n',\n",
    "    'STD: '+str(round(np.std(sample_means25),2))\n",
    ")"
   ]
  },
  {
   "cell_type": "code",
   "execution_count": 17,
   "metadata": {},
   "outputs": [
    {
     "name": "stdout",
     "output_type": "stream",
     "text": [
      "Mean: 2515681.76\n",
      "\n",
      " STD: 477832.25\n"
     ]
    }
   ],
   "source": [
    "# 50\n",
    "print(\n",
    "   'Mean: '+str(round(np.mean(sample_means50),2)) +'\\n\\n',\n",
    "    'STD: '+str(round(np.std(sample_means50),2))\n",
    ")"
   ]
  },
  {
   "cell_type": "code",
   "execution_count": 18,
   "metadata": {
    "scrolled": true
   },
   "outputs": [
    {
     "name": "stdout",
     "output_type": "stream",
     "text": [
      "Mean: 2521055.41\n",
      "\n",
      " STD: 333034.42\n"
     ]
    }
   ],
   "source": [
    "# 100\n",
    "print(\n",
    "   'Mean: '+str(round(np.mean(sample_means100),2)) +'\\n\\n',\n",
    "    'STD: '+str(round(np.std(sample_means100),2))\n",
    ")"
   ]
  },
  {
   "cell_type": "code",
   "execution_count": 19,
   "metadata": {},
   "outputs": [
    {
     "name": "stdout",
     "output_type": "stream",
     "text": [
      "Mean: 2497668.69\n",
      "\n",
      " STD: 3533706.0\n"
     ]
    }
   ],
   "source": [
    "# baseball_salaries\n",
    "\n",
    "# \n",
    "print(\n",
    "   'Mean: '+str(round(np.mean(baseball_salaries['salary']),2)) +'\\n\\n',\n",
    "    'STD: '+str(round(np.std(baseball_salaries['salary']),2))\n",
    ")"
   ]
  },
  {
   "cell_type": "code",
   "execution_count": 20,
   "metadata": {},
   "outputs": [
    {
     "data": {
      "text/plain": [
       "1591850.6348077853"
      ]
     },
     "execution_count": 20,
     "metadata": {},
     "output_type": "execute_result"
    }
   ],
   "source": [
    "np.mean(sample_means5)\n",
    "np.std(sample_means5)"
   ]
  },
  {
   "cell_type": "code",
   "execution_count": 21,
   "metadata": {},
   "outputs": [
    {
     "data": {
      "text/html": [
       "<div>\n",
       "<style scoped>\n",
       "    .dataframe tbody tr th:only-of-type {\n",
       "        vertical-align: middle;\n",
       "    }\n",
       "\n",
       "    .dataframe tbody tr th {\n",
       "        vertical-align: top;\n",
       "    }\n",
       "\n",
       "    .dataframe thead th {\n",
       "        text-align: right;\n",
       "    }\n",
       "</style>\n",
       "<table border=\"1\" class=\"dataframe\">\n",
       "  <thead>\n",
       "    <tr style=\"text-align: right;\">\n",
       "      <th></th>\n",
       "      <th>Sample size</th>\n",
       "      <th>Mean</th>\n",
       "      <th>Standard Deviation</th>\n",
       "    </tr>\n",
       "  </thead>\n",
       "  <tbody>\n",
       "    <tr>\n",
       "      <th>0</th>\n",
       "      <td>5</td>\n",
       "      <td>2.522728e+06</td>\n",
       "      <td>1.591851e+06</td>\n",
       "    </tr>\n",
       "    <tr>\n",
       "      <th>1</th>\n",
       "      <td>10</td>\n",
       "      <td>2.483074e+06</td>\n",
       "      <td>1.110636e+06</td>\n",
       "    </tr>\n",
       "    <tr>\n",
       "      <th>2</th>\n",
       "      <td>25</td>\n",
       "      <td>2.523737e+06</td>\n",
       "      <td>7.241564e+05</td>\n",
       "    </tr>\n",
       "    <tr>\n",
       "      <th>3</th>\n",
       "      <td>50</td>\n",
       "      <td>2.515682e+06</td>\n",
       "      <td>4.778322e+05</td>\n",
       "    </tr>\n",
       "    <tr>\n",
       "      <th>4</th>\n",
       "      <td>100</td>\n",
       "      <td>2.521055e+06</td>\n",
       "      <td>3.330344e+05</td>\n",
       "    </tr>\n",
       "  </tbody>\n",
       "</table>\n",
       "</div>"
      ],
      "text/plain": [
       "   Sample size          Mean  Standard Deviation\n",
       "0            5  2.522728e+06        1.591851e+06\n",
       "1           10  2.483074e+06        1.110636e+06\n",
       "2           25  2.523737e+06        7.241564e+05\n",
       "3           50  2.515682e+06        4.778322e+05\n",
       "4          100  2.521055e+06        3.330344e+05"
      ]
     },
     "execution_count": 21,
     "metadata": {},
     "output_type": "execute_result"
    }
   ],
   "source": [
    "dict={\n",
    "    'Sample size': [5, 10, 25, 50, 100],\n",
    "    'Mean':[np.mean(sample_means5), np.mean(sample_means10), np.mean(sample_means25), np.mean(sample_means50), np.mean(sample_means100)],\n",
    "    'Standard Deviation': [np.std(sample_means5), np.std(sample_means10), np.std(sample_means25), np.std(sample_means50), np.std(sample_means100)]\n",
    "}\n",
    "\n",
    "df = pd.DataFrame.from_dict(dict)\n",
    "df"
   ]
  },
  {
   "cell_type": "code",
   "execution_count": 22,
   "metadata": {},
   "outputs": [
    {
     "data": {
      "text/plain": [
       "Text(0.5, 1.0, 'Standard Deviation VS. Sample Size')"
      ]
     },
     "execution_count": 22,
     "metadata": {},
     "output_type": "execute_result"
    },
    {
     "data": {
      "image/png": "[encoded data removed]",
      "text/plain": [
       "<Figure size 432x288 with 1 Axes>"
      ]
     },
     "metadata": {
      "needs_background": "light"
     },
     "output_type": "display_data"
    }
   ],
   "source": [
    "plt.plot(df['Sample size'], df['Standard Deviation'])\n",
    "plt.title('Standard Deviation VS. Sample Size')\n",
    "\n",
    "\n",
    "#plt.savefig('images/StandardD_VS_SampleSize.png')"
   ]
  },
  {
   "cell_type": "code",
   "execution_count": 23,
   "metadata": {},
   "outputs": [
    {
     "data": {
      "text/html": [
       "<div>\n",
       "<style scoped>\n",
       "    .dataframe tbody tr th:only-of-type {\n",
       "        vertical-align: middle;\n",
       "    }\n",
       "\n",
       "    .dataframe tbody tr th {\n",
       "        vertical-align: top;\n",
       "    }\n",
       "\n",
       "    .dataframe thead th {\n",
       "        text-align: right;\n",
       "    }\n",
       "</style>\n",
       "<table border=\"1\" class=\"dataframe\">\n",
       "  <thead>\n",
       "    <tr style=\"text-align: right;\">\n",
       "      <th></th>\n",
       "      <th>Sample size</th>\n",
       "      <th>Mean_in_Millions</th>\n",
       "      <th>STD_in_Millions</th>\n",
       "    </tr>\n",
       "  </thead>\n",
       "  <tbody>\n",
       "    <tr>\n",
       "      <th>0</th>\n",
       "      <td>5</td>\n",
       "      <td>2.52</td>\n",
       "      <td>1.59</td>\n",
       "    </tr>\n",
       "    <tr>\n",
       "      <th>1</th>\n",
       "      <td>10</td>\n",
       "      <td>2.48</td>\n",
       "      <td>1.11</td>\n",
       "    </tr>\n",
       "    <tr>\n",
       "      <th>2</th>\n",
       "      <td>25</td>\n",
       "      <td>2.52</td>\n",
       "      <td>0.72</td>\n",
       "    </tr>\n",
       "    <tr>\n",
       "      <th>3</th>\n",
       "      <td>50</td>\n",
       "      <td>2.52</td>\n",
       "      <td>0.48</td>\n",
       "    </tr>\n",
       "    <tr>\n",
       "      <th>4</th>\n",
       "      <td>100</td>\n",
       "      <td>2.52</td>\n",
       "      <td>0.33</td>\n",
       "    </tr>\n",
       "  </tbody>\n",
       "</table>\n",
       "</div>"
      ],
      "text/plain": [
       "   Sample size  Mean_in_Millions  STD_in_Millions\n",
       "0            5              2.52             1.59\n",
       "1           10              2.48             1.11\n",
       "2           25              2.52             0.72\n",
       "3           50              2.52             0.48\n",
       "4          100              2.52             0.33"
      ]
     },
     "execution_count": 23,
     "metadata": {},
     "output_type": "execute_result"
    }
   ],
   "source": [
    "df['Mean_in_Millions'] = round(df['Mean']/1_000_000, 2)\n",
    "df['STD_in_Millions'] = round(df['Standard Deviation']/1_000_000, 2)\n",
    "\n",
    "df[['Sample size', 'Mean_in_Millions', 'STD_in_Millions']]"
   ]
  },
  {
   "cell_type": "code",
   "execution_count": 24,
   "metadata": {},
   "outputs": [
    {
     "data": {
      "image/png": "[encoded data removed]",
      "text/plain": [
       "<Figure size 576x360 with 1 Axes>"
      ]
     },
     "metadata": {
      "needs_background": "light"
     },
     "output_type": "display_data"
    }
   ],
   "source": [
    "fig, ax = plt.subplots(figsize=(8, 5))\n",
    "\n",
    "ax.plot(df['Sample size'], df['STD_in_Millions'])\n",
    "ax.set_xlabel('Sample Size')\n",
    "ax.set_ylabel('Standard Deviation')\n",
    "\n",
    "\n",
    "\n",
    "plt.title('Standard Deviation VS. Sample Size')\n",
    "plt.savefig('images/StandardD_VS_SampleSize.png')"
   ]
  },
  {
   "cell_type": "code",
   "execution_count": null,
   "metadata": {},
   "outputs": [],
   "source": []
  }
 ],
 "metadata": {
  "kernelspec": {
   "display_name": "Python 3 (ipykernel)",
   "language": "python",
   "name": "python3"
  },
  "language_info": {
   "codemirror_mode": {
    "name": "ipython",
    "version": 3
   },
   "file_extension": ".py",
   "mimetype": "text/x-python",
   "name": "python",
   "nbconvert_exporter": "python",
   "pygments_lexer": "ipython3",
   "version": "3.9.7"
  },
  "widgets": {
   "application/vnd.jupyter.widget-state+json": {
    "state": {},
    "version_major": 2,
    "version_minor": 0
   }
  }
 },
 "nbformat": 4,
 "nbformat_minor": 4
}
